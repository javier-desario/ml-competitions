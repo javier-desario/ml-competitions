{
 "cells": [
  {
   "cell_type": "markdown",
   "metadata": {},
   "source": [
    "# MeLi Data Challenge 2020"
   ]
  },
  {
   "cell_type": "markdown",
   "metadata": {},
   "source": [
    "#### Leaderboard score: 0.24563653006838435\n",
    "#### Leaderboard position: 44 / 180"
   ]
  },
  {
   "cell_type": "code",
   "execution_count": 1,
   "metadata": {},
   "outputs": [],
   "source": [
    "#Imports necesarios\n",
    "\n",
    "import gzip\n",
    "import json\n",
    "import gc #garbage collector - optimiza el uso de ram\n",
    "import math\n",
    "import random\n",
    "import csv\n",
    "\n",
    "from collections import Counter, defaultdict\n",
    "from tqdm.notebook import tqdm\n",
    "from pathlib import Path\n",
    "\n",
    "import numpy as np\n",
    "\n",
    "from sklearn.model_selection import train_test_split\n",
    "from sklearn.tree import DecisionTreeClassifier\n",
    "from sklearn.metrics import accuracy_score\n",
    "from sklearn.feature_extraction import DictVectorizer\n",
    "\n",
    "from challenge_metric import ndcg_score #Descargado de la pagina del challenge"
   ]
  },
  {
   "cell_type": "code",
   "execution_count": 2,
   "metadata": {},
   "outputs": [],
   "source": [
    "#Auxiliary function\n",
    "def jl_to_list(fname):\n",
    "    output = []\n",
    "    with gzip.open(fname, 'rb') as f: \n",
    "        for line in f:\n",
    "            output.append(json.loads(line)) \n",
    "    return output"
   ]
  },
  {
   "cell_type": "code",
   "execution_count": 3,
   "metadata": {},
   "outputs": [],
   "source": [
    "path = Path('C:\\\\Users\\\\desar\\\\OneDrive\\\\Escritorio\\\\data_science\\\\MeLi Challenge')"
   ]
  },
  {
   "cell_type": "code",
   "execution_count": 4,
   "metadata": {},
   "outputs": [],
   "source": [
    "samples = 20000 ### Only a sample\n",
    "rows = jl_to_list(path/'train_dataset.jl.gz')\n",
    "if samples:\n",
    "    rows = rows[:samples]\n",
    "    \n",
    "rows_train, rows_test= train_test_split(rows, test_size=0.2, random_state=42)"
   ]
  },
  {
   "cell_type": "code",
   "execution_count": 5,
   "metadata": {},
   "outputs": [],
   "source": [
    "item_data = jl_to_list(path/'item_data.jl.gz')\n",
    "metadata = {x['item_id']:x for x in item_data} #We create a dictionary to access easily access the item metadata\n",
    "all_items = list(metadata.keys())"
   ]
  },
  {
   "cell_type": "markdown",
   "metadata": {},
   "source": [
    "# Baseline\n",
    "\n",
    "Recomienda los ultimos items vistos por el user, y si no alcanza rellena con los top selling items de cada domain. Si aun asi no alcanza, rellena con los item mas comprados segun los items vistos por el user. Por ultimo sino rellena al azar."
   ]
  },
  {
   "cell_type": "code",
   "execution_count": 6,
   "metadata": {},
   "outputs": [
    {
     "data": {
      "application/vnd.jupyter.widget-view+json": {
       "model_id": "55c1e9b3593c4055ad5829b9d870ad50",
       "version_major": 2,
       "version_minor": 0
      },
      "text/plain": [
       "HBox(children=(FloatProgress(value=0.0, max=16000.0), HTML(value='')))"
      ]
     },
     "metadata": {},
     "output_type": "display_data"
    },
    {
     "name": "stdout",
     "output_type": "stream",
     "text": [
      "\n"
     ]
    }
   ],
   "source": [
    "sales_by_domain = defaultdict(lambda: defaultdict(int)) \n",
    "\n",
    "for row in tqdm(rows_train): #etapa de training \n",
    "    items = [row['item_bought']]\n",
    "    \n",
    "    for item in items:\n",
    "        domain = metadata[item]['domain_id']\n",
    "        sales_by_domain[domain][item] += 1 "
   ]
  },
  {
   "cell_type": "code",
   "execution_count": 7,
   "metadata": {},
   "outputs": [
    {
     "data": {
      "application/vnd.jupyter.widget-view+json": {
       "model_id": "7d519538ed8f45ca832c8fd290428768",
       "version_major": 2,
       "version_minor": 0
      },
      "text/plain": [
       "HBox(children=(FloatProgress(value=0.0, max=16000.0), HTML(value='')))"
      ]
     },
     "metadata": {},
     "output_type": "display_data"
    },
    {
     "name": "stdout",
     "output_type": "stream",
     "text": [
      "\n"
     ]
    }
   ],
   "source": [
    "views_purchases = defaultdict(lambda: defaultdict(int))\n",
    "for row in tqdm(rows_train):\n",
    "    for ev in row['user_history']:\n",
    "        if ev['event_type']=='view':\n",
    "            views_purchases[int(ev['event_info'])][int(row['item_bought'])]+=1 #para cada vista, que se compro"
   ]
  },
  {
   "cell_type": "code",
   "execution_count": 8,
   "metadata": {},
   "outputs": [],
   "source": [
    "def get_item_scores(row):\n",
    "    \"\"\"\n",
    "    Given a user history (row) returns a counter of the items purchased \n",
    "    for the items viewed by the user\n",
    "    \"\"\"\n",
    "    item_scores = defaultdict(int)\n",
    "    for ev in row['user_history']:\n",
    "        if ev['event_type']=='view':\n",
    "            for k,v in views_purchases[int(ev['event_info'])].items():\n",
    "                item_scores[k]+=v\n",
    "\n",
    "    return Counter(item_scores)"
   ]
  },
  {
   "cell_type": "code",
   "execution_count": 9,
   "metadata": {},
   "outputs": [],
   "source": [
    "def view_purchase_recom(row):\n",
    "    \"\"\"\n",
    "    Given a user history (row) returns the top 10 items purchased \n",
    "    for the items viewed by the user. If there are less than k, \n",
    "    it fill the remaining spots with random items.\n",
    "    \n",
    "    \"\"\"\n",
    "    reco = []\n",
    "    scores = get_item_scores(row)\n",
    "    most_common = scores.most_common()\n",
    "    for item, score in most_common:\n",
    "        reco.append(item) #solo me interesa el item, pero el for lo tengo que armar segun la est del dict\n",
    "        if len(reco) == 10:\n",
    "            return reco\n",
    "    \n",
    "    k = 10 - len(reco)    \n",
    "    relleno = random.choices(all_items, k=k)   \n",
    "    \n",
    "    return reco + relleno"
   ]
  },
  {
   "cell_type": "code",
   "execution_count": 10,
   "metadata": {},
   "outputs": [],
   "source": [
    "def domains_visited(row, max_views=15): \n",
    "    \"\"\"\n",
    "    For a given user story (row), returns a Counter \n",
    "    of the domains visited by the user.\n",
    "    \"\"\"\n",
    "    \n",
    "    domains = Counter()\n",
    "    \n",
    "    items_visited = [event['event_info'] for event in row['user_history'] if event['event_type'] == 'view']\n",
    "    \n",
    "    if len(items_visited) > max_views:\n",
    "        items_visited[:15]\n",
    "    \n",
    "    for item in items_visited:\n",
    "        domain = metadata[item]['domain_id']\n",
    "        domains[domain] += 1\n",
    "        \n",
    "    return domains"
   ]
  },
  {
   "cell_type": "code",
   "execution_count": 11,
   "metadata": {},
   "outputs": [],
   "source": [
    "def top_items(domain,k=10):\n",
    "    \"\"\"\n",
    "    Given the sales_x_domain info and a certain domain, \n",
    "    returns the top k selling items in that domain.\n",
    "    \"\"\"\n",
    "    \n",
    "    top_items = sales_by_domain[domain]\n",
    "    top_items = Counter(top_items) \n",
    "    top_items = top_items.most_common(k)\n",
    "    \n",
    "    return [top[0] for top in top_items]"
   ]
  },
  {
   "cell_type": "code",
   "execution_count": 12,
   "metadata": {},
   "outputs": [],
   "source": [
    "def top_by_best_domain(row, k=10):\n",
    "    \"\"\"\n",
    "    For a given user story (row) it returns the top k selling\n",
    "    items of the most visited domain.\n",
    "    \"\"\"\n",
    "    items = [event['event_info'] for event in row['user_history'] if event['event_type'] == 'view']\n",
    "    \n",
    "    if len(items) == 0:\n",
    "        return random.choices(all_items, k=k)\n",
    "        \n",
    "    domains = domains_visited(row)\n",
    "    best_domain = domains.most_common(1)[0][0]\n",
    "        \n",
    "    return top_items(best_domain,k=k)"
   ]
  },
  {
   "cell_type": "code",
   "execution_count": 13,
   "metadata": {},
   "outputs": [],
   "source": [
    "def last_viewed_and_best_domain(row, k=10):\n",
    "    \"\"\"\n",
    "    Given a user story (row) it extracts the last k unique items visited.\n",
    "    If there are less than k, it fills the remaining spots with best selling items from \n",
    "    most seen domain.\n",
    "    \"\"\"\n",
    "    views = [view for view in row['user_history'] if view['event_type'] == 'view']\n",
    "    views = sorted(views, key = lambda x: x['event_timestamp'], reverse = True)\n",
    "    item_viewed = [events['event_info'] for events in views]\n",
    "    \n",
    "    items = []\n",
    "    for item in item_viewed:\n",
    "        if item not in items:\n",
    "            items.append(item)\n",
    "    \n",
    "    #ahora ajusto a 10 values\n",
    "    \n",
    "    if len(items) == k:\n",
    "        return items\n",
    "    if len(items) > k:\n",
    "        return items[:k]\n",
    "    \n",
    "    if len(items) < k:\n",
    "        n = k - len(items)\n",
    "        items_relleno = []                              #Relleno con el baseline de best by domain\n",
    "        relleno_best_dom = top_by_best_domain(row, k=k)\n",
    "        for relleno in relleno_best_dom:\n",
    "            if relleno not in items:\n",
    "                items_relleno.append(relleno)\n",
    "        if len(items + items_relleno[:n]) == k:        \n",
    "            return items + items_relleno[:n]\n",
    "        \n",
    "        elif len(items + items_relleno[:n]) < k:        #Algunos domains solo tienen un item bought.\n",
    "            items_relleno_2 = []                        #Relleno con el baseline de views_purchases\n",
    "            N = k - len(items + items_relleno[:n])\n",
    "            relleno_views_purchase = view_purchase_recom(row)\n",
    "            for relleno in relleno_views_purchase:\n",
    "                if relleno not in items + items_relleno[:n]:\n",
    "                    items_relleno_2.append(relleno)\n",
    "            return items + items_relleno[:n] + items_relleno_2[:N]"
   ]
  },
  {
   "cell_type": "code",
   "execution_count": 14,
   "metadata": {
    "scrolled": false
   },
   "outputs": [
    {
     "data": {
      "application/vnd.jupyter.widget-view+json": {
       "model_id": "7b47391d7cb943649a4f4c4492142d64",
       "version_major": 2,
       "version_minor": 0
      },
      "text/plain": [
       "HBox(children=(FloatProgress(value=0.0, max=4000.0), HTML(value='')))"
      ]
     },
     "metadata": {},
     "output_type": "display_data"
    },
    {
     "name": "stdout",
     "output_type": "stream",
     "text": [
      "\n"
     ]
    }
   ],
   "source": [
    "y_preds = []\n",
    "for row in tqdm(rows_test):\n",
    "    baseline = last_viewed_and_best_domain(row)\n",
    "    y_preds.append(baseline)"
   ]
  },
  {
   "cell_type": "code",
   "execution_count": 15,
   "metadata": {
    "scrolled": false
   },
   "outputs": [
    {
     "name": "stdout",
     "output_type": "stream",
     "text": [
      "Your score is: 0.24766468938964836\n"
     ]
    }
   ],
   "source": [
    "y_true = [row['item_bought'] for row in rows_test]\n",
    "\n",
    "score = ndcg_score(y_true, y_preds, item_data,n_predictions=10)\n",
    "print(f'Your score is: {score}')"
   ]
  },
  {
   "cell_type": "markdown",
   "metadata": {},
   "source": [
    "# Mejoras al baseline"
   ]
  },
  {
   "cell_type": "markdown",
   "metadata": {},
   "source": [
    "Custom dataset: \n",
    "\n",
    "MultiClass calsification: ML for only the item bought and then 9 items left taken from baseline.\n",
    "\n",
    "- Tried on train_set sample of 20000 rows.\n",
    "\n",
    "- Features: last_seen_item (buen performance en el baseline, es conveniente incluirlo aca), most_viewed_item, m_viewed_veces, art vistos, view/search entries, condition, price. (todo en un dict con key el user_history)\n",
    "- labels: item_bought\n",
    "\n",
    "\n",
    "- Para tomar en cuenta el domain, se puede hacer subsets que sean cada uno de cada domain y entrenar modelos por separado y despues unir todo."
   ]
  },
  {
   "cell_type": "markdown",
   "metadata": {},
   "source": [
    "Comenzamos con el item most viewed"
   ]
  },
  {
   "cell_type": "code",
   "execution_count": 16,
   "metadata": {},
   "outputs": [],
   "source": [
    "def last_viewed(row):\n",
    "    \"\"\"devuelve el ultimo item visto por el user previo a la compra\"\"\"\n",
    "    \n",
    "    views = [view for view in row['user_history'] if view['event_type'] == 'view']\n",
    "    views = sorted(views, key = lambda x: x['event_timestamp'], reverse = True)\n",
    "    item_viewed = [events['event_info'] for events in views]\n",
    "    try:\n",
    "        last_viewed = item_viewed[0]\n",
    "    except IndexError: #me salio en algunas rows.\n",
    "        return str(0)\n",
    "    \n",
    "    return str(last_viewed) #Lo quiero como str porque no es un numero continuo! es una var categorica"
   ]
  },
  {
   "cell_type": "code",
   "execution_count": 17,
   "metadata": {},
   "outputs": [
    {
     "data": {
      "text/plain": [
       "'1356812'"
      ]
     },
     "execution_count": 17,
     "metadata": {},
     "output_type": "execute_result"
    }
   ],
   "source": [
    "#testeamos la funcion\n",
    "\n",
    "last_viewed(rows_train[784])"
   ]
  },
  {
   "cell_type": "code",
   "execution_count": 18,
   "metadata": {},
   "outputs": [],
   "source": [
    "def most_viewed(row):\n",
    "    \"\"\"Devuelve el item most viewed para cada row del train/test_set\"\"\"\n",
    "    \n",
    "    viewed = [ev['event_info'] for ev in row['user_history'] if ev['event_type'] == 'view']\n",
    "    \n",
    "    total_views = Counter(viewed)\n",
    "    \n",
    "    try:\n",
    "        return str(total_views.most_common(1)[0][0]) \n",
    "    except IndexError: #me salio en algunas rows.\n",
    "        return str(0)  "
   ]
  },
  {
   "cell_type": "code",
   "execution_count": 19,
   "metadata": {},
   "outputs": [
    {
     "data": {
      "text/plain": [
       "'358667'"
      ]
     },
     "execution_count": 19,
     "metadata": {},
     "output_type": "execute_result"
    }
   ],
   "source": [
    "#Testeamos la funcion\n",
    "\n",
    "most_viewed(rows_train[7894])"
   ]
  },
  {
   "cell_type": "code",
   "execution_count": 20,
   "metadata": {},
   "outputs": [],
   "source": [
    "def most_viewed_times(row):\n",
    "    \"\"\"Devuelve la cantidad de veces que el user vio el\n",
    "    item most viewed para cada row del train/test_set\"\"\"\n",
    "    \n",
    "    viewed = [ev['event_info'] for ev in row['user_history'] if ev['event_type'] == 'view']\n",
    "    \n",
    "    total_views = Counter(viewed)\n",
    "    \n",
    "    try:\n",
    "        return total_views.most_common(1)[0][1]\n",
    "    except IndexError: #me salio en algunas rows.\n",
    "        return int(0)"
   ]
  },
  {
   "cell_type": "code",
   "execution_count": 21,
   "metadata": {},
   "outputs": [],
   "source": [
    "#Testeamos la funcion\n",
    "\n",
    "for row in rows_train:\n",
    "    most_viewed_times(row)"
   ]
  },
  {
   "cell_type": "markdown",
   "metadata": {},
   "source": [
    "Seguimos con cantidad de articulos vistos"
   ]
  },
  {
   "cell_type": "code",
   "execution_count": 22,
   "metadata": {},
   "outputs": [],
   "source": [
    "def seen_items(row):\n",
    "    \"\"\"Devuelve cantidad de items seen por row\"\"\"\n",
    "    \n",
    "    viewed = [ev['event_info'] for ev in row['user_history'] if ev['event_type'] == 'view']\n",
    "    \n",
    "    return len(set(viewed))"
   ]
  },
  {
   "cell_type": "code",
   "execution_count": 23,
   "metadata": {},
   "outputs": [
    {
     "data": {
      "text/plain": [
       "3"
      ]
     },
     "execution_count": 23,
     "metadata": {},
     "output_type": "execute_result"
    }
   ],
   "source": [
    "#y testeamos\n",
    "\n",
    "seen_items(rows_train[7360])"
   ]
  },
  {
   "cell_type": "markdown",
   "metadata": {},
   "source": [
    "Ahora defino las views/searchs entries"
   ]
  },
  {
   "cell_type": "code",
   "execution_count": 24,
   "metadata": {},
   "outputs": [],
   "source": [
    "def views_to_searchs(row):\n",
    "    \"\"\"Devuelve relacion entre views y searchs de cada user\"\"\"\n",
    "    \n",
    "    searched = [ev['event_info'] for ev in row['user_history'] if ev['event_type'] == 'search']\n",
    "    views = seen_items(row)\n",
    "    searchs = len(set(searched))\n",
    "    \n",
    "    if searchs != 0:\n",
    "        return views / searchs\n",
    "    if searchs == 0:\n",
    "        return views / 0.1 #para evitar division sobre 0"
   ]
  },
  {
   "cell_type": "code",
   "execution_count": 25,
   "metadata": {},
   "outputs": [
    {
     "data": {
      "text/plain": [
       "1.5"
      ]
     },
     "execution_count": 25,
     "metadata": {},
     "output_type": "execute_result"
    }
   ],
   "source": [
    "#Testeamos\n",
    "\n",
    "views_to_searchs(rows_train[7360])"
   ]
  },
  {
   "cell_type": "markdown",
   "metadata": {},
   "source": [
    "#### Para crear features de la metadata no podemos utilizar el item bought como key por obvias razones\n",
    "#### utilizamos el item mas visto"
   ]
  },
  {
   "cell_type": "markdown",
   "metadata": {},
   "source": [
    "vamos con condition.\n",
    "Con pandas hariamos un merge entre ambos df (user history y metadata) con el item bought como key, pero aca\n",
    "no hace falta el merge porque trabajamos entre ambos dicts."
   ]
  },
  {
   "cell_type": "code",
   "execution_count": 26,
   "metadata": {},
   "outputs": [],
   "source": [
    "def item_condition(row):\n",
    "    \"\"\"devuelve la condition del most viewed item (new/used)\"\"\"\n",
    "    \n",
    "    viewed = [ev['event_info'] for ev in row['user_history'] if ev['event_type'] == 'view']\n",
    "    total_views = Counter(viewed)\n",
    "    try:\n",
    "        most_viewed = total_views.most_common(1)[0][0]\n",
    "    except IndexError: #me salio en algunas rows.\n",
    "        return int(0)  \n",
    "    \n",
    "    condition = metadata[most_viewed]['condition']#la metadata ya la definimos como un dict con el item bought como key\n",
    "    \n",
    "    #Hago mapping de los valores para que sean numericos\n",
    "    \n",
    "    if condition == 'new':\n",
    "        return int(1)\n",
    "    elif condition == 'used':\n",
    "        return int(0)\n",
    "    else: \n",
    "        return int(0) #por las dudas\n",
    "    "
   ]
  },
  {
   "cell_type": "code",
   "execution_count": 27,
   "metadata": {},
   "outputs": [
    {
     "data": {
      "text/plain": [
       "1"
      ]
     },
     "execution_count": 27,
     "metadata": {},
     "output_type": "execute_result"
    }
   ],
   "source": [
    "#Testeamos\n",
    "\n",
    "item_condition(rows_train[7360])"
   ]
  },
  {
   "cell_type": "markdown",
   "metadata": {},
   "source": [
    "Ahora ubicamos el Price"
   ]
  },
  {
   "cell_type": "code",
   "execution_count": 28,
   "metadata": {},
   "outputs": [],
   "source": [
    "def item_price(row):\n",
    "    \"\"\"devuelve el price del item mas visto (new/used)\"\"\"\n",
    "    \n",
    "    viewed = [ev['event_info'] for ev in row['user_history'] if ev['event_type'] == 'view']\n",
    "    total_views = Counter(viewed)\n",
    "    try:\n",
    "        most_viewed = total_views.most_common(1)[0][0]\n",
    "    except IndexError: #me salio en algunas rows.\n",
    "        return 0\n",
    "    \n",
    "    price = metadata[most_viewed]['price']\n",
    "    \n",
    "    try:\n",
    "        if float(price) > 10000:\n",
    "            return float(10000) #acotamos aca para evitar outliers\n",
    "                          #utilizamos 10000 por la distribucion analizada en la notebook DataSetAnalysis con Pandas\n",
    "        else:\n",
    "            return float(price)\n",
    "    except TypeError: #En caso de Nans, cuando no hay most_viewed porque no hay views!\n",
    "        return 0"
   ]
  },
  {
   "cell_type": "code",
   "execution_count": 29,
   "metadata": {},
   "outputs": [
    {
     "data": {
      "text/plain": [
       "169.9"
      ]
     },
     "execution_count": 29,
     "metadata": {},
     "output_type": "execute_result"
    }
   ],
   "source": [
    "#Testeamos\n",
    "\n",
    "item_price(rows_train[7360])"
   ]
  },
  {
   "cell_type": "markdown",
   "metadata": {},
   "source": [
    "Antes de complicarnos con el time buy, avanzamos creando el dict final para el entrenamiento del modelo.\n",
    "##### Si el modelo resulta ser competitivo con el baseline se puede crear la funcion para el time buy y agregarla sin problemas."
   ]
  },
  {
   "cell_type": "markdown",
   "metadata": {},
   "source": [
    "## Entrenamos un modelo en diferentes subsets de los datos segun el domain al cual pertenezcan.\n",
    "\n",
    "### Creamos un train set y un valid set diferente para cada grupo de items bought en el domain"
   ]
  },
  {
   "cell_type": "markdown",
   "metadata": {},
   "source": [
    "Empezamos contruyendo un custom set para toda la data y luego lo asignamos a cada domain"
   ]
  },
  {
   "cell_type": "code",
   "execution_count": 30,
   "metadata": {},
   "outputs": [
    {
     "data": {
      "application/vnd.jupyter.widget-view+json": {
       "model_id": "4430953a649141a4bcc2f9d4a34316e7",
       "version_major": 2,
       "version_minor": 0
      },
      "text/plain": [
       "HBox(children=(FloatProgress(value=0.0, max=16000.0), HTML(value='')))"
      ]
     },
     "metadata": {},
     "output_type": "display_data"
    },
    {
     "name": "stdout",
     "output_type": "stream",
     "text": [
      "\n"
     ]
    }
   ],
   "source": [
    "train_set = []\n",
    "\n",
    "for row in tqdm(rows_train):\n",
    "    \n",
    "    user_info = {'most_viewed_times': most_viewed_times(row),'seen_items': seen_items(row), \n",
    "                 'views_to_searchs': views_to_searchs(row), 'item_condition': item_condition(row),\n",
    "                 'item_price': item_price(row), 'most_viewed': most_viewed(row), 'last_viewed': last_viewed(row), \n",
    "                 'item_bought': row['item_bought']}\n",
    "    \n",
    "    train_set.append(user_info)"
   ]
  },
  {
   "cell_type": "code",
   "execution_count": 31,
   "metadata": {},
   "outputs": [
    {
     "data": {
      "application/vnd.jupyter.widget-view+json": {
       "model_id": "72b845f28d91424186ad496245d7206c",
       "version_major": 2,
       "version_minor": 0
      },
      "text/plain": [
       "HBox(children=(FloatProgress(value=0.0, max=4000.0), HTML(value='')))"
      ]
     },
     "metadata": {},
     "output_type": "display_data"
    },
    {
     "name": "stdout",
     "output_type": "stream",
     "text": [
      "\n"
     ]
    }
   ],
   "source": [
    "valid_set = []\n",
    "\n",
    "for row in tqdm(rows_test):\n",
    "    \n",
    "    user_info = {'most_viewed_times': most_viewed_times(row),'seen_items': seen_items(row), \n",
    "                 'views_to_searchs': views_to_searchs(row), 'item_condition': item_condition(row),\n",
    "                 'item_price': item_price(row), 'most_viewed': most_viewed(row), 'last_viewed': last_viewed(row),\n",
    "                 'item_bought': row['item_bought']}\n",
    "    \n",
    "    valid_set.append(user_info)"
   ]
  },
  {
   "cell_type": "code",
   "execution_count": 32,
   "metadata": {},
   "outputs": [],
   "source": [
    "def subset_assigner(dataset):\n",
    "    \"\"\"Asigna cada row a un subset segun el domain\n",
    "    del item mas visto\"\"\"\n",
    "    \n",
    "    domains = []               #initialize una list con los domains de los item boughts del dataset\n",
    "    subset = defaultdict(list) #indico que los values son lists\n",
    "    \n",
    "    #Creo la lista con los domains incluidos en el user history\n",
    "    \n",
    "    for dic in dataset:\n",
    "        most_viewed = dic['most_viewed']\n",
    "        domain = metadata[int(most_viewed)]['domain_id'] #uso el int() para que pueda leer el item de la metadata\n",
    "        domains.append(domain)\n",
    "    \n",
    "    #itero sobre cada domain para crear el subset\n",
    "    \n",
    "    for dom in tqdm(set(domains)):\n",
    "        for dic in dataset:\n",
    "            most_viewed = dic['most_viewed']\n",
    "            domain = metadata[int(most_viewed)]['domain_id']\n",
    "            if domain == dom:\n",
    "                subset[dom].append(list(dic.values())) #con los values solamente vectorizo el dataset directamente aca\n",
    "                \n",
    "    return subset            "
   ]
  },
  {
   "cell_type": "markdown",
   "metadata": {},
   "source": [
    "Tarda mucho en runnear"
   ]
  },
  {
   "cell_type": "code",
   "execution_count": 33,
   "metadata": {},
   "outputs": [
    {
     "data": {
      "application/vnd.jupyter.widget-view+json": {
       "model_id": "0a01e21763834e59bfe9756565b42e83",
       "version_major": 2,
       "version_minor": 0
      },
      "text/plain": [
       "HBox(children=(FloatProgress(value=0.0, max=2262.0), HTML(value='')))"
      ]
     },
     "metadata": {},
     "output_type": "display_data"
    },
    {
     "name": "stdout",
     "output_type": "stream",
     "text": [
      "\n"
     ]
    },
    {
     "data": {
      "application/vnd.jupyter.widget-view+json": {
       "model_id": "eaaad85f52db4ccea464e4d9ba22bba5",
       "version_major": 2,
       "version_minor": 0
      },
      "text/plain": [
       "HBox(children=(FloatProgress(value=0.0, max=1196.0), HTML(value='')))"
      ]
     },
     "metadata": {},
     "output_type": "display_data"
    },
    {
     "name": "stdout",
     "output_type": "stream",
     "text": [
      "\n"
     ]
    }
   ],
   "source": [
    "train_subset = subset_assigner(train_set)\n",
    "valid_subset = subset_assigner(valid_set)"
   ]
  },
  {
   "cell_type": "code",
   "execution_count": 34,
   "metadata": {},
   "outputs": [
    {
     "data": {
      "text/plain": [
       "[[1, 1, 10.0, 1, 57.9, '1592848', '1592848', 649408],\n",
       " [2, 6, 6.0, 1, 249.9, '1990337', '260994', 1106871],\n",
       " [5, 3, 1.0, 1, 119.0, '1399187', '2098106', 1731041]]"
      ]
     },
     "execution_count": 34,
     "metadata": {},
     "output_type": "execute_result"
    }
   ],
   "source": [
    "#Testeamos la funcion\n",
    "\n",
    "train_subset['MLB-BABIES_FORMULA']"
   ]
  },
  {
   "cell_type": "markdown",
   "metadata": {},
   "source": [
    "Para cada domain ya nos queda un array 2D listo para alimentar el modelo"
   ]
  },
  {
   "cell_type": "markdown",
   "metadata": {},
   "source": [
    "#### Entreno un modelo para cada domain."
   ]
  },
  {
   "cell_type": "markdown",
   "metadata": {},
   "source": [
    "Comienzo creando un dict que me mapea el modelo entrenado para cada dominio como key"
   ]
  },
  {
   "cell_type": "code",
   "execution_count": 35,
   "metadata": {},
   "outputs": [
    {
     "data": {
      "application/vnd.jupyter.widget-view+json": {
       "model_id": "6dbb895f1b75469b943697583ead2991",
       "version_major": 2,
       "version_minor": 0
      },
      "text/plain": [
       "HBox(children=(FloatProgress(value=0.0, max=2262.0), HTML(value='')))"
      ]
     },
     "metadata": {},
     "output_type": "display_data"
    },
    {
     "name": "stdout",
     "output_type": "stream",
     "text": [
      "\n"
     ]
    }
   ],
   "source": [
    "models_dict = defaultdict() #Dict con los modelos entrenados para cada domain (keys del dict)\n",
    "\n",
    "for dom in tqdm(train_subset.keys()):\n",
    "    try:\n",
    "        try: \n",
    "    \n",
    "            if dom in valid_subset.keys():\n",
    "                X_train = np.array(train_subset[dom])[:,:-1] #Todo menos el item bought\n",
    "                y_train = np.array(train_subset[dom])[:,-1]  #unicamente el item bought\n",
    "            \n",
    "                #Rellenamos con 0 los nans\n",
    "\n",
    "                X_train = np.nan_to_num(X_train) \n",
    "\n",
    "                clf = DecisionTreeClassifier(random_state=42)\n",
    "                model = clf.fit(X_train, y_train) \n",
    "                \n",
    "                models_dict[dom] = model\n",
    "\n",
    "        except IndexError: \n",
    "            pass\n",
    "    except ValueError: \n",
    "        pass"
   ]
  },
  {
   "cell_type": "code",
   "execution_count": 36,
   "metadata": {},
   "outputs": [
    {
     "data": {
      "text/plain": [
       "defaultdict(None,\n",
       "            {'MLB-BATHROOM_SUPPLIES': DecisionTreeClassifier(random_state=42),\n",
       "             'MLB-HORN_DRIVERS': DecisionTreeClassifier(random_state=42),\n",
       "             'MLB-HAIRDRESSING_CAPS': DecisionTreeClassifier(random_state=42),\n",
       "             'MLB-SHOWER_DOORS': DecisionTreeClassifier(random_state=42),\n",
       "             'MLB-COMPLETE_SKATEBOARDS': DecisionTreeClassifier(random_state=42),\n",
       "             'MLB-GARDEN_SPRAYERS': DecisionTreeClassifier(random_state=42),\n",
       "             'MLB-VEHICLE_WAXES': DecisionTreeClassifier(random_state=42),\n",
       "             'MLB-AUTOMOTIVE_IGNITION_COILS': DecisionTreeClassifier(random_state=42),\n",
       "             'MLM-BAR_SOAPS': DecisionTreeClassifier(random_state=42),\n",
       "             'MLB-EMERGENCY_LIGHTS': DecisionTreeClassifier(random_state=42),\n",
       "             'MLB-SPORTSWEAR': DecisionTreeClassifier(random_state=42),\n",
       "             'MLB-BEER_DISPENSERS': DecisionTreeClassifier(random_state=42),\n",
       "             'MLB-MOTORCYCLE_SHOCK_ABSORBERS': DecisionTreeClassifier(random_state=42),\n",
       "             'MLB-NIGHTGOWNS': DecisionTreeClassifier(random_state=42),\n",
       "             'MLM-AESTHETIC_TREATMENT_TABLES_AND_CHAIRS': DecisionTreeClassifier(random_state=42),\n",
       "             'MLB-GARDEN_AND_OUTDOOR_SUPPLIES': DecisionTreeClassifier(random_state=42),\n",
       "             'MLB-CELLPHONE_AND_TABLET_FLEX_CABLES': DecisionTreeClassifier(random_state=42),\n",
       "             'MLB-DISHWASHERS': DecisionTreeClassifier(random_state=42),\n",
       "             'MLM-GRAPHICS_CARDS': DecisionTreeClassifier(random_state=42),\n",
       "             'MLB-SLEEPING_BAGS': DecisionTreeClassifier(random_state=42),\n",
       "             'MLB-TEMPORARY_TATTOOS': DecisionTreeClassifier(random_state=42),\n",
       "             'MLB-WASHING_MACHINES': DecisionTreeClassifier(random_state=42),\n",
       "             'MLB-WARDROBES': DecisionTreeClassifier(random_state=42),\n",
       "             'MLM-LASER_LEVELS': DecisionTreeClassifier(random_state=42),\n",
       "             'MLB-KITCHEN_TOWELS': DecisionTreeClassifier(random_state=42),\n",
       "             'MLB-MOTORCYCLE_TIRES': DecisionTreeClassifier(random_state=42),\n",
       "             'MLB-BOOKS_MAGAZINES_AND_COMICS': DecisionTreeClassifier(random_state=42),\n",
       "             'MLM-TELEVISIONS': DecisionTreeClassifier(random_state=42),\n",
       "             'MLM-SUNGLASSES': DecisionTreeClassifier(random_state=42),\n",
       "             'MLB-DECORATIVE_NO_LIGHT_SIGNS': DecisionTreeClassifier(random_state=42),\n",
       "             'MLB-CUSHION_AND_PILLOW_COVERS': DecisionTreeClassifier(random_state=42),\n",
       "             'MLM-FANS': DecisionTreeClassifier(random_state=42),\n",
       "             'MLM-VIDEO_GAMES': DecisionTreeClassifier(random_state=42),\n",
       "             'MLM-SAFETY_FOOTWEAR': DecisionTreeClassifier(random_state=42),\n",
       "             'MLB-PENDRIVES': DecisionTreeClassifier(random_state=42),\n",
       "             'MLB-AUDIO_AND_VIDEO_CONVERTERS': DecisionTreeClassifier(random_state=42),\n",
       "             'MLB-SIDEBOARDS': DecisionTreeClassifier(random_state=42),\n",
       "             'MLB-AUTOMOTIVE_IGNITION_KEYS': DecisionTreeClassifier(random_state=42),\n",
       "             'MLB-BICYCLE_AND_MOTORCYCLE_ALARMS': DecisionTreeClassifier(random_state=42),\n",
       "             'MLB-BABY_BOTTLES': DecisionTreeClassifier(random_state=42),\n",
       "             'MLB-BABY_HIGH_CHAIRS': DecisionTreeClassifier(random_state=42),\n",
       "             'MLB-AIRBRUSHES': DecisionTreeClassifier(random_state=42),\n",
       "             'MLB-BOOTS_AND_BOOTIES': DecisionTreeClassifier(random_state=42),\n",
       "             'MLB-ELECTRICAL_CABLES': DecisionTreeClassifier(random_state=42),\n",
       "             'MLB-TOY_ROBOTS': DecisionTreeClassifier(random_state=42),\n",
       "             'MLB-AUTOMOTIVE_SIDE_VIEW_MIRROR_GLASSES': DecisionTreeClassifier(random_state=42),\n",
       "             'MLB-BED_SHEETS': DecisionTreeClassifier(random_state=42),\n",
       "             'MLB-MOTORCYCLE_HEADLIGHTS': DecisionTreeClassifier(random_state=42),\n",
       "             'MLB-INDUSTRIAL_MAGNETS': DecisionTreeClassifier(random_state=42),\n",
       "             'MLB-CHINESE_MEDICAL_CUPS_SETS': DecisionTreeClassifier(random_state=42),\n",
       "             'MLB-VINYL_ROLLS': DecisionTreeClassifier(random_state=42),\n",
       "             'MLB-GARDENING_AND_AGRICULTURE_SEEDS': DecisionTreeClassifier(random_state=42),\n",
       "             'MLB-SCREWS': DecisionTreeClassifier(random_state=42),\n",
       "             'MLB-MOVIES': DecisionTreeClassifier(random_state=42),\n",
       "             'MLM-TRADING_CARD_GAMES': DecisionTreeClassifier(random_state=42),\n",
       "             'MLB-COINS': DecisionTreeClassifier(random_state=42),\n",
       "             'MLM-HAMMER_DRILLS': DecisionTreeClassifier(random_state=42),\n",
       "             'MLM-PARTY_MASKS': DecisionTreeClassifier(random_state=42),\n",
       "             'MLB-CHRISTMAS_LIGHTS': DecisionTreeClassifier(random_state=42),\n",
       "             'MLB-ENGINE_OILS': DecisionTreeClassifier(random_state=42),\n",
       "             'MLB-MERCHANDISER_REFRIGERATORS': DecisionTreeClassifier(random_state=42),\n",
       "             'MLB-BABY_CUSHIONS_AND_PILLOWS': DecisionTreeClassifier(random_state=42),\n",
       "             'MLB-VEHICLE_STEREOS': DecisionTreeClassifier(random_state=42),\n",
       "             'MLM-JACKETS_AND_COATS': DecisionTreeClassifier(random_state=42),\n",
       "             'MLB-TRACTORS': DecisionTreeClassifier(random_state=42),\n",
       "             'MLB-ROOF_TILES': DecisionTreeClassifier(random_state=42),\n",
       "             'MLB-SANDER_MACHINES': DecisionTreeClassifier(random_state=42),\n",
       "             'MLM-T_SHIRTS': DecisionTreeClassifier(random_state=42),\n",
       "             'MLB-LASER_POINTERS': DecisionTreeClassifier(random_state=42),\n",
       "             'MLB-ROLLER_SKATES': DecisionTreeClassifier(random_state=42),\n",
       "             'MLB-BUNION_CORRECTORS': DecisionTreeClassifier(random_state=42),\n",
       "             'MLM-BOARD_GAMES': DecisionTreeClassifier(random_state=42),\n",
       "             'MLM-CELLPHONE_BATTERIES': DecisionTreeClassifier(random_state=42),\n",
       "             'MLB-ESSENTIAL_OILS': DecisionTreeClassifier(random_state=42),\n",
       "             'MLM-EYELASH_EXTENSIONS': DecisionTreeClassifier(random_state=42),\n",
       "             'MLB-SCREEN_PRINTERS': DecisionTreeClassifier(random_state=42),\n",
       "             'MLB-COMBUSTION_BRUSH_CUTTERS_AND_STRING_TRIMMERS': DecisionTreeClassifier(random_state=42),\n",
       "             'MLB-SCHOOL_AND_OFFICE_PAPERS': DecisionTreeClassifier(random_state=42),\n",
       "             'MLB-TOWEL_HOLDERS': DecisionTreeClassifier(random_state=42),\n",
       "             'MLB-EXTERNAL_LAPTOP_COOLERS': DecisionTreeClassifier(random_state=42),\n",
       "             'MLB-FARM_HOUSES_FOR_SALE': DecisionTreeClassifier(random_state=42),\n",
       "             'MLB-CEMENT_TILES': DecisionTreeClassifier(random_state=42),\n",
       "             'MLB-HAMMOCKS': DecisionTreeClassifier(random_state=42),\n",
       "             'MLB-LOAFERS_AND_OXFORDS': DecisionTreeClassifier(random_state=42),\n",
       "             'MLB-CRAFT_MOLDS': DecisionTreeClassifier(random_state=42),\n",
       "             'MLB-CUSHIONS': DecisionTreeClassifier(random_state=42),\n",
       "             'MLM-GAME_CONSOLE_POWER_SUPPLIES': DecisionTreeClassifier(random_state=42),\n",
       "             'MLM-VEHICLE_LED_BULBS': DecisionTreeClassifier(random_state=42),\n",
       "             'MLM-TACTICAL_AND_SPORTING_KNIVES_AND_BLADES': DecisionTreeClassifier(random_state=42),\n",
       "             'MLB-HORSE_SADDLES': DecisionTreeClassifier(random_state=42),\n",
       "             'MLB-SHOCK_MOUNT_INSOLATORS': DecisionTreeClassifier(random_state=42),\n",
       "             'MLM-ARTS_AND_CRAFTS': DecisionTreeClassifier(random_state=42),\n",
       "             'MLB-LED_CHIPS': DecisionTreeClassifier(random_state=42),\n",
       "             'MLB-VEHICLE_SPEAKERS': DecisionTreeClassifier(random_state=42),\n",
       "             'MLM-PLAYING_CARDS': DecisionTreeClassifier(random_state=42),\n",
       "             'MLB-SURVEILLANCE_CAMERAS': DecisionTreeClassifier(random_state=42),\n",
       "             'MLM-CARS_AND_VANS': DecisionTreeClassifier(random_state=42),\n",
       "             'MLB-KNEE_BRACES_SUPPORTS': DecisionTreeClassifier(random_state=42),\n",
       "             'MLB-REFRIGERATORS': DecisionTreeClassifier(random_state=42),\n",
       "             'MLB-MATTRESSES': DecisionTreeClassifier(random_state=42),\n",
       "             'MLB-VEHICLE_PARTS': DecisionTreeClassifier(random_state=42),\n",
       "             'MLB-RAZOR_CARTRIDGES': DecisionTreeClassifier(random_state=42),\n",
       "             'MLB-TACTICAL_VESTS': DecisionTreeClassifier(random_state=42),\n",
       "             'MLB-MANUAL_AIR_PUMPS': DecisionTreeClassifier(random_state=42),\n",
       "             'MLB-BEAUTY_AND_PERSONAL_CARE_SUPPLIES': DecisionTreeClassifier(random_state=42),\n",
       "             'MLB-FOOD_PROCESSORS': DecisionTreeClassifier(random_state=42),\n",
       "             'MLB-WRENCHES': DecisionTreeClassifier(random_state=42),\n",
       "             'MLB-LADDERS': DecisionTreeClassifier(random_state=42),\n",
       "             'MLB-AIR_CONDITIONERS': DecisionTreeClassifier(random_state=42),\n",
       "             'MLM-FLEA_AND_TICK_TREATMENTS': DecisionTreeClassifier(random_state=42),\n",
       "             'MLM-ALARMS_AND_SENSORS': DecisionTreeClassifier(random_state=42),\n",
       "             'MLM-MODEMS': DecisionTreeClassifier(random_state=42),\n",
       "             'MLM-TOOLS': DecisionTreeClassifier(random_state=42),\n",
       "             'MLB-ICE_BUCKETS': DecisionTreeClassifier(random_state=42),\n",
       "             'MLB-FLASHLIGHTS': DecisionTreeClassifier(random_state=42),\n",
       "             'MLM-TABLE_AND_DESK_LAMPS': DecisionTreeClassifier(random_state=42),\n",
       "             'MLB-TOILETS': DecisionTreeClassifier(random_state=42),\n",
       "             'MLB-PERMANENT_EPILATORS': DecisionTreeClassifier(random_state=42),\n",
       "             'MLB-CRASHED_CARS': DecisionTreeClassifier(random_state=42),\n",
       "             'MLB-MARTIAL_ARTS_UNIFORMS': DecisionTreeClassifier(random_state=42),\n",
       "             'MLB-SPEAKERS': DecisionTreeClassifier(random_state=42),\n",
       "             'MLM-AUDIO_AND_VIDEO_CABLES_AND_ADAPTERS': DecisionTreeClassifier(random_state=42),\n",
       "             'MLB-NAIL_POLISH': DecisionTreeClassifier(random_state=42),\n",
       "             'MLB-DOLLS': DecisionTreeClassifier(random_state=42),\n",
       "             'MLM-COMPUTER_EQUIPMENT_AND_SPARE_PARTS': DecisionTreeClassifier(random_state=42),\n",
       "             'MLB-FOOD_STORAGE_CONTAINERS': DecisionTreeClassifier(random_state=42),\n",
       "             'MLB-AUTOMOTIVE_EMBLEMS': DecisionTreeClassifier(random_state=42),\n",
       "             'MLB-DATA_CABLES_AND_ADAPTERS': DecisionTreeClassifier(random_state=42),\n",
       "             'MLM-COMPUTER_PROCESSORS': DecisionTreeClassifier(random_state=42),\n",
       "             'MLB-AUTOMOTIVE_LIFTS': DecisionTreeClassifier(random_state=42),\n",
       "             'MLM-EYESHADOWS': DecisionTreeClassifier(random_state=42),\n",
       "             'MLM-CAR_LIGHT_BULBS': DecisionTreeClassifier(random_state=42),\n",
       "             'MLB-VEHICLE_FUEL_FILTERS': DecisionTreeClassifier(random_state=42),\n",
       "             'MLB-TRAILER_HITCH_COUPLERS': DecisionTreeClassifier(random_state=42),\n",
       "             'MLB-DESKTOP_COMPUTER_POWER_SUPPLIES': DecisionTreeClassifier(random_state=42),\n",
       "             'MLB-MDF_BOARDS': DecisionTreeClassifier(random_state=42),\n",
       "             'MLB-BABY_CLOTHING': DecisionTreeClassifier(random_state=42),\n",
       "             'MLB-SUNSCREENS': DecisionTreeClassifier(random_state=42),\n",
       "             'MLB-COOKTOPS': DecisionTreeClassifier(random_state=42),\n",
       "             'MLB-DINING_CHAIRS': DecisionTreeClassifier(random_state=42),\n",
       "             'MLM-CALCULATORS': DecisionTreeClassifier(random_state=42),\n",
       "             'MLB-AIR_CONDITIONER_REMOTE_CONTROLS': DecisionTreeClassifier(random_state=42),\n",
       "             'MLM-BARBELL_WEIGHT_SETS': DecisionTreeClassifier(random_state=42),\n",
       "             'MLB-MEAT_GRINDERS': DecisionTreeClassifier(random_state=42),\n",
       "             'MLM-PC_KEYBOARDS': DecisionTreeClassifier(random_state=42),\n",
       "             'MLB-QUILTS_AND_COVERLETS': DecisionTreeClassifier(random_state=42),\n",
       "             'MLB-CAKE_TOPPERS': DecisionTreeClassifier(random_state=42),\n",
       "             'MLB-CV_JOINTS': DecisionTreeClassifier(random_state=42),\n",
       "             'MLB-JUMPSUITS_AND_OVERALLS': DecisionTreeClassifier(random_state=42),\n",
       "             'MLM-TOOTHBRUSHES': DecisionTreeClassifier(random_state=42),\n",
       "             'MLB-AUTOMOTIVE_CELLPHONE_AND_GPS_MOUNTS': DecisionTreeClassifier(random_state=42),\n",
       "             'MLB-FISHING_LURES': DecisionTreeClassifier(random_state=42),\n",
       "             'MLB-ELECTRONIC_ENTRANCE_INTERCOMS': DecisionTreeClassifier(random_state=42),\n",
       "             'MLB-WINDSHIELDS': DecisionTreeClassifier(random_state=42),\n",
       "             'MLB-CAKE_STANDS': DecisionTreeClassifier(random_state=42),\n",
       "             'MLB-STUFFED_TOYS': DecisionTreeClassifier(random_state=42),\n",
       "             'MLB-PAINT_ROLLERS': DecisionTreeClassifier(random_state=42),\n",
       "             'MLB-KITCHEN_POTS': DecisionTreeClassifier(random_state=42),\n",
       "             'MLM-TENTS': DecisionTreeClassifier(random_state=42),\n",
       "             'MLB-DECORATIVE_AND_PROMOTIONAL_MAGNETS': DecisionTreeClassifier(random_state=42),\n",
       "             'MLB-THERMOSES': DecisionTreeClassifier(random_state=42),\n",
       "             'MLM-ACTION_FIGURES': DecisionTreeClassifier(random_state=42),\n",
       "             'MLB-MOTORCYCLE_HELMETS': DecisionTreeClassifier(random_state=42),\n",
       "             'MLB-TEXTILE_ELASTICS': DecisionTreeClassifier(random_state=42),\n",
       "             'MLB-CELL_BATTERIES': DecisionTreeClassifier(random_state=42),\n",
       "             'MLB-PUZZLE_CUBES': DecisionTreeClassifier(random_state=42),\n",
       "             'MLB-SOLAR_PANELS': DecisionTreeClassifier(random_state=42),\n",
       "             'MLB-SAFETY_FOOTWEAR': DecisionTreeClassifier(random_state=42),\n",
       "             'MLB-ELECTRONIC_ACCESSORIES_AND_SPARE_PARTS': DecisionTreeClassifier(random_state=42),\n",
       "             'MLB-UNDERWEAR_ORGANIZERS': DecisionTreeClassifier(random_state=42),\n",
       "             'MLB-WOMEN_SWIMWEAR': DecisionTreeClassifier(random_state=42),\n",
       "             'MLB-AUTOMOTIVE_FOG_LIGHT_GRILLS': DecisionTreeClassifier(random_state=42),\n",
       "             'MLB-WATER_DISPENSERS': DecisionTreeClassifier(random_state=42),\n",
       "             'MLB-LAPTOP_BRIEFCASES': DecisionTreeClassifier(random_state=42),\n",
       "             'MLB-AUTOMOTIVE_WEATHERSTRIPS': DecisionTreeClassifier(random_state=42),\n",
       "             'MLB-KITCHEN_PLAYSETS': DecisionTreeClassifier(random_state=42),\n",
       "             'MLB-AUTOMOTIVE_FRONT_BUMPERS': DecisionTreeClassifier(random_state=42),\n",
       "             'MLB-SORTING_AND_STACKING_TOYS': DecisionTreeClassifier(random_state=42),\n",
       "             'MLB-PC_KEYBOARDS': DecisionTreeClassifier(random_state=42),\n",
       "             'MLM-OFFICE_SOFTWARE': DecisionTreeClassifier(random_state=42),\n",
       "             'MLM-DJ_CONTROLLERS': DecisionTreeClassifier(random_state=42),\n",
       "             'MLB-ACOUSTIC_GUITARS': DecisionTreeClassifier(random_state=42),\n",
       "             'MLM-WATER_DISPENSERS': DecisionTreeClassifier(random_state=42),\n",
       "             'MLB-AUTOMOTIVE_SIDE_VIEW_MIRRORS': DecisionTreeClassifier(random_state=42),\n",
       "             'MLB-BLENDERS': DecisionTreeClassifier(random_state=42),\n",
       "             'MLB-AESTHETIC_TREATMENT_TABLES_AND_CHAIRS': DecisionTreeClassifier(random_state=42),\n",
       "             'MLB-AUTOMOTIVE_FENDERS': DecisionTreeClassifier(random_state=42),\n",
       "             'MLM-TELEVISION_MAIN_PLATE_REPLACEMENTS': DecisionTreeClassifier(random_state=42),\n",
       "             'MLB-RINGS': DecisionTreeClassifier(random_state=42),\n",
       "             'MLB-INFLATABLE_POOLS': DecisionTreeClassifier(random_state=42),\n",
       "             'MLB-MUSICAL_INSTRUMENTS': DecisionTreeClassifier(random_state=42),\n",
       "             'MLM-COMPUTER_MICE': DecisionTreeClassifier(random_state=42),\n",
       "             'MLB-MULTIMETERS': DecisionTreeClassifier(random_state=42),\n",
       "             'MLB-COFFEE_CAPSULES': DecisionTreeClassifier(random_state=42),\n",
       "             'MLB-PLANTING_KITS': DecisionTreeClassifier(random_state=42),\n",
       "             'MLM-CELLPHONE_ACCESSORIES': DecisionTreeClassifier(random_state=42),\n",
       "             'MLB-CENTRIFUGAL_PUMPS': DecisionTreeClassifier(random_state=42),\n",
       "             'MLB-KITCHEN_SUPPLIES': DecisionTreeClassifier(random_state=42),\n",
       "             'MLB-DOORBELLS': DecisionTreeClassifier(random_state=42),\n",
       "             'MLB-SURVEILLANCE_MONITORING_KITS': DecisionTreeClassifier(random_state=42),\n",
       "             'MLB-SOLDERING_STATIONS': DecisionTreeClassifier(random_state=42),\n",
       "             'MLB-FOUNDATIONS': DecisionTreeClassifier(random_state=42),\n",
       "             'MLB-BLOOD_PRESSURE_MONITORS': DecisionTreeClassifier(random_state=42),\n",
       "             'MLB-OFFICE_EQUIPMENT': DecisionTreeClassifier(random_state=42),\n",
       "             'MLB-MUSICAL_INSTRUMENT_ACCESSORIES': DecisionTreeClassifier(random_state=42),\n",
       "             'MLB-AUTOMOTIVE_SPEAKERS': DecisionTreeClassifier(random_state=42),\n",
       "             'MLB-CAR_AC_DASHBOARD_VENTS': DecisionTreeClassifier(random_state=42),\n",
       "             'MLM-BABY_CARRIERS': DecisionTreeClassifier(random_state=42),\n",
       "             'MLB-SOFA_AND_FUTON_COVERS': DecisionTreeClassifier(random_state=42),\n",
       "             'MLB-MOTORCYCLE_GLOVES': DecisionTreeClassifier(random_state=42),\n",
       "             'MLM-SPORT_WATCHES': DecisionTreeClassifier(random_state=42),\n",
       "             'MLB-ELECTRIC_POTS_SKILLETS_AND_RICE_COOKERS': DecisionTreeClassifier(random_state=42),\n",
       "             'MLM-VEHICLE_PARTS': DecisionTreeClassifier(random_state=42),\n",
       "             'MLM-SURVEILLANCE_CAMERAS': DecisionTreeClassifier(random_state=42),\n",
       "             'MLB-HOOKAHS': DecisionTreeClassifier(random_state=42),\n",
       "             'MLB-MAT_AND_LIQUID_REPELLENT_ELECTRIC_DEVICES': DecisionTreeClassifier(random_state=42),\n",
       "             'MLB-BICYCLE_ACCESSORIES_AND_SPARE_PARTS': DecisionTreeClassifier(random_state=42),\n",
       "             'MLM-UNCLASSIFIED_PRODUCTS': DecisionTreeClassifier(random_state=42),\n",
       "             'MLM-PENDRIVES': DecisionTreeClassifier(random_state=42),\n",
       "             'MLB-CAR_RACE_TRACKS_AND_BLAST_LAUNCHERS': DecisionTreeClassifier(random_state=42),\n",
       "             'MLM-SHIRTS': DecisionTreeClassifier(random_state=42),\n",
       "             'MLB-UNIVERSAL_CAR_REMOTES': DecisionTreeClassifier(random_state=42),\n",
       "             'MLB-ENGINE_INTAKE_HOSES': DecisionTreeClassifier(random_state=42),\n",
       "             'MLB-LED_STRIPS': DecisionTreeClassifier(random_state=42),\n",
       "             'MLB-PARKING_SENSORS': DecisionTreeClassifier(random_state=42),\n",
       "             'MLM-VIBRATORS': DecisionTreeClassifier(random_state=42),\n",
       "             'MLB-COMPUTER_MOTHERBOARDS': DecisionTreeClassifier(random_state=42),\n",
       "             'MLB-BARBECUE_TOOL_SETS': DecisionTreeClassifier(random_state=42),\n",
       "             'MLB-INTEGRATED_CIRCUITS': DecisionTreeClassifier(random_state=42),\n",
       "             'MLB-RANGES': DecisionTreeClassifier(random_state=42),\n",
       "             'MLB-ARTISTIC_ACRYLIC_PAINTS': DecisionTreeClassifier(random_state=42),\n",
       "             'MLB-DOLL_STROLLERS': DecisionTreeClassifier(random_state=42),\n",
       "             'MLB-UNCLASSIFIED_PRODUCTS': DecisionTreeClassifier(random_state=42),\n",
       "             'MLM-HOME_DECOR': DecisionTreeClassifier(random_state=42),\n",
       "             'MLB-HEADLAMPS': DecisionTreeClassifier(random_state=42),\n",
       "             'MLB-AUDIO_CROSSOVERS': DecisionTreeClassifier(random_state=42),\n",
       "             'MLB-MAKEUP_VANITIES': DecisionTreeClassifier(random_state=42),\n",
       "             'MLB-FASHION_ACCESSORIES': DecisionTreeClassifier(random_state=42),\n",
       "             'MLB-HOME_APPLIANCES': DecisionTreeClassifier(random_state=42),\n",
       "             'MLB-DOG_BEDS': DecisionTreeClassifier(random_state=42),\n",
       "             'MLB-SLATWALL_PANELS': DecisionTreeClassifier(random_state=42),\n",
       "             'MLM-WALL_AND_CEILING_LIGHTS': DecisionTreeClassifier(random_state=42),\n",
       "             'MLB-COFFEE_MAKERS': DecisionTreeClassifier(random_state=42),\n",
       "             'MLB-SUNBATHING_CHAIRS': DecisionTreeClassifier(random_state=42),\n",
       "             'MLB-SPORT_SHORTS': DecisionTreeClassifier(random_state=42),\n",
       "             'MLB-POWER_INVERTERS': DecisionTreeClassifier(random_state=42),\n",
       "             'MLB-AUTOMOTIVE_ANGEL_EYES': DecisionTreeClassifier(random_state=42),\n",
       "             'MLB-SERVING_AND_HOME_TRAYS': DecisionTreeClassifier(random_state=42),\n",
       "             'MLB-NETWORK_CABLES': DecisionTreeClassifier(random_state=42),\n",
       "             'MLB-MUGS': DecisionTreeClassifier(random_state=42),\n",
       "             'MLB-TOWEL_SETS': DecisionTreeClassifier(random_state=42),\n",
       "             'MLM-TOILETS': DecisionTreeClassifier(random_state=42),\n",
       "             'MLB-CAMERAS': DecisionTreeClassifier(random_state=42),\n",
       "             'MLB-AUTOMOTIVE_WHEEL_COVERS': DecisionTreeClassifier(random_state=42),\n",
       "             'MLB-TELEPHONES': DecisionTreeClassifier(random_state=42),\n",
       "             'MLB-FLOOD_LIGHTS': DecisionTreeClassifier(random_state=42),\n",
       "             'MLB-INDUSTRIAL_AND_COMMERCIAL_BAG_SEALERS': DecisionTreeClassifier(random_state=42),\n",
       "             'MLB-ELECTRIC_PRESSURE_WASHERS': DecisionTreeClassifier(random_state=42),\n",
       "             'MLB-ELECTRICAL_SUPPLIES': DecisionTreeClassifier(random_state=42),\n",
       "             'MLB-PANTS': DecisionTreeClassifier(random_state=42),\n",
       "             'MLB-BIRD_TOYS': DecisionTreeClassifier(random_state=42),\n",
       "             'MLB-CARS_AND_VANS_COVERS': DecisionTreeClassifier(random_state=42),\n",
       "             'MLB-ANTI_SNORE_CHIN_STRAPS': DecisionTreeClassifier(random_state=42),\n",
       "             'MLB-FLOORS_WALLS_AND_APERTURES': DecisionTreeClassifier(random_state=42),\n",
       "             'MLB-CLAMP_METERS': DecisionTreeClassifier(random_state=42),\n",
       "             'MLB-MOTORCYCLE_HANDLEBARS': DecisionTreeClassifier(random_state=42),\n",
       "             'MLB-HAIRDRESSING_TRAINING_HEADS': DecisionTreeClassifier(random_state=42),\n",
       "             'MLB-AUTOMOTIVE_AC_FULL_KITS': DecisionTreeClassifier(random_state=42),\n",
       "             'MLB-TROLLEY_AND_FURNITURE_CASTERS': DecisionTreeClassifier(random_state=42),\n",
       "             'MLB-KITCHEN_CABINETS': DecisionTreeClassifier(random_state=42),\n",
       "             'MLB-METAL_DETECTORS': DecisionTreeClassifier(random_state=42),\n",
       "             'MLB-CAR_SCREENS': DecisionTreeClassifier(random_state=42),\n",
       "             'MLB-DIECAST_VEHICLES': DecisionTreeClassifier(random_state=42),\n",
       "             'MLB-WOMEN_SPORT_SWIMWEAR': DecisionTreeClassifier(random_state=42),\n",
       "             'MLM-OFFICE_CHAIRS': DecisionTreeClassifier(random_state=42),\n",
       "             'MLB-AB_ROLLER_WHEELS': DecisionTreeClassifier(random_state=42),\n",
       "             'MLB-CELLPHONE_TABLET_AND_GPS_SCREEN_PROTECTORS': DecisionTreeClassifier(random_state=42),\n",
       "             'MLB-DECORATIVE_FLUORESCENT_STICKERS': DecisionTreeClassifier(random_state=42),\n",
       "             'MLB-SKIN_CARE_SUPPLIES': DecisionTreeClassifier(random_state=42),\n",
       "             'MLB-BOOKS': DecisionTreeClassifier(random_state=42),\n",
       "             'MLB-BOOKCASES': DecisionTreeClassifier(random_state=42),\n",
       "             'MLB-JIG_SAWS': DecisionTreeClassifier(random_state=42),\n",
       "             'MLB-PARTY_MASKS': DecisionTreeClassifier(random_state=42),\n",
       "             'MLB-BABY_CRIBS_AND_BASSINETS': DecisionTreeClassifier(random_state=42),\n",
       "             'MLB-SWEATSHIRTS_AND_HOODIES': DecisionTreeClassifier(random_state=42),\n",
       "             'MLB-MEMORY_CARDS': DecisionTreeClassifier(random_state=42),\n",
       "             'MLB-TOOLS': DecisionTreeClassifier(random_state=42),\n",
       "             'MLB-VIDEO_CAMERAS': DecisionTreeClassifier(random_state=42),\n",
       "             'MLB-CAR_AIR_FRESHENERS': DecisionTreeClassifier(random_state=42),\n",
       "             'MLM-EARRINGS': DecisionTreeClassifier(random_state=42),\n",
       "             'MLM-CHRISTMAS_TREES': DecisionTreeClassifier(random_state=42),\n",
       "             'MLB-INDOOR_CURTAINS_AND_BLINDS': DecisionTreeClassifier(random_state=42),\n",
       "             'MLM-CLOTHING': DecisionTreeClassifier(random_state=42),\n",
       "             'MLB-TORQUE_WRENCHES': DecisionTreeClassifier(random_state=42),\n",
       "             'MLB-WALL_AND_CEILING_LIGHTS': DecisionTreeClassifier(random_state=42),\n",
       "             'MLB-CLEANING_MOPS': DecisionTreeClassifier(random_state=42),\n",
       "             'MLB-COMPUTER_AND_TV_FLEX_CABLES': DecisionTreeClassifier(random_state=42),\n",
       "             'MLB-SHOWER_CADDIES': DecisionTreeClassifier(random_state=42),\n",
       "             'MLB-KITCHEN_FAUCETS': DecisionTreeClassifier(random_state=42),\n",
       "             'MLB-FLEA_AND_TICK_TREATMENTS': DecisionTreeClassifier(random_state=42),\n",
       "             'MLB-AIR_COMPRESSORS': DecisionTreeClassifier(random_state=42),\n",
       "             'MLB-BOARD_GAMES': DecisionTreeClassifier(random_state=42),\n",
       "             'MLB-CARPETS': DecisionTreeClassifier(random_state=42),\n",
       "             'MLM-MARKERS_AND_HIGHLIGHTERS': DecisionTreeClassifier(random_state=42),\n",
       "             'MLB-KIDS_TRICYCLES': DecisionTreeClassifier(random_state=42),\n",
       "             'MLM-AUTOMOTIVE_WHEEL_NUT_COVERS': DecisionTreeClassifier(random_state=42),\n",
       "             'MLB-COMBUSTION_CHAINSAWS': DecisionTreeClassifier(random_state=42),\n",
       "             'MLM-NECKLACES': DecisionTreeClassifier(random_state=42),\n",
       "             'MLB-CAMPING_AND_FISHING_EQUIPMENT': DecisionTreeClassifier(random_state=42),\n",
       "             'MLM-BEAUTY_AND_PERSONAL_CARE_SUPPLIES': DecisionTreeClassifier(random_state=42),\n",
       "             'MLB-HAND_POLISHERS': DecisionTreeClassifier(random_state=42),\n",
       "             'MLB-HEADPHONES': DecisionTreeClassifier(random_state=42),\n",
       "             'MLM-CHOCOLATES': DecisionTreeClassifier(random_state=42),\n",
       "             'MLB-MOTORCYCLE_CASES': DecisionTreeClassifier(random_state=42),\n",
       "             'MLB-NON_CORRECTIVE_CONTACT_LENSES': DecisionTreeClassifier(random_state=42),\n",
       "             'MLB-FRYING_PANS_WOKS_GRIDDLES_AND_GRILL_PANS': DecisionTreeClassifier(random_state=42),\n",
       "             'MLM-ANIMAL_AND_PET_PRODUCTS': DecisionTreeClassifier(random_state=42),\n",
       "             'MLB-BRAKE_BOOSTERS': DecisionTreeClassifier(random_state=42),\n",
       "             'MLB-SEWING_MACHINE_PRESSER_FEET': DecisionTreeClassifier(random_state=42),\n",
       "             'MLB-BICYCLE_LIGHTS': DecisionTreeClassifier(random_state=42),\n",
       "             'MLB-TAMBOURINES': DecisionTreeClassifier(random_state=42),\n",
       "             'MLB-BRACELETS_AND_ANKLE_BRACES': DecisionTreeClassifier(random_state=42),\n",
       "             'MLB-WINES': DecisionTreeClassifier(random_state=42),\n",
       "             'MLB-CRIB_BEDDING_SETS': DecisionTreeClassifier(random_state=42),\n",
       "             'MLB-WATER_HEATERS': DecisionTreeClassifier(random_state=42),\n",
       "             'MLB-HAMMER_DRILLS': DecisionTreeClassifier(random_state=42),\n",
       "             'MLB-JACKETS_AND_COATS': DecisionTreeClassifier(random_state=42),\n",
       "             'MLB-ROUTERS_AND_WIRELESS_SYSTEMS': DecisionTreeClassifier(random_state=42),\n",
       "             'MLB-MOBILE_DEVICE_CHARGERS': DecisionTreeClassifier(random_state=42),\n",
       "             'MLB-TRUCKS': DecisionTreeClassifier(random_state=42),\n",
       "             'MLM-MICROPHONES': DecisionTreeClassifier(random_state=42),\n",
       "             'MLB-BABIES_FORMULA': DecisionTreeClassifier(random_state=42),\n",
       "             'MLB-STUDIO_MONITORS': DecisionTreeClassifier(random_state=42),\n",
       "             'MLM-COOKTOPS': DecisionTreeClassifier(random_state=42),\n",
       "             'MLB-KITCHEN_BAKING_DISHES_AND_SHEETS': DecisionTreeClassifier(random_state=42),\n",
       "             'MLB-XENON_KITS': DecisionTreeClassifier(random_state=42),\n",
       "             'MLB-LAPTOP_CHARGERS': DecisionTreeClassifier(random_state=42),\n",
       "             'MLB-HOME_LIGHTING_SUPPLIES': DecisionTreeClassifier(random_state=42),\n",
       "             'MLB-NAIL_DUST_COLLECTORS': DecisionTreeClassifier(random_state=42),\n",
       "             'MLB-POWER_GRINDERS': DecisionTreeClassifier(random_state=42),\n",
       "             'MLB-BAR_CODE_SCANNERS': DecisionTreeClassifier(random_state=42),\n",
       "             'MLB-CLOTHES_HANGERS': DecisionTreeClassifier(random_state=42),\n",
       "             'MLB-CAR_SCANNERS': DecisionTreeClassifier(random_state=42),\n",
       "             'MLM-FOOTBALL_GOALKEEPER_GLOVES': DecisionTreeClassifier(random_state=42),\n",
       "             'MLB-ORTHODONTIC_BRACKETS': DecisionTreeClassifier(random_state=42),\n",
       "             'MLM-MASSAGE_EQUIPMENT': DecisionTreeClassifier(random_state=42),\n",
       "             'MLB-EARRINGS': DecisionTreeClassifier(random_state=42),\n",
       "             'MLB-VIBRATORS': DecisionTreeClassifier(random_state=42),\n",
       "             'MLB-LIQUID_HAND_AND_BODY_SOAPS': DecisionTreeClassifier(random_state=42),\n",
       "             'MLB-SCOOTERS': DecisionTreeClassifier(random_state=42),\n",
       "             'MLB-DESIGN_AND_MULTIMEDIA_SOFTWARE': DecisionTreeClassifier(random_state=42),\n",
       "             'MLB-NEBULIZERS': DecisionTreeClassifier(random_state=42),\n",
       "             'MLB-SOUND_CONSOLES_AND_MIXERS': DecisionTreeClassifier(random_state=42),\n",
       "             'MLB-TATTOO_KITS': DecisionTreeClassifier(random_state=42),\n",
       "             'MLB-MOTORCYCLE_PANTS': DecisionTreeClassifier(random_state=42),\n",
       "             'MLM-AIRSOFT_GUNS': DecisionTreeClassifier(random_state=42),\n",
       "             'MLB-GYM_GLOVES': DecisionTreeClassifier(random_state=42),\n",
       "             'MLM-MOTORCYCLE_HELMETS': DecisionTreeClassifier(random_state=42),\n",
       "             'MLB-OIL_DIFFUSERS': DecisionTreeClassifier(random_state=42),\n",
       "             'MLB-ROLLING_PINS': DecisionTreeClassifier(random_state=42),\n",
       "             'MLB-VEHICLE_GAUGE_HOLDERS': DecisionTreeClassifier(random_state=42),\n",
       "             'MLM-SPEAKERS': DecisionTreeClassifier(random_state=42),\n",
       "             'MLB-DRILLS_SCREWDRIVERS': DecisionTreeClassifier(random_state=42),\n",
       "             'MLM-BRAS': DecisionTreeClassifier(random_state=42),\n",
       "             'MLB-BUSES': DecisionTreeClassifier(random_state=42),\n",
       "             'MLB-MOTORCYCLE_EXHAUSTS': DecisionTreeClassifier(random_state=42),\n",
       "             'MLB-CUT_OFF_AND_GRINDING_WHEELS': DecisionTreeClassifier(random_state=42),\n",
       "             'MLB-OPERATING_SYSTEMS': DecisionTreeClassifier(random_state=42),\n",
       "             'MLB-HOUSES_FOR_RENT': DecisionTreeClassifier(random_state=42),\n",
       "             'MLB-HAIR_SHAMPOOS_AND_CONDITIONERS': DecisionTreeClassifier(random_state=42),\n",
       "             'MLB-HEAT_GUNS': DecisionTreeClassifier(random_state=42),\n",
       "             'MLB-PROJECTORS': DecisionTreeClassifier(random_state=42),\n",
       "             'MLB-MICRONEEDLE_ROLLERS': DecisionTreeClassifier(random_state=42),\n",
       "             'MLM-SCHOOL_AND_OFFICE_SUPPLIES': DecisionTreeClassifier(random_state=42),\n",
       "             'MLB-POWERED_RIDE_ON_TOYS': DecisionTreeClassifier(random_state=42),\n",
       "             'MLB-FOOTBALL_KITS': DecisionTreeClassifier(random_state=42),\n",
       "             'MLB-SPICE_RACKS': DecisionTreeClassifier(random_state=42),\n",
       "             'MLB-VEHICLE_ACCESSORIES': DecisionTreeClassifier(random_state=42),\n",
       "             'MLB-PASTRY_MAKING_SETS': DecisionTreeClassifier(random_state=42),\n",
       "             'MLB-BODYWEIGHT_SCALES': DecisionTreeClassifier(random_state=42),\n",
       "             'MLB-LIGHT_BULBS': DecisionTreeClassifier(random_state=42),\n",
       "             'MLB-GEL_NAIL_KITS': DecisionTreeClassifier(random_state=42),\n",
       "             'MLB-MICROWAVES': DecisionTreeClassifier(random_state=42),\n",
       "             'MLB-FURNITURE_DOOR_AND_WINDOW_HINGES': DecisionTreeClassifier(random_state=42),\n",
       "             'MLB-DINING_TABLES': DecisionTreeClassifier(random_state=42),\n",
       "             'MLB-VEHICLE_BRAKE_PADS': DecisionTreeClassifier(random_state=42),\n",
       "             'MLB-ROUTERS': DecisionTreeClassifier(random_state=42),\n",
       "             'MLB-GRAPHICS_CARDS': DecisionTreeClassifier(random_state=42),\n",
       "             'MLB-CYCLING_COMPUTERS': DecisionTreeClassifier(random_state=42),\n",
       "             'MLM-MEMORY_CARDS': DecisionTreeClassifier(random_state=42),\n",
       "             'MLB-BABY_CAR_SEATS': DecisionTreeClassifier(random_state=42),\n",
       "             'MLB-TOYS_AND_GAMES': DecisionTreeClassifier(random_state=42),\n",
       "             'MLB-OVENS': DecisionTreeClassifier(random_state=42),\n",
       "             'MLB-AUTOMOTIVE_BATTERIES': DecisionTreeClassifier(random_state=42),\n",
       "             'MLB-MOTORCYCLE_FENDERS': DecisionTreeClassifier(random_state=42),\n",
       "             'MLM-PRINTERS': DecisionTreeClassifier(random_state=42),\n",
       "             'MLB-RAM_MEMORY_MODULES': DecisionTreeClassifier(random_state=42),\n",
       "             'MLB-BASEBALL_AND_SOFTBALL_BATS': DecisionTreeClassifier(random_state=42),\n",
       "             'MLB-MOTORCYCLE_CRASH_BARS': DecisionTreeClassifier(random_state=42),\n",
       "             'MLB-PORTABLE_CELLPHONE_CHARGERS': DecisionTreeClassifier(random_state=42),\n",
       "             'MLB-COOKIES_CUTTERS': DecisionTreeClassifier(random_state=42),\n",
       "             'MLB-FLATS': DecisionTreeClassifier(random_state=42),\n",
       "             'MLB-NETWORK_CABLE_ADAPTERS': DecisionTreeClassifier(random_state=42),\n",
       "             'MLB-PERFORMANCE_SUSPENSION_KITS': DecisionTreeClassifier(random_state=42),\n",
       "             'MLB-CLASSIC_CARS': DecisionTreeClassifier(random_state=42),\n",
       "             'MLB-KIDS_TENTS': DecisionTreeClassifier(random_state=42),\n",
       "             'MLB-BATHROOM_FAUCETS': DecisionTreeClassifier(random_state=42),\n",
       "             'MLM-INDOOR_CURTAINS_AND_BLINDS': DecisionTreeClassifier(random_state=42),\n",
       "             'MLB-ELECTRIC_CIRCULAR_SAWS': DecisionTreeClassifier(random_state=42),\n",
       "             'MLM-GLASSES_FRAMES': DecisionTreeClassifier(random_state=42),\n",
       "             'MLB-COMPUTER_EQUIPMENT_AND_SPARE_PARTS': DecisionTreeClassifier(random_state=42),\n",
       "             'MLB-ELECTRIC_AIR_PUMPS': DecisionTreeClassifier(random_state=42),\n",
       "             'MLB-SUPPLEMENTS': DecisionTreeClassifier(random_state=42),\n",
       "             'MLB-STABILIZERS_AND_UPS': DecisionTreeClassifier(random_state=42),\n",
       "             'MLB-GLASSES_FRAMES': DecisionTreeClassifier(random_state=42),\n",
       "             'MLB-CAR_WHEELS': DecisionTreeClassifier(random_state=42),\n",
       "             'MLM-GAMEPADS_AND_JOYSTICKS': DecisionTreeClassifier(random_state=42),\n",
       "             'MLB-PASTRY_TIPS': DecisionTreeClassifier(random_state=42),\n",
       "             'MLM-BALLOONS': DecisionTreeClassifier(random_state=42),\n",
       "             'MLB-FOOTBALL_SHOES': DecisionTreeClassifier(random_state=42),\n",
       "             'MLB-CELLPHONE_COVERS': DecisionTreeClassifier(random_state=42),\n",
       "             'MLB-AUTOMOTIVE_STEERING_WHEEL_LOCKS': DecisionTreeClassifier(random_state=42),\n",
       "             'MLB-TV_STORAGE_UNITS': DecisionTreeClassifier(random_state=42),\n",
       "             'MLB-SKIRTS': DecisionTreeClassifier(random_state=42),\n",
       "             'MLB-STYLING_CHAIRS': DecisionTreeClassifier(random_state=42),\n",
       "             'MLM-CELLPHONE_COVERS': DecisionTreeClassifier(random_state=42),\n",
       "             'MLB-FACIAL_SKIN_CARE_PRODUCTS': DecisionTreeClassifier(random_state=42),\n",
       "             'MLM-WALL_AND_DOOR_EXERCISE_BARS': DecisionTreeClassifier(random_state=42),\n",
       "             'MLB-VESTS': DecisionTreeClassifier(random_state=42),\n",
       "             'MLM-MILK_EXTRACTORS': DecisionTreeClassifier(random_state=42),\n",
       "             'MLB-TENTS': DecisionTreeClassifier(random_state=42),\n",
       "             'MLB-PAINT_SPRAYERS': DecisionTreeClassifier(random_state=42),\n",
       "             'MLB-SCHOOL_AND_OFFICE_SUPPLIES': DecisionTreeClassifier(random_state=42),\n",
       "             'MLB-VOLTAGE_CONVERTERS': DecisionTreeClassifier(random_state=42),\n",
       "             'MLB-CAMERA_TRIPODS': DecisionTreeClassifier(random_state=42),\n",
       "             'MLB-DISPOSABLE_CUPS': DecisionTreeClassifier(random_state=42),\n",
       "             'MLM-BACKPACKS': DecisionTreeClassifier(random_state=42),\n",
       "             'MLM-SCOOTERS': DecisionTreeClassifier(random_state=42),\n",
       "             'MLB-WAGONS': DecisionTreeClassifier(random_state=42),\n",
       "             'MLB-BRAS': DecisionTreeClassifier(random_state=42),\n",
       "             'MLB-INDUSTRIAL_AND_COMMERCIAL_EQUIPMENT': DecisionTreeClassifier(random_state=42),\n",
       "             'MLB-BALLOONS_GRIDS': DecisionTreeClassifier(random_state=42),\n",
       "             'MLB-BABY_ACTIVITY_CENTERS': DecisionTreeClassifier(random_state=42),\n",
       "             'MLB-RESISTANCE_BANDS': DecisionTreeClassifier(random_state=42),\n",
       "             'MLB-GIFT_CARDS': DecisionTreeClassifier(random_state=42),\n",
       "             'MLB-DECORATIVE_PAINTINGS': DecisionTreeClassifier(random_state=42),\n",
       "             'MLB-ELECTRIC_JUGS': DecisionTreeClassifier(random_state=42),\n",
       "             'MLB-CARS_AND_VANS': DecisionTreeClassifier(random_state=42),\n",
       "             'MLB-CLOTHING': DecisionTreeClassifier(random_state=42),\n",
       "             'MLB-BICYCLES': DecisionTreeClassifier(random_state=42),\n",
       "             'MLB-CAR_SEAT_COVERS': DecisionTreeClassifier(random_state=42),\n",
       "             'MLM-HOME_SUPPLIES': DecisionTreeClassifier(random_state=42),\n",
       "             'MLB-DENTAL_EQUIPMENT': DecisionTreeClassifier(random_state=42),\n",
       "             'MLB-DRIVING_SIMULATORS': DecisionTreeClassifier(random_state=42),\n",
       "             'MLB-FAKE_CAKES': DecisionTreeClassifier(random_state=42),\n",
       "             'MLB-AUTOMOTIVE_LED_LIGHT_BARS': DecisionTreeClassifier(random_state=42),\n",
       "             'MLM-PLANTS': DecisionTreeClassifier(random_state=42),\n",
       "             'MLB-BABY_URINALS': DecisionTreeClassifier(random_state=42),\n",
       "             'MLM-SNEAKERS': DecisionTreeClassifier(random_state=42),\n",
       "             'MLB-DRILL_BITS': DecisionTreeClassifier(random_state=42),\n",
       "             'MLB-SHIRTS': DecisionTreeClassifier(random_state=42),\n",
       "             'MLB-TACTICAL_AND_SPORTING_KNIVES_AND_BLADES': DecisionTreeClassifier(random_state=42),\n",
       "             'MLB-BED_AND_CRIB_SAFETY_RAILS': DecisionTreeClassifier(random_state=42),\n",
       "             'MLM-TOY_BUILDING_SETS': DecisionTreeClassifier(random_state=42),\n",
       "             'MLB-LINGERIE_SETS': DecisionTreeClassifier(random_state=42),\n",
       "             'MLB-HAIR_CLIPPERS': DecisionTreeClassifier(random_state=42),\n",
       "             'MLB-FOOTWEAR': DecisionTreeClassifier(random_state=42),\n",
       "             'MLB-BABY_WRAP_SLINGS': DecisionTreeClassifier(random_state=42),\n",
       "             'MLB-WASHING_MACHINE_MOTORS': DecisionTreeClassifier(random_state=42),\n",
       "             'MLB-TV_REPLACEMENT_BACKLIGHT_LED_STRIPS': DecisionTreeClassifier(random_state=42),\n",
       "             'MLB-REMOTE_CONTROL_TOY_VEHICLES': DecisionTreeClassifier(random_state=42),\n",
       "             'MLM-SUPPLEMENTS': DecisionTreeClassifier(random_state=42),\n",
       "             'MLB-GAME_CONSOLES': DecisionTreeClassifier(random_state=42),\n",
       "             'MLB-POOL_WATERFALLS': DecisionTreeClassifier(random_state=42),\n",
       "             'MLB-WEDDING_BANDS': DecisionTreeClassifier(random_state=42),\n",
       "             'MLB-SOFAS': DecisionTreeClassifier(random_state=42),\n",
       "             'MLB-WATCH_BANDS': DecisionTreeClassifier(random_state=42),\n",
       "             'MLB-DOLL_CLOTHES': DecisionTreeClassifier(random_state=42),\n",
       "             'MLM-AUTOMOTIVE_SPRING_SUSPENSIONS': DecisionTreeClassifier(random_state=42),\n",
       "             'MLM-VEHICLE_STEREOS': DecisionTreeClassifier(random_state=42),\n",
       "             'MLM-TELEPHONY_AND_RADIO_COMMUNICATION_PRODUCTS': DecisionTreeClassifier(random_state=42),\n",
       "             'MLB-THERMAL_REFRIGERATORS_AND_BAGS': DecisionTreeClassifier(random_state=42),\n",
       "             'MLB-STRING_INSTRUMENT_STANDS_AND_WALL_HANGERS': DecisionTreeClassifier(random_state=42),\n",
       "             'MLB-WRISTWATCHES': DecisionTreeClassifier(random_state=42),\n",
       "             'MLM-SKIN_CARE_SUPPLIES': DecisionTreeClassifier(random_state=42),\n",
       "             'MLB-BODY_SHAPERS': DecisionTreeClassifier(random_state=42),\n",
       "             'MLB-DVR_RECORDERS': DecisionTreeClassifier(random_state=42),\n",
       "             'MLB-FALSE_CEILINGS': DecisionTreeClassifier(random_state=42),\n",
       "             'MLB-CURLING_IRONS': DecisionTreeClassifier(random_state=42),\n",
       "             'MLM-DIAPER_BAGS': DecisionTreeClassifier(random_state=42),\n",
       "             'MLB-AM_FM_RADIOS': DecisionTreeClassifier(random_state=42),\n",
       "             'MLB-COOKING_OILS': DecisionTreeClassifier(random_state=42),\n",
       "             'MLB-TOOL_ACCESSORIES_AND_SPARES': DecisionTreeClassifier(random_state=42),\n",
       "             'MLB-KITCHEN_COOKWARE_SETS': DecisionTreeClassifier(random_state=42),\n",
       "             'MLB-ANIMAL_CLIPPERS': DecisionTreeClassifier(random_state=42),\n",
       "             'MLB-BALLOONS': DecisionTreeClassifier(random_state=42),\n",
       "             'MLB-DIAPER_BAGS': DecisionTreeClassifier(random_state=42),\n",
       "             'MLB-TELEPHONY_AND_RADIO_COMMUNICATION_PRODUCTS': DecisionTreeClassifier(random_state=42),\n",
       "             'MLB-CAR_LIGHT_BULBS': DecisionTreeClassifier(random_state=42),\n",
       "             'MLB-ORTHOPEDICS': DecisionTreeClassifier(random_state=42),\n",
       "             'MLB-TOOL_MILLS': DecisionTreeClassifier(random_state=42),\n",
       "             'MLB-SUITS': DecisionTreeClassifier(random_state=42),\n",
       "             'MLB-GATE_MOTORS': DecisionTreeClassifier(random_state=42),\n",
       "             'MLM-FRYING_PANS_WOKS_GRIDDLES_AND_GRILL_PANS': DecisionTreeClassifier(random_state=42),\n",
       "             'MLB-DESKTOP_COMPUTER_EXPANSION_CARDS': DecisionTreeClassifier(random_state=42),\n",
       "             'MLM-GAME_CONSOLES_VIDEO_GAMES_AND_ARCADE_MACHINES': DecisionTreeClassifier(random_state=42),\n",
       "             'MLB-ELECTRIC_BRUSH_CUTTERS_AND_STRING_TRIMMERS': DecisionTreeClassifier(random_state=42),\n",
       "             'MLB-MOTORCYCLE_FAIRINGS': DecisionTreeClassifier(random_state=42),\n",
       "             'MLB-DRONES': DecisionTreeClassifier(random_state=42),\n",
       "             'MLB-AUTOMOTIVE_AMPLIFIERS': DecisionTreeClassifier(random_state=42),\n",
       "             'MLB-BEERS': DecisionTreeClassifier(random_state=42),\n",
       "             'MLM-CELLPHONE_SCREENS': DecisionTreeClassifier(random_state=42),\n",
       "             'MLM-BODY_SHAPERS': DecisionTreeClassifier(random_state=42),\n",
       "             'MLB-FALSE_EYELASHES': DecisionTreeClassifier(random_state=42),\n",
       "             'MLM-DOOR_AND_WINDOW_AWNINGS_AND_EAVES': DecisionTreeClassifier(random_state=42),\n",
       "             'MLM-WRISTWATCHES': DecisionTreeClassifier(random_state=42),\n",
       "             'MLB-ELECTRIC_SQUEEZERS': DecisionTreeClassifier(random_state=42),\n",
       "             'MLB-TOILET_RUGS': DecisionTreeClassifier(random_state=42),\n",
       "             'MLB-UMBRELLAS': DecisionTreeClassifier(random_state=42),\n",
       "             'MLM-MOVIES': DecisionTreeClassifier(random_state=42),\n",
       "             'MLB-MAKEUP_BRUSHES': DecisionTreeClassifier(random_state=42),\n",
       "             'MLM-VIDEO_GAME_PREPAID_CARDS': DecisionTreeClassifier(random_state=42),\n",
       "             'MLB-SHORTS': DecisionTreeClassifier(random_state=42),\n",
       "             'MLB-HARD_DRIVES_AND_SSDS': DecisionTreeClassifier(random_state=42),\n",
       "             'MLB-HOME_THEATERS': DecisionTreeClassifier(random_state=42),\n",
       "             'MLM-SLIPPERS': DecisionTreeClassifier(random_state=42),\n",
       "             'MLB-TEETH_WHITENING_PRODUCTS': DecisionTreeClassifier(random_state=42),\n",
       "             'MLM-PASTRY_TIPS': DecisionTreeClassifier(random_state=42),\n",
       "             'MLM-HOME_APPLIANCES_ACCESSORIES_AND_SPARE_PARTS': DecisionTreeClassifier(random_state=42),\n",
       "             'MLB-MANUAL_MASSAGERS': DecisionTreeClassifier(random_state=42),\n",
       "             'MLB-CELLPHONES_AND_TELEPHONY': DecisionTreeClassifier(random_state=42),\n",
       "             'MLB-HARD_DRIVE_AND_SSD_ENCLOSURES': DecisionTreeClassifier(random_state=42),\n",
       "             'MLB-HAIR_EXTENSIONS': DecisionTreeClassifier(random_state=42),\n",
       "             'MLM-BLOUSES': DecisionTreeClassifier(random_state=42),\n",
       "             'MLB-LABEL_MAKERS': DecisionTreeClassifier(random_state=42),\n",
       "             'MLB-BABY_BOUNCERS': DecisionTreeClassifier(random_state=42),\n",
       "             'MLB-SPORT_WATCHES': DecisionTreeClassifier(random_state=42),\n",
       "             'MLB-WALLETS': DecisionTreeClassifier(random_state=42),\n",
       "             'MLB-ELECTRIC_DRILLS': DecisionTreeClassifier(random_state=42),\n",
       "             'MLB-HAIRDRESSING_CAPES': DecisionTreeClassifier(random_state=42),\n",
       "             'MLB-TRAMPOLINES': DecisionTreeClassifier(random_state=42),\n",
       "             'MLB-LEGGINGS': DecisionTreeClassifier(random_state=42),\n",
       "             'MLB-VEHICLE_BATTERY_CHARGERS': DecisionTreeClassifier(random_state=42),\n",
       "             'MLB-MAGNIFYING_GLASSES': DecisionTreeClassifier(random_state=42),\n",
       "             'MLB-FACE_MASKS': DecisionTreeClassifier(random_state=42),\n",
       "             'MLB-WALL_AND_DOOR_EXERCISE_BARS': DecisionTreeClassifier(random_state=42),\n",
       "             'MLB-DOLLHOUSES': DecisionTreeClassifier(random_state=42),\n",
       "             'MLB-EMBEDDED_SWITCH_MODE_POWER_SUPPLIES': DecisionTreeClassifier(random_state=42),\n",
       "             'MLB-AUTOMOTIVE_TAIL_LIGHTS': DecisionTreeClassifier(random_state=42),\n",
       "             'MLB-CRUTCHES': DecisionTreeClassifier(random_state=42),\n",
       "             'MLB-AUTOMOTIVE_HEADLIGHTS': DecisionTreeClassifier(random_state=42),\n",
       "             'MLM-NON_CORRECTIVE_CONTACT_LENSES': DecisionTreeClassifier(random_state=42),\n",
       "             'MLB-POWER_STRIPS': DecisionTreeClassifier(random_state=42),\n",
       "             'MLB-AUTOMOTIVE_TIRES': DecisionTreeClassifier(random_state=42),\n",
       "             'MLM-ANTI_THEFT_STUDS': DecisionTreeClassifier(random_state=42),\n",
       "             'MLB-GYPSUM_BOARDS': DecisionTreeClassifier(random_state=42),\n",
       "             'MLB-LAPTOP_STANDS': DecisionTreeClassifier(random_state=42),\n",
       "             'MLB-HAIR_ROLLERS': DecisionTreeClassifier(random_state=42),\n",
       "             'MLB-CELLPHONE_REPLACEMENT_SPEAKERS': DecisionTreeClassifier(random_state=42),\n",
       "             'MLB-TONERS': DecisionTreeClassifier(random_state=42),\n",
       "             'MLB-PLANTS': DecisionTreeClassifier(random_state=42),\n",
       "             'MLM-BABY_SUPPLIES': DecisionTreeClassifier(random_state=42),\n",
       "             'MLM-MUGS': DecisionTreeClassifier(random_state=42),\n",
       "             'MLB-CONTINUOUS_LIGHTING': DecisionTreeClassifier(random_state=42),\n",
       "             'MLM-AEROBICS_AND_FITNESS_EQUIPMENT': DecisionTreeClassifier(random_state=42),\n",
       "             'MLB-CLOGS_AND_MULES': DecisionTreeClassifier(random_state=42),\n",
       "             'MLB-PET_TOY_BALLS': DecisionTreeClassifier(random_state=42),\n",
       "             'MLB-COSTUMES': DecisionTreeClassifier(random_state=42),\n",
       "             'MLB-MONOCULARS': DecisionTreeClassifier(random_state=42),\n",
       "             'MLB-HOT_TUBS': DecisionTreeClassifier(random_state=42),\n",
       "             'MLB-GAMEPADS_AND_JOYSTICKS': DecisionTreeClassifier(random_state=42),\n",
       "             'MLB-GARDEN_HOSES': DecisionTreeClassifier(random_state=42),\n",
       "             'MLB-BABY_STROLLERS': DecisionTreeClassifier(random_state=42),\n",
       "             'MLB-WALLPAPERS': DecisionTreeClassifier(random_state=42),\n",
       "             'MLB-CAR_GEARBOXES': DecisionTreeClassifier(random_state=42),\n",
       "             'MLB-SPORT_T_SHIRTS': DecisionTreeClassifier(random_state=42),\n",
       "             'MLB-VIDEO_GAMES': DecisionTreeClassifier(random_state=42),\n",
       "             'MLB-MOTORCYCLE_CARBURETORS': DecisionTreeClassifier(random_state=42),\n",
       "             'MLB-TRADING_CARD_GAMES': DecisionTreeClassifier(random_state=42),\n",
       "             'MLB-LED_STAGE_LIGHTS': DecisionTreeClassifier(random_state=42),\n",
       "             'MLM-SMARTWATCHES': DecisionTreeClassifier(random_state=42),\n",
       "             'MLB-PINCERS': DecisionTreeClassifier(random_state=42),\n",
       "             'MLB-BUBBLE_MACHINES': DecisionTreeClassifier(random_state=42),\n",
       "             'MLB-FLATWARE_SETS': DecisionTreeClassifier(random_state=42),\n",
       "             'MLM-BOOKS': DecisionTreeClassifier(random_state=42),\n",
       "             'MLB-DEODORANTS': DecisionTreeClassifier(random_state=42),\n",
       "             'MLB-ARTIFICIAL_FLOWERS': DecisionTreeClassifier(random_state=42),\n",
       "             'MLM-DRESSES': DecisionTreeClassifier(random_state=42),\n",
       "             'MLB-DEEP_FRYERS': DecisionTreeClassifier(random_state=42),\n",
       "             'MLB-STYLUSES': DecisionTreeClassifier(random_state=42),\n",
       "             'MLB-VEGETABLES_AND_FRUITS_CHOPPERS': DecisionTreeClassifier(random_state=42),\n",
       "             'MLM-COOKING_SCALES': DecisionTreeClassifier(random_state=42),\n",
       "             'MLB-TV_AND_MONITOR_MOUNTS': DecisionTreeClassifier(random_state=42),\n",
       "             'MLB-VEHICLE_CAMERAS': DecisionTreeClassifier(random_state=42),\n",
       "             'MLB-WHISKEYS': DecisionTreeClassifier(random_state=42),\n",
       "             'MLB-FOG_LIGHTS': DecisionTreeClassifier(random_state=42),\n",
       "             'MLB-SMARTWATCHES': DecisionTreeClassifier(random_state=42),\n",
       "             'MLM-WALLETS': DecisionTreeClassifier(random_state=42),\n",
       "             'MLB-TOY_DRUMS': DecisionTreeClassifier(random_state=42),\n",
       "             'MLB-EPILATORS_AND_TRIMMERS': DecisionTreeClassifier(random_state=42),\n",
       "             'MLB-PANTIES': DecisionTreeClassifier(random_state=42),\n",
       "             'MLB-PORTABLE_ELECTRIC_MASSAGERS': DecisionTreeClassifier(random_state=42),\n",
       "             'MLB-CHRISTMAS_TREE_ORNAMENTS': DecisionTreeClassifier(random_state=42),\n",
       "             'MLB-NIGHTSTANDS': DecisionTreeClassifier(random_state=42),\n",
       "             'MLB-ANIMALS_AND_PETS': DecisionTreeClassifier(random_state=42),\n",
       "             'MLB-MARKING_AND_WARNING_TAPES': DecisionTreeClassifier(random_state=42),\n",
       "             'MLM-FOOTBALL_SHIRTS': DecisionTreeClassifier(random_state=42),\n",
       "             'MLM-INDUSTRIAL_AND_COMMERCIAL_EQUIPMENT': DecisionTreeClassifier(random_state=42),\n",
       "             'MLB-LAPTOP_BATTERIES': DecisionTreeClassifier(random_state=42),\n",
       "             'MLB-MOTORCYCLE_BATTERIES': DecisionTreeClassifier(random_state=42),\n",
       "             'MLB-BABY_PUZZLE_PLAY_MATS': DecisionTreeClassifier(random_state=42),\n",
       "             'MLB-PENS': DecisionTreeClassifier(random_state=42),\n",
       "             'MLB-USB_HUBS': DecisionTreeClassifier(random_state=42),\n",
       "             'MLB-SEX_TOYS_AND_SUPPLIES': DecisionTreeClassifier(random_state=42),\n",
       "             'MLB-VEHICLE_SCRATCH_REMOVERS': DecisionTreeClassifier(random_state=42),\n",
       "             'MLB-HANDBAGS': DecisionTreeClassifier(random_state=42),\n",
       "             'MLB-MATTRESS_COVERS': DecisionTreeClassifier(random_state=42),\n",
       "             'MLB-KEYCHAINS': DecisionTreeClassifier(random_state=42),\n",
       "             'MLM-AUTOMOTIVE_LICENSE_PLATE_BRACKETS': DecisionTreeClassifier(random_state=42),\n",
       "             'MLB-TEA_KETTLES': DecisionTreeClassifier(random_state=42),\n",
       "             'MLB-LOCK_PICKS': DecisionTreeClassifier(random_state=42),\n",
       "             'MLB-SNEAKERS': DecisionTreeClassifier(random_state=42),\n",
       "             'MLB-BODYSUITS_AND_CATSUITS': DecisionTreeClassifier(random_state=42),\n",
       "             'MLB-MASSAGE_EQUIPMENT': DecisionTreeClassifier(random_state=42),\n",
       "             'MLB-WAX_WARMERS': DecisionTreeClassifier(random_state=42),\n",
       "             'MLM-DECORATIVE_VINYLS': DecisionTreeClassifier(random_state=42),\n",
       "             'MLB-NAIL_RHINESTONES': DecisionTreeClassifier(random_state=42),\n",
       "             'MLB-KITCHEN_SINKS': DecisionTreeClassifier(random_state=42),\n",
       "             'MLB-DISHES_PLATES': DecisionTreeClassifier(random_state=42),\n",
       "             'MLB-CLOTHING_LOTS': DecisionTreeClassifier(random_state=42),\n",
       "             'MLM-BRACELETS_AND_ANKLE_BRACES': DecisionTreeClassifier(random_state=42),\n",
       "             'MLM-MICRODERMABRASION_MACHINES': DecisionTreeClassifier(random_state=42),\n",
       "             'MLB-MUSIC_MOVIES_AND_TV_SERIES': DecisionTreeClassifier(random_state=42),\n",
       "             'MLB-KITCHEN_RANGE_HOODS': DecisionTreeClassifier(random_state=42),\n",
       "             'MLB-SEAT_BELTS': DecisionTreeClassifier(random_state=42),\n",
       "             'MLB-DRINKING_GLASSES': DecisionTreeClassifier(random_state=42),\n",
       "             'MLB-SOCKS': DecisionTreeClassifier(random_state=42),\n",
       "             'MLB-VIDEO_GAME_PREPAID_CARDS': DecisionTreeClassifier(random_state=42),\n",
       "             'MLB-TOOL_AND_CONSTRUCTION_SUPPLIES': DecisionTreeClassifier(random_state=42),\n",
       "             'MLB-TABLE_TENNIS_TABLES': DecisionTreeClassifier(random_state=42),\n",
       "             'MLB-SEWING_MACHINES': DecisionTreeClassifier(random_state=42),\n",
       "             'MLB-CUTTING_BOARDS': DecisionTreeClassifier(random_state=42),\n",
       "             'MLB-DRIED_FRUITS': DecisionTreeClassifier(random_state=42),\n",
       "             'MLB-MANICURE_AND_PEDICURE_ELECTRONIC_EXFOLIATORS_AND_FILES': DecisionTreeClassifier(random_state=42),\n",
       "             'MLB-OFFICE_STORAGE_CABINETS': DecisionTreeClassifier(random_state=42),\n",
       "             'MLB-HAIR_TREATMENTS': DecisionTreeClassifier(random_state=42),\n",
       "             'MLB-VEHICLE_STICKERS': DecisionTreeClassifier(random_state=42),\n",
       "             'MLB-MIRRORS': DecisionTreeClassifier(random_state=42),\n",
       "             'MLB-DRYING_RACKS': DecisionTreeClassifier(random_state=42),\n",
       "             'MLB-PERFUMES': DecisionTreeClassifier(random_state=42),\n",
       "             'MLB-CRIBS': DecisionTreeClassifier(random_state=42),\n",
       "             'MLM-LEGGINGS': DecisionTreeClassifier(random_state=42),\n",
       "             'MLB-HOME_OFFICE_DESKS': DecisionTreeClassifier(random_state=42),\n",
       "             'MLB-FOOTBALL_SHIRTS': DecisionTreeClassifier(random_state=42),\n",
       "             'MLM-LIGHT_BULBS': DecisionTreeClassifier(random_state=42),\n",
       "             'MLB-CACAO': DecisionTreeClassifier(random_state=42),\n",
       "             'MLM-LIPSTICKS': DecisionTreeClassifier(random_state=42),\n",
       "             'MLB-TEA': DecisionTreeClassifier(random_state=42),\n",
       "             'MLB-SWAY_BAR_LINKS': DecisionTreeClassifier(random_state=42),\n",
       "             'MLB-BABY_SUPPLIES': DecisionTreeClassifier(random_state=42),\n",
       "             'MLB-TABLETS': DecisionTreeClassifier(random_state=42),\n",
       "             'MLB-DECORATIVE_BLANKETS': DecisionTreeClassifier(random_state=42),\n",
       "             'MLB-PARTY_SUPPLIES': DecisionTreeClassifier(random_state=42),\n",
       "             'MLB-HEADPIECES_TIARAS_AND_HEADBANDS': DecisionTreeClassifier(random_state=42),\n",
       "             'MLB-AV_RECEIVERS': DecisionTreeClassifier(random_state=42),\n",
       "             'MLM-MAKEUP_BRUSHES': DecisionTreeClassifier(random_state=42),\n",
       "             'MLB-CARD_PAYMENT_TERMINALS': DecisionTreeClassifier(random_state=42),\n",
       "             'MLB-MULTIPURPOSE_TARPS': DecisionTreeClassifier(random_state=42),\n",
       "             'MLB-SPARK_PLUG_WIRESETS': DecisionTreeClassifier(random_state=42),\n",
       "             'MLB-HABERDASHERY_SUPPLIES': DecisionTreeClassifier(random_state=42),\n",
       "             'MLM-SHOE_RACKS': DecisionTreeClassifier(random_state=42),\n",
       "             'MLB-LASER_LEVELS': DecisionTreeClassifier(random_state=42),\n",
       "             'MLB-HAIR_MOLDING_AND_STYLING': DecisionTreeClassifier(random_state=42),\n",
       "             'MLM-FOG_LIGHTS': DecisionTreeClassifier(random_state=42),\n",
       "             'MLB-SOLDERING_IRONS': DecisionTreeClassifier(random_state=42),\n",
       "             'MLB-BABY_MOBILES': DecisionTreeClassifier(random_state=42),\n",
       "             'MLM-VEHICLE_ACCESSORIES': DecisionTreeClassifier(random_state=42),\n",
       "             'MLB-BRUSH_CUTTERS': DecisionTreeClassifier(random_state=42),\n",
       "             'MLB-HAIR_DRYERS': DecisionTreeClassifier(random_state=42),\n",
       "             'MLM-KITCHEN_SUPPLIES': DecisionTreeClassifier(random_state=42),\n",
       "             'MLM-CATS_AND_DOGS_FOODS': DecisionTreeClassifier(random_state=42),\n",
       "             'MLB-WIRELESS_CHARGERS': DecisionTreeClassifier(random_state=42),\n",
       "             'MLB-NECKLACES': DecisionTreeClassifier(random_state=42),\n",
       "             'MLB-COMICS': DecisionTreeClassifier(random_state=42),\n",
       "             'MLB-CAMPING_STOVES': DecisionTreeClassifier(random_state=42),\n",
       "             'MLM-FACIAL_SKIN_CARE_PRODUCTS': DecisionTreeClassifier(random_state=42),\n",
       "             'MLB-ELECTRONIC_DRUMS': DecisionTreeClassifier(random_state=42),\n",
       "             'MLB-AUTOMOTIVE_MUFFLERS': DecisionTreeClassifier(random_state=42),\n",
       "             'MLM-GARDENING_AND_AGRICULTURE_SEEDS': DecisionTreeClassifier(random_state=42),\n",
       "             'MLB-DISPOSABLE_BABY_DIAPERS': DecisionTreeClassifier(random_state=42),\n",
       "             'MLM-TV_REMOTE_CONTROLS': DecisionTreeClassifier(random_state=42),\n",
       "             'MLB-FUEL_LEVEL_FLOATS': DecisionTreeClassifier(random_state=42),\n",
       "             'MLB-WAITER_CALLING_SYSTEMS': DecisionTreeClassifier(random_state=42),\n",
       "             'MLM-MICROCONTROLLER_BOARDS': DecisionTreeClassifier(random_state=42),\n",
       "             'MLB-FISH_TANK_PUMPS': DecisionTreeClassifier(random_state=42),\n",
       "             'MLB-PLAYGROUND_SLIDES': DecisionTreeClassifier(random_state=42),\n",
       "             'MLB-AIRSOFT_GUNS': DecisionTreeClassifier(random_state=42),\n",
       "             'MLB-INDIVIDUAL_HOUSES_FOR_SALE': DecisionTreeClassifier(random_state=42),\n",
       "             'MLB-HOME_SUPPLIES': DecisionTreeClassifier(random_state=42),\n",
       "             'MLB-PHOTOGRAPHY_ACCESSORIES_AND_SPARE_PARTS': DecisionTreeClassifier(random_state=42),\n",
       "             'MLB-ARTS_AND_CRAFTS': DecisionTreeClassifier(random_state=42),\n",
       "             'MLB-DOG_CARRIERS_AND_CARRYING_BAGS': DecisionTreeClassifier(random_state=42),\n",
       "             'MLB-MOTORCYCLE_TRANSMISSION_KITS': DecisionTreeClassifier(random_state=42),\n",
       "             'MLB-AUTOMOTIVE_SHIFT_LEVER_KNOBS': DecisionTreeClassifier(random_state=42),\n",
       "             'MLB-ELECTROLYTIC_CAPACITORS': DecisionTreeClassifier(random_state=42),\n",
       "             'MLB-CAR_CARBURETORS': DecisionTreeClassifier(random_state=42),\n",
       "             'MLM-SOUVENIRS': DecisionTreeClassifier(random_state=42),\n",
       "             'MLB-BABY_GROOMING_KITS': DecisionTreeClassifier(random_state=42),\n",
       "             'MLB-STOOLS': DecisionTreeClassifier(random_state=42),\n",
       "             'MLB-ANIMAL_AND_PET_PRODUCTS': DecisionTreeClassifier(random_state=42),\n",
       "             'MLB-MIXERS': DecisionTreeClassifier(random_state=42),\n",
       "             'MLB-HOME_APPLIANCES_ACCESSORIES_AND_SPARE_PARTS': DecisionTreeClassifier(random_state=42),\n",
       "             'MLM-WELDING_MACHINES': DecisionTreeClassifier(random_state=42),\n",
       "             'MLM-MOTORCYCLE_GLOVES': DecisionTreeClassifier(random_state=42),\n",
       "             'MLB-AUTOMOTIVE_TAIL_LIGHT_LENSES': DecisionTreeClassifier(random_state=42),\n",
       "             'MLM-ELECTRONIC_PRODUCTS': DecisionTreeClassifier(random_state=42),\n",
       "             'MLM-PORTABLE_CELLPHONE_CHARGERS': DecisionTreeClassifier(random_state=42),\n",
       "             'MLB-AUTOMOTIVE_SHOCK_ABSORBERS': DecisionTreeClassifier(random_state=42),\n",
       "             'MLB-LUMBAR_AND_ABDOMINAL_BRACES': DecisionTreeClassifier(random_state=42),\n",
       "             'MLB-BABY_CLOTHING_SETS': DecisionTreeClassifier(random_state=42),\n",
       "             'MLB-INK_CARTRIDGES': DecisionTreeClassifier(random_state=42),\n",
       "             'MLM-LAPTOP_CHARGERS': DecisionTreeClassifier(random_state=42),\n",
       "             'MLB-CHARMS_AND_MEDALS': DecisionTreeClassifier(random_state=42),\n",
       "             'MLM-BATHROOM_SUPPLIES': DecisionTreeClassifier(random_state=42),\n",
       "             'MLB-HOVERBOARDS': DecisionTreeClassifier(random_state=42),\n",
       "             'MLB-SARONGS': DecisionTreeClassifier(random_state=42),\n",
       "             'MLB-JEWELRY_TOOLS': DecisionTreeClassifier(random_state=42),\n",
       "             'MLB-MOTORCYCLE_STANDS': DecisionTreeClassifier(random_state=42),\n",
       "             'MLB-AUTOMOTIVE_DEFLECTORS': DecisionTreeClassifier(random_state=42),\n",
       "             'MLB-PREFABRICATED_FIBERGLASS_POOLS': DecisionTreeClassifier(random_state=42),\n",
       "             'MLB-HOME_DECOR': DecisionTreeClassifier(random_state=42),\n",
       "             'MLB-HEELS_AND_WEDGES': DecisionTreeClassifier(random_state=42),\n",
       "             'MLB-TV_RECEIVERS_AND_DECODERS': DecisionTreeClassifier(random_state=42),\n",
       "             'MLB-POOL_CHLORINE': DecisionTreeClassifier(random_state=42),\n",
       "             'MLM-MUSICAL_INSTRUMENTS': DecisionTreeClassifier(random_state=42),\n",
       "             'MLM-FOOTBALL_SHOES': DecisionTreeClassifier(random_state=42),\n",
       "             'MLB-DOG_MUZZLES': DecisionTreeClassifier(random_state=42),\n",
       "             'MLB-WATER_RADIATORS': DecisionTreeClassifier(random_state=42),\n",
       "             'MLM-STREAMING_MEDIA_DEVICES': DecisionTreeClassifier(random_state=42),\n",
       "             'MLB-BICYCLE_AND_MOTORCYCLE_LOCKS': DecisionTreeClassifier(random_state=42),\n",
       "             'MLB-MOTORCYCLE_SPEEDOMETERS': DecisionTreeClassifier(random_state=42),\n",
       "             'MLB-FABRICS': DecisionTreeClassifier(random_state=42),\n",
       "             'MLB-SELF_TANNERS': DecisionTreeClassifier(random_state=42),\n",
       "             'MLB-NAIL_STICKERS': DecisionTreeClassifier(random_state=42),\n",
       "             'MLB-PUSH_AND_RIDING_TOYS': DecisionTreeClassifier(random_state=42),\n",
       "             'MLB-EXPANDED_POLYSTYRENE_SHEETS': DecisionTreeClassifier(random_state=42),\n",
       "             'MLB-BIRD_BANDS': DecisionTreeClassifier(random_state=42),\n",
       "             'MLB-COOKING_SCALES': DecisionTreeClassifier(random_state=42),\n",
       "             'MLB-IRONS': DecisionTreeClassifier(random_state=42),\n",
       "             'MLB-MASCARAS': DecisionTreeClassifier(random_state=42),\n",
       "             'MLB-COMFORTERS': DecisionTreeClassifier(random_state=42),\n",
       "             'MLB-TV_REMOTE_CONTROLS': DecisionTreeClassifier(random_state=42),\n",
       "             'MLB-DRILL_STANDS': DecisionTreeClassifier(random_state=42),\n",
       "             'MLM-MATTRESSES': DecisionTreeClassifier(random_state=42),\n",
       "             'MLB-NETWORK_CARDS': DecisionTreeClassifier(random_state=42),\n",
       "             'MLB-HAIR_BRUSHES': DecisionTreeClassifier(random_state=42),\n",
       "             'MLB-CELLPHONE_ACCESSORIES': DecisionTreeClassifier(random_state=42),\n",
       "             'MLB-FANS': DecisionTreeClassifier(random_state=42),\n",
       "             'MLB-PIERCINGS': DecisionTreeClassifier(random_state=42),\n",
       "             'MLB-SOUVENIRS': DecisionTreeClassifier(random_state=42),\n",
       "             'MLM-INDUSTRIAL_AND_COMMERCIAL_SCALES': DecisionTreeClassifier(random_state=42),\n",
       "             'MLM-HARD_DRIVES_AND_SSDS': DecisionTreeClassifier(random_state=42),\n",
       "             'MLB-JET_SKIS': DecisionTreeClassifier(random_state=42),\n",
       "             'MLB-AUTOMOTIVE_SPRING_SUSPENSIONS': DecisionTreeClassifier(random_state=42),\n",
       "             'MLB-JEWELRY': DecisionTreeClassifier(random_state=42),\n",
       "             'MLM-CELLPHONE_AND_TABLET_MOTHERBOARDS': DecisionTreeClassifier(random_state=42),\n",
       "             'MLB-SWIMMING_POOL_HEATERS': DecisionTreeClassifier(random_state=42),\n",
       "             'MLM-HATS_AND_CAPS': DecisionTreeClassifier(random_state=42),\n",
       "             'MLB-AUTOMOTIVE_COMPRESSION_DRIVERS': DecisionTreeClassifier(random_state=42),\n",
       "             'MLB-NAIL_DRYERS': DecisionTreeClassifier(random_state=42),\n",
       "             'MLM-MOTORCYCLES': DecisionTreeClassifier(random_state=42),\n",
       "             'MLB-BABY_BIBS': DecisionTreeClassifier(random_state=42),\n",
       "             'MLB-WATER_PURIFIERS_FILTERS': DecisionTreeClassifier(random_state=42),\n",
       "             'MLM-RINGS': DecisionTreeClassifier(random_state=42),\n",
       "             'MLB-AUTOMOTIVE_ARMRESTS': DecisionTreeClassifier(random_state=42),\n",
       "             'MLB-MALE_UNDERWEAR': DecisionTreeClassifier(random_state=42),\n",
       "             'MLM-PERFUMES': DecisionTreeClassifier(random_state=42),\n",
       "             'MLM-SANDALS_AND_FLIP_FLOPS': DecisionTreeClassifier(random_state=42),\n",
       "             'MLM-SWEATSHIRTS_AND_HOODIES': DecisionTreeClassifier(random_state=42),\n",
       "             'MLB-DOOR_AND_STAIR_SAFETY_FENCES': DecisionTreeClassifier(random_state=42),\n",
       "             'MLB-EYESHADOWS': DecisionTreeClassifier(random_state=42),\n",
       "             'MLB-MARTIAL_ARTS_AND_BOXING_GLOVES': DecisionTreeClassifier(random_state=42),\n",
       "             'MLB-ORTHOPEDIC_SHOULDER_PADS': DecisionTreeClassifier(random_state=42),\n",
       "             'MLB-FREEZERS': DecisionTreeClassifier(random_state=42),\n",
       "             'MLB-AUDIO_AND_VIDEO_CABLES_AND_ADAPTERS': DecisionTreeClassifier(random_state=42),\n",
       "             'MLB-OFFICE_CHAIRS': DecisionTreeClassifier(random_state=42),\n",
       "             'MLB-DESKTOP_COMPUTER_CASES': DecisionTreeClassifier(random_state=42),\n",
       "             'MLB-COMPUTER_MONITORS': DecisionTreeClassifier(random_state=42),\n",
       "             'MLM-SURVEILLANCE_MONITORING_KITS': DecisionTreeClassifier(random_state=42),\n",
       "             'MLB-BABIES_FOOTWEAR': DecisionTreeClassifier(random_state=42),\n",
       "             'MLB-PUREBRED_DOGS': DecisionTreeClassifier(random_state=42),\n",
       "             'MLB-SANDALS_AND_FLIP_FLOPS': DecisionTreeClassifier(random_state=42),\n",
       "             'MLB-BEDDING': DecisionTreeClassifier(random_state=42),\n",
       "             'MLB-CAT_AND_DOG_DRINKERS_AND_FEEDERS': DecisionTreeClassifier(random_state=42),\n",
       "             'MLB-MICRO_ROTARY_TOOLS': DecisionTreeClassifier(random_state=42),\n",
       "             'MLB-PRINTER_INKS': DecisionTreeClassifier(random_state=42),\n",
       "             'MLB-BABY_BLANKETS': DecisionTreeClassifier(random_state=42),\n",
       "             'MLB-MOTORCYCLE_REARVIEW_MIRRORS': DecisionTreeClassifier(random_state=42),\n",
       "             'MLB-HEALTH_CARE_SUPPLIES': DecisionTreeClassifier(random_state=42),\n",
       "             'MLB-DECORATIVE_VINYLS': DecisionTreeClassifier(random_state=42),\n",
       "             'MLB-EXERCISE_MATS': DecisionTreeClassifier(random_state=42),\n",
       "             'MLB-AUTOMOTIVE_TIMING_BELTS': DecisionTreeClassifier(random_state=42),\n",
       "             None: DecisionTreeClassifier(random_state=42),\n",
       "             'MLB-NETWORK_SWITCHES': DecisionTreeClassifier(random_state=42),\n",
       "             'MLB-SCULPTURED_NAIL_BUILDER_GELS': DecisionTreeClassifier(random_state=42),\n",
       "             'MLB-VEHICLE_MULTIMEDIA_SYSTEMS': DecisionTreeClassifier(random_state=42),\n",
       "             'MLM-MOBILE_DEVICE_CHARGERS': DecisionTreeClassifier(random_state=42),\n",
       "             'MLB-VACUUM_CLEANERS': DecisionTreeClassifier(random_state=42),\n",
       "             'MLB-GLASS_CUTTERS': DecisionTreeClassifier(random_state=42),\n",
       "             'MLB-AUTOMOTIVE_STEREO_FRAME_ADAPTERS': DecisionTreeClassifier(random_state=42),\n",
       "             'MLB-BLOUSES': DecisionTreeClassifier(random_state=42),\n",
       "             'MLB-TOOTHPASTES': DecisionTreeClassifier(random_state=42),\n",
       "             'MLB-STEPPERS': DecisionTreeClassifier(random_state=42),\n",
       "             'MLB-DESKTOP_COMPUTERS': DecisionTreeClassifier(random_state=42),\n",
       "             'MLB-VR_HEADSETS': DecisionTreeClassifier(random_state=42),\n",
       "             'MLB-BABY_ACTIVITY_TABLES': DecisionTreeClassifier(random_state=42),\n",
       "             'MLB-MUSICAL_KEYBOARDS': DecisionTreeClassifier(random_state=42),\n",
       "             'MLB-THERMAL_CUPS_AND_TUMBLERS': DecisionTreeClassifier(random_state=42),\n",
       "             'MLB-TRAMPOLINE_SPRINGS': DecisionTreeClassifier(random_state=42),\n",
       "             'MLM-HEALTH_CARE_SUPPLIES': DecisionTreeClassifier(random_state=42),\n",
       "             'MLB-BABY_BATHTUBS': DecisionTreeClassifier(random_state=42),\n",
       "             'MLB-MOTORCYCLES': DecisionTreeClassifier(random_state=42),\n",
       "             'MLB-OPTICAL_INSTRUMENTS': DecisionTreeClassifier(random_state=42),\n",
       "             'MLB-FISHING_RODS': DecisionTreeClassifier(random_state=42),\n",
       "             'MLB-CELLPHONE_SCREENS': DecisionTreeClassifier(random_state=42),\n",
       "             'MLB-DOORS': DecisionTreeClassifier(random_state=42),\n",
       "             'MLB-IRRIGATION_SPRINKLERS': DecisionTreeClassifier(random_state=42),\n",
       "             'MLB-FISHING_REELS': DecisionTreeClassifier(random_state=42),\n",
       "             'MLB-ELECTRONIC_PRODUCTS': DecisionTreeClassifier(random_state=42),\n",
       "             'MLB-LIP_BALMS': DecisionTreeClassifier(random_state=42),\n",
       "             'MLB-KITCHEN_SIEVES': DecisionTreeClassifier(random_state=42),\n",
       "             'MLB-PILLOWS': DecisionTreeClassifier(random_state=42),\n",
       "             'MLB-AUTOMOTIVE_MATS': DecisionTreeClassifier(random_state=42),\n",
       "             'MLB-TOOTHBRUSHES': DecisionTreeClassifier(random_state=42),\n",
       "             'MLB-ELECTRIC_DOUGH_SHEETERS': DecisionTreeClassifier(random_state=42),\n",
       "             'MLM-CRASHED_CARS': DecisionTreeClassifier(random_state=42),\n",
       "             'MLM-TOYS_AND_GAMES': DecisionTreeClassifier(random_state=42),\n",
       "             'MLM-DIGITAL_PORTABLE_MEDIA_PLAYERS': DecisionTreeClassifier(random_state=42),\n",
       "             'MLB-BATHROOM_VANITIES': DecisionTreeClassifier(random_state=42),\n",
       "             'MLM-STUN_GUNS': DecisionTreeClassifier(random_state=42),\n",
       "             'MLB-OUTDOOR_TABLES': DecisionTreeClassifier(random_state=42),\n",
       "             'MLB-VEHICLE_LED_BULBS': DecisionTreeClassifier(random_state=42),\n",
       "             'MLB-VIOLINS': DecisionTreeClassifier(random_state=42),\n",
       "             'MLM-COSTUMES': DecisionTreeClassifier(random_state=42),\n",
       "             'MLB-REFRIGERATOR_AND_FREEZER_DOOR_GASKETS': DecisionTreeClassifier(random_state=42),\n",
       "             'MLM-SPORTS_AND_FITNESS': DecisionTreeClassifier(random_state=42),\n",
       "             'MLB-KITCHEN_MOLDS': DecisionTreeClassifier(random_state=42),\n",
       "             'MLM-ENGINE_OILS': DecisionTreeClassifier(random_state=42),\n",
       "             'MLB-COIL_BINDING_MACHINES': DecisionTreeClassifier(random_state=42),\n",
       "             'MLB-CELLPHONE_BATTERIES': DecisionTreeClassifier(random_state=42),\n",
       "             'MLB-BABY_BODYSUITS': DecisionTreeClassifier(random_state=42),\n",
       "             'MLB-MOTORCYCLE_BLOCK_CYLINDERS': DecisionTreeClassifier(random_state=42),\n",
       "             'MLB-VOLLEYBALL_BALLS': DecisionTreeClassifier(random_state=42),\n",
       "             'MLB-HATS_AND_CAPS': DecisionTreeClassifier(random_state=42),\n",
       "             'MLB-TELEVISIONS': DecisionTreeClassifier(random_state=42),\n",
       "             'MLB-CELLPHONES': DecisionTreeClassifier(random_state=42),\n",
       "             'MLB-GAME_CONSOLES_VIDEO_GAMES_AND_ARCADE_MACHINES': DecisionTreeClassifier(random_state=42),\n",
       "             'MLB-VEHICLE_CARBURETOR_ACCELERATOR_CABLES': DecisionTreeClassifier(random_state=42),\n",
       "             'MLB-ACTION_FIGURES': DecisionTreeClassifier(random_state=42),\n",
       "             'MLB-ELECTRIC_LUNCHBOXES': DecisionTreeClassifier(random_state=42),\n",
       "             'MLB-WELDING_MASKS': DecisionTreeClassifier(random_state=42),\n",
       "             'MLB-PORTABLE_EVAPORATIVE_AIR_COOLERS': DecisionTreeClassifier(random_state=42),\n",
       "             'MLB-LASER_MEASURES': DecisionTreeClassifier(random_state=42),\n",
       "             'MLB-MANICURE_AND_PEDICURE_SUPPLIES': DecisionTreeClassifier(random_state=42),\n",
       "             'MLB-PROTECTION_NETS': DecisionTreeClassifier(random_state=42),\n",
       "             'MLB-FACIAL_TOWELS': DecisionTreeClassifier(random_state=42),\n",
       "             'MLB-ANALOG_CAMERAS': DecisionTreeClassifier(random_state=42),\n",
       "             'MLB-BASEBOARDS': DecisionTreeClassifier(random_state=42),\n",
       "             'MLB-MICROCONTROLLER_BOARDS': DecisionTreeClassifier(random_state=42),\n",
       "             'MLB-SPORTSWEAR_SETS': DecisionTreeClassifier(random_state=42),\n",
       "             'MLB-BABY_CARRIERS': DecisionTreeClassifier(random_state=42),\n",
       "             'MLB-ALARMS_AND_SENSORS': DecisionTreeClassifier(random_state=42),\n",
       "             'MLB-AIR_FRESHENERS': DecisionTreeClassifier(random_state=42),\n",
       "             'MLB-PICTURE_FRAMES': DecisionTreeClassifier(random_state=42),\n",
       "             'MLB-DINING_SETS': DecisionTreeClassifier(random_state=42),\n",
       "             'MLB-MICROPHONES': DecisionTreeClassifier(random_state=42),\n",
       "             'MLM-CELLPHONE_TABLET_AND_GPS_SCREEN_PROTECTORS': DecisionTreeClassifier(random_state=42),\n",
       "             'MLB-STREAMING_MEDIA_DEVICES': DecisionTreeClassifier(random_state=42),\n",
       "             'MLB-AUTOMOTIVE_SKIRTS': DecisionTreeClassifier(random_state=42),\n",
       "             'MLM-HAIR_TREATMENTS': DecisionTreeClassifier(random_state=42),\n",
       "             'MLB-WIRELESS_FM_TRANSMITTERS': DecisionTreeClassifier(random_state=42),\n",
       "             'MLB-KEYBOARD_AND_MOUSE_KITS': DecisionTreeClassifier(random_state=42),\n",
       "             'MLB-MAKEUP_TRAIN_CASES': DecisionTreeClassifier(random_state=42),\n",
       "             'MLB-FRAGRANCE_SETS': DecisionTreeClassifier(random_state=42),\n",
       "             'MLB-CAR_WINDOW_SWITCHES': DecisionTreeClassifier(random_state=42),\n",
       "             'MLB-BODY_SKIN_CARE_PRODUCTS': DecisionTreeClassifier(random_state=42),\n",
       "             'MLB-DECORATIVE_BASKETS': DecisionTreeClassifier(random_state=42),\n",
       "             'MLB-SPORTS_AND_FITNESS': DecisionTreeClassifier(random_state=42),\n",
       "             'MLB-AUDIO_INTERFACES': DecisionTreeClassifier(random_state=42),\n",
       "             'MLM-HAIR_STRAIGHTENERS': DecisionTreeClassifier(random_state=42),\n",
       "             'MLB-WINDOWS': DecisionTreeClassifier(random_state=42),\n",
       "             'MLB-COMPUTER_MICE': DecisionTreeClassifier(random_state=42),\n",
       "             'MLB-NOTEBOOKS': DecisionTreeClassifier(random_state=42),\n",
       "             'MLB-SELF_ADHESIVE_LABELS': DecisionTreeClassifier(random_state=42),\n",
       "             'MLB-TOY_BUILDING_SETS': DecisionTreeClassifier(random_state=42),\n",
       "             'MLB-FRAME_POOLS': DecisionTreeClassifier(random_state=42),\n",
       "             'MLB-NAIL_POLISH_SHELVES': DecisionTreeClassifier(random_state=42),\n",
       "             'MLB-RECTIFIER_DIODES': DecisionTreeClassifier(random_state=42),\n",
       "             'MLB-SUSPENSION_CONTROL_ARM_BUSHINGS': DecisionTreeClassifier(random_state=42),\n",
       "             'MLB-SOLDERING_MACHINES': DecisionTreeClassifier(random_state=42),\n",
       "             'MLB-TABLE_AND_DESK_LAMPS': DecisionTreeClassifier(random_state=42),\n",
       "             'MLB-T_SHIRTS': DecisionTreeClassifier(random_state=42),\n",
       "             'MLB-WELDING_MACHINES': DecisionTreeClassifier(random_state=42),\n",
       "             'MLB-MANUAL_DRINKING_WATER_PUMPS': DecisionTreeClassifier(random_state=42),\n",
       "             'MLB-POWER_STEERING_HOSES': DecisionTreeClassifier(random_state=42),\n",
       "             'MLB-DVD_RECORDERS': DecisionTreeClassifier(random_state=42),\n",
       "             'MLB-HAIR_DYES_COLORANTS_DECOLORANTS': DecisionTreeClassifier(random_state=42),\n",
       "             'MLB-AUDIO_AND_VIDEO_CONNECTORS': DecisionTreeClassifier(random_state=42),\n",
       "             'MLB-SUITCASES': DecisionTreeClassifier(random_state=42),\n",
       "             'MLB-GLOVES_AND_MITTENS': DecisionTreeClassifier(random_state=42),\n",
       "             'MLB-DOOR_AND_WINDOW_LOCKS': DecisionTreeClassifier(random_state=42),\n",
       "             'MLB-CLEANING_SUPPLIES': DecisionTreeClassifier(random_state=42),\n",
       "             'MLB-COMPUTER_PROCESSORS': DecisionTreeClassifier(random_state=42),\n",
       "             'MLB-BACKPACKS': DecisionTreeClassifier(random_state=42),\n",
       "             'MLB-HAIR_STRAIGHTENERS': DecisionTreeClassifier(random_state=42),\n",
       "             'MLB-POOL_COVERS': DecisionTreeClassifier(random_state=42),\n",
       "             'MLB-PRINTERS': DecisionTreeClassifier(random_state=42),\n",
       "             'MLB-PC_THERMAL_COMPOUND_PASTES': DecisionTreeClassifier(random_state=42),\n",
       "             'MLM-DATA_CABLES_AND_ADAPTERS': DecisionTreeClassifier(random_state=42),\n",
       "             'MLB-WRENCH_SETS': DecisionTreeClassifier(random_state=42),\n",
       "             'MLM-BABY_STROLLERS': DecisionTreeClassifier(random_state=42),\n",
       "             'MLB-AUTOMOTIVE_STEERING_WHEELS': DecisionTreeClassifier(random_state=42),\n",
       "             'MLB-BEDS': DecisionTreeClassifier(random_state=42),\n",
       "             'MLB-CANDIES': DecisionTreeClassifier(random_state=42),\n",
       "             'MLB-WALL_CLOCKS': DecisionTreeClassifier(random_state=42),\n",
       "             'MLB-MOTORCYCLE_JACKETS': DecisionTreeClassifier(random_state=42),\n",
       "             'MLB-SUNGLASSES': DecisionTreeClassifier(random_state=42),\n",
       "             'MLB-BICYCLE_TIRES': DecisionTreeClassifier(random_state=42),\n",
       "             'MLB-DRESSES': DecisionTreeClassifier(random_state=42),\n",
       "             'MLM-CELLPHONES': DecisionTreeClassifier(random_state=42),\n",
       "             'MLB-FITNESS_TRAMPOLINES': DecisionTreeClassifier(random_state=42),\n",
       "             'MLM-LAMINATORS': DecisionTreeClassifier(random_state=42),\n",
       "             'MLB-BEAUTY_WIGS': DecisionTreeClassifier(random_state=42),\n",
       "             'MLM-HEADPHONES': DecisionTreeClassifier(random_state=42),\n",
       "             'MLB-WALKIE_TALKIES': DecisionTreeClassifier(random_state=42),\n",
       "             'MLB-SHOWER_HEADS': DecisionTreeClassifier(random_state=42),\n",
       "             'MLB-DENTAL_HIGH_SPEED_HANDPIECES': DecisionTreeClassifier(random_state=42),\n",
       "             'MLB-BATHROOM_SINKS': DecisionTreeClassifier(random_state=42),\n",
       "             'MLB-INFLATABLE_BALL_PITS': DecisionTreeClassifier(random_state=42),\n",
       "             'MLM-BOOTS_AND_BOOTIES': DecisionTreeClassifier(random_state=42),\n",
       "             'MLB-FOOTBALL_GOALKEEPER_GLOVES': DecisionTreeClassifier(random_state=42),\n",
       "             'MLM-GREEN_WALLS_AND_LIVING_PAINTINGS': DecisionTreeClassifier(random_state=42),\n",
       "             'MLB-MOTORCYCLE_RAIN_SUITS': DecisionTreeClassifier(random_state=42),\n",
       "             'MLM-THERMOSES': DecisionTreeClassifier(random_state=42),\n",
       "             'MLB-SUBMERSIBLE_PUMPS': DecisionTreeClassifier(random_state=42),\n",
       "             'MLB-TRAINING_BIBS': DecisionTreeClassifier(random_state=42),\n",
       "             'MLB-CATS': DecisionTreeClassifier(random_state=42)})"
      ]
     },
     "execution_count": 36,
     "metadata": {},
     "output_type": "execute_result"
    }
   ],
   "source": [
    "models_dict #Obtengo un dict con cada model trained"
   ]
  },
  {
   "cell_type": "code",
   "execution_count": 37,
   "metadata": {},
   "outputs": [],
   "source": [
    "def X_creator(row):\n",
    "    \"\"\"Devuelve el X_valid de cada row_test para la predicciones del modelo\"\"\"\n",
    "    \n",
    "    valid_set = {'most_viewed_times': most_viewed_times(row),'seen_items': seen_items(row), \n",
    "                     'views_to_searchs': views_to_searchs(row), 'item_condition': item_condition(row),\n",
    "                     'item_price': item_price(row), 'most_viewed': most_viewed(row), 'last_viewed': last_viewed(row)}\n",
    "    \n",
    "    \n",
    "    #vec = DictVectorizer()\n",
    "    #X_valid = vec.fit_transform(valid_set).toarray() \n",
    "    \n",
    "    X_valid = []\n",
    "    for values in valid_set.values():\n",
    "        X_valid.append(values) #uso esta forma y no el dict vectorizer asi puedo dar los datos de items como str\n",
    "                               #y no como integer. El dict vectorizer hace OH encoding automaticamente con las str vars\n",
    "                               #como es un decision tree no hace falta hacerlas dummy vars\n",
    "    X_valid = np.array(X_valid)\n",
    "    X_valid = X_valid.reshape(1, -1) #lo hago un array 2D para que me lo lea el decision Tree\n",
    "    \n",
    "    return X_valid"
   ]
  },
  {
   "cell_type": "code",
   "execution_count": 38,
   "metadata": {},
   "outputs": [
    {
     "data": {
      "text/plain": [
       "array([['3', '10', '10.0', '1', '54.99', '1801870', '1801870']],\n",
       "      dtype='<U32')"
      ]
     },
     "execution_count": 38,
     "metadata": {},
     "output_type": "execute_result"
    }
   ],
   "source": [
    "#testeamos\n",
    "\n",
    "row = rows_test[90]\n",
    "\n",
    "X = X_creator(row)\n",
    "X"
   ]
  },
  {
   "cell_type": "code",
   "execution_count": 39,
   "metadata": {},
   "outputs": [
    {
     "data": {
      "text/plain": [
       "array(['916978'], dtype='<U32')"
      ]
     },
     "execution_count": 39,
     "metadata": {},
     "output_type": "execute_result"
    }
   ],
   "source": [
    "model.predict(X)"
   ]
  },
  {
   "cell_type": "code",
   "execution_count": 40,
   "metadata": {},
   "outputs": [],
   "source": [
    "def final_model(row, valid_set = valid_subset, models = models_dict, k = 9):\n",
    "    \"\"\"Devuelve predicciones para cada row del user_history\n",
    "    con first value del decision tree y 9 values restantes\n",
    "    de la combinacion de baselines\"\"\"\n",
    "    \n",
    "    #Obtengo primero el domain al que pertenece el item mas visto, que usamos como key para la metadata\n",
    "    \n",
    "    viewed = [ev['event_info'] for ev in row['user_history'] if ev['event_type'] == 'view']\n",
    "    total_views = Counter(viewed)\n",
    "    try:\n",
    "        most_viewed = total_views.most_common(1)[0][0]\n",
    "    except IndexError: #me salio en algunas rows.\n",
    "        return last_viewed_and_best_domain(row) #si no tengo most viewed no tengo dom y no puedo usar el modelo\n",
    "                                                #en ese caso que me devuelva el baseline nomas.\n",
    "    \n",
    "    dom = metadata[most_viewed]['domain_id']    \n",
    "    \n",
    "    if dom in models.keys(): #si el dom esta en el train set.\n",
    "        model = models[dom] \n",
    "        \n",
    "        valid_set = X_creator(row)\n",
    "        \n",
    "        first_value = model.predict(valid_set)\n",
    "        first_value = int(first_value[0])\n",
    "        \n",
    "    else:\n",
    "        return last_viewed_and_best_domain(row)\n",
    "    \n",
    "    #Obtengo resultados del baseline\n",
    "    \n",
    "    baseline = last_viewed_and_best_domain(row, k)\n",
    "    \n",
    "    #Uno ambas predicciones con el first value en pos 0\n",
    "    \n",
    "    output = baseline\n",
    "    output.insert(0, first_value)\n",
    "    \n",
    "    return output"
   ]
  },
  {
   "cell_type": "code",
   "execution_count": 41,
   "metadata": {},
   "outputs": [
    {
     "data": {
      "application/vnd.jupyter.widget-view+json": {
       "model_id": "7e3aff75fed041f88e709164908be030",
       "version_major": 2,
       "version_minor": 0
      },
      "text/plain": [
       "HBox(children=(FloatProgress(value=0.0, max=4000.0), HTML(value='')))"
      ]
     },
     "metadata": {},
     "output_type": "display_data"
    },
    {
     "name": "stdout",
     "output_type": "stream",
     "text": [
      "\n"
     ]
    }
   ],
   "source": [
    "baseline_preds = []\n",
    "y_preds = []\n",
    "for row in tqdm(rows_test):\n",
    "    recom = final_model(row)\n",
    "    y_preds.append(recom)"
   ]
  },
  {
   "cell_type": "code",
   "execution_count": 42,
   "metadata": {
    "scrolled": true
   },
   "outputs": [
    {
     "name": "stdout",
     "output_type": "stream",
     "text": [
      "Your score is: 0.19833803721780285\n"
     ]
    }
   ],
   "source": [
    "y_true = [row['item_bought'] for row in rows_test]\n",
    "\n",
    "from challenge_metric import ndcg_score\n",
    "score = ndcg_score(y_true, y_preds, item_data,n_predictions=10)\n",
    "print(f'Your score is: {score}')"
   ]
  },
  {
   "cell_type": "markdown",
   "metadata": {},
   "source": [
    "## el baseline lo supera por 0.05 puntos (0.247 a 0.198)"
   ]
  },
  {
   "cell_type": "markdown",
   "metadata": {},
   "source": [
    "# Conclusion\n",
    "\n",
    "### Me quedo con la submission del baseline, ya que no logro implementar un modelo que lo supere.\n",
    "\n",
    "##### La submission del baseline se encuentra en la notebook MeLiChallenge2020BaselineSubmission"
   ]
  }
 ],
 "metadata": {
  "kernelspec": {
   "display_name": "Python 3",
   "language": "python",
   "name": "python3"
  },
  "language_info": {
   "codemirror_mode": {
    "name": "ipython",
    "version": 3
   },
   "file_extension": ".py",
   "mimetype": "text/x-python",
   "name": "python",
   "nbconvert_exporter": "python",
   "pygments_lexer": "ipython3",
   "version": "3.8.3"
  }
 },
 "nbformat": 4,
 "nbformat_minor": 4
}
