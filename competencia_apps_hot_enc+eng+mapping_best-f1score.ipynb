{
 "cells": [
  {
   "cell_type": "markdown",
   "metadata": {},
   "source": [
    "FIJATE SI VARIANDO LOS THRESHOLDS DEL LDA MEJORA EL CLASSIFIER.\n",
    "Hace train test split para sacar un f1 score mas cierto y evitar el overfitting\n",
    "undersampling mejora el overfitting..todo eso puede llegar a sumar!"
   ]
  },
  {
   "cell_type": "code",
   "execution_count": 1,
   "metadata": {},
   "outputs": [],
   "source": [
    "#librerias necesarias\n",
    "\n",
    "import numpy as np\n",
    "import pandas as pd\n",
    "import matplotlib.pyplot as plt\n",
    "import seaborn as sns\n",
    "import re\n",
    "import datetime\n",
    "\n",
    "sns.set(style='dark', context='notebook', palette='plasma')"
   ]
  },
  {
   "cell_type": "code",
   "execution_count": 2,
   "metadata": {},
   "outputs": [],
   "source": [
    "#get datos\n",
    "train_path = 'C:\\\\Users\\\\desar\\\\OneDrive\\\\Escritorio\\\\data_science\\\\Competencia apps google store\\\\train.csv'\n",
    "test_path = 'C:\\\\Users\\\\desar\\\\OneDrive\\\\Escritorio\\\\data_science\\\\Competencia apps google store\\\\test.csv'\n",
    "train_set = pd.read_csv(train_path, parse_dates = ['Last Updated'], index_col = 'ID')\n",
    "test_set = pd.read_csv(test_path, index_col = 'ID', parse_dates = ['Last Updated'])"
   ]
  },
  {
   "cell_type": "markdown",
   "metadata": {},
   "source": [
    "# Exploro y limpio datos"
   ]
  },
  {
   "cell_type": "code",
   "execution_count": 3,
   "metadata": {},
   "outputs": [
    {
     "data": {
      "text/html": [
       "<div>\n",
       "<style scoped>\n",
       "    .dataframe tbody tr th:only-of-type {\n",
       "        vertical-align: middle;\n",
       "    }\n",
       "\n",
       "    .dataframe tbody tr th {\n",
       "        vertical-align: top;\n",
       "    }\n",
       "\n",
       "    .dataframe thead th {\n",
       "        text-align: right;\n",
       "    }\n",
       "</style>\n",
       "<table border=\"1\" class=\"dataframe\">\n",
       "  <thead>\n",
       "    <tr style=\"text-align: right;\">\n",
       "      <th></th>\n",
       "      <th>App</th>\n",
       "      <th>Category</th>\n",
       "      <th>Rating</th>\n",
       "      <th>Reviews</th>\n",
       "      <th>Size</th>\n",
       "      <th>Installs</th>\n",
       "      <th>Type</th>\n",
       "      <th>Price</th>\n",
       "      <th>Content Rating</th>\n",
       "      <th>Genres</th>\n",
       "      <th>Last Updated</th>\n",
       "      <th>Current Ver</th>\n",
       "      <th>Android Ver</th>\n",
       "    </tr>\n",
       "    <tr>\n",
       "      <th>ID</th>\n",
       "      <th></th>\n",
       "      <th></th>\n",
       "      <th></th>\n",
       "      <th></th>\n",
       "      <th></th>\n",
       "      <th></th>\n",
       "      <th></th>\n",
       "      <th></th>\n",
       "      <th></th>\n",
       "      <th></th>\n",
       "      <th></th>\n",
       "      <th></th>\n",
       "      <th></th>\n",
       "    </tr>\n",
       "  </thead>\n",
       "  <tbody>\n",
       "    <tr>\n",
       "      <th>0</th>\n",
       "      <td>GPS Status &amp; Toolbox</td>\n",
       "      <td>TRAVEL_AND_LOCAL</td>\n",
       "      <td>1.0</td>\n",
       "      <td>149723</td>\n",
       "      <td>4.1M</td>\n",
       "      <td>10,000,000+</td>\n",
       "      <td>Free</td>\n",
       "      <td>0</td>\n",
       "      <td>Everyone</td>\n",
       "      <td>Travel &amp; Local</td>\n",
       "      <td>2018-06-13</td>\n",
       "      <td>8.1.171</td>\n",
       "      <td>4.0 and up</td>\n",
       "    </tr>\n",
       "    <tr>\n",
       "      <th>1</th>\n",
       "      <td>Fish|Hunt FL</td>\n",
       "      <td>LIFESTYLE</td>\n",
       "      <td>0.0</td>\n",
       "      <td>853</td>\n",
       "      <td>34M</td>\n",
       "      <td>100,000+</td>\n",
       "      <td>Free</td>\n",
       "      <td>0</td>\n",
       "      <td>Everyone</td>\n",
       "      <td>Lifestyle</td>\n",
       "      <td>2018-03-22</td>\n",
       "      <td>3.2.0</td>\n",
       "      <td>4.1 and up</td>\n",
       "    </tr>\n",
       "    <tr>\n",
       "      <th>2</th>\n",
       "      <td>Allrecipes Dinner Spinner</td>\n",
       "      <td>FOOD_AND_DRINK</td>\n",
       "      <td>1.0</td>\n",
       "      <td>61881</td>\n",
       "      <td>Varies with device</td>\n",
       "      <td>5,000,000+</td>\n",
       "      <td>Free</td>\n",
       "      <td>0</td>\n",
       "      <td>Everyone</td>\n",
       "      <td>Food &amp; Drink</td>\n",
       "      <td>2018-04-10</td>\n",
       "      <td>Varies with device</td>\n",
       "      <td>Varies with device</td>\n",
       "    </tr>\n",
       "    <tr>\n",
       "      <th>3</th>\n",
       "      <td>Don't touch my phone</td>\n",
       "      <td>TOOLS</td>\n",
       "      <td>0.0</td>\n",
       "      <td>21943</td>\n",
       "      <td>2.3M</td>\n",
       "      <td>5,000,000+</td>\n",
       "      <td>Free</td>\n",
       "      <td>0</td>\n",
       "      <td>Everyone</td>\n",
       "      <td>Tools</td>\n",
       "      <td>2016-10-19</td>\n",
       "      <td>30</td>\n",
       "      <td>2.3 and up</td>\n",
       "    </tr>\n",
       "    <tr>\n",
       "      <th>4</th>\n",
       "      <td>BM SPM Practice</td>\n",
       "      <td>FAMILY</td>\n",
       "      <td>1.0</td>\n",
       "      <td>6</td>\n",
       "      <td>9.2M</td>\n",
       "      <td>1,000+</td>\n",
       "      <td>Free</td>\n",
       "      <td>0</td>\n",
       "      <td>Everyone</td>\n",
       "      <td>Education</td>\n",
       "      <td>2018-01-24</td>\n",
       "      <td>1.0</td>\n",
       "      <td>4.1 and up</td>\n",
       "    </tr>\n",
       "  </tbody>\n",
       "</table>\n",
       "</div>"
      ],
      "text/plain": [
       "                          App          Category  Rating  Reviews  \\\n",
       "ID                                                                 \n",
       "0        GPS Status & Toolbox  TRAVEL_AND_LOCAL     1.0   149723   \n",
       "1                Fish|Hunt FL         LIFESTYLE     0.0      853   \n",
       "2   Allrecipes Dinner Spinner    FOOD_AND_DRINK     1.0    61881   \n",
       "3        Don't touch my phone             TOOLS     0.0    21943   \n",
       "4             BM SPM Practice            FAMILY     1.0        6   \n",
       "\n",
       "                  Size     Installs  Type Price Content Rating  \\\n",
       "ID                                                               \n",
       "0                 4.1M  10,000,000+  Free     0       Everyone   \n",
       "1                  34M     100,000+  Free     0       Everyone   \n",
       "2   Varies with device   5,000,000+  Free     0       Everyone   \n",
       "3                 2.3M   5,000,000+  Free     0       Everyone   \n",
       "4                 9.2M       1,000+  Free     0       Everyone   \n",
       "\n",
       "            Genres Last Updated         Current Ver         Android Ver  \n",
       "ID                                                                       \n",
       "0   Travel & Local   2018-06-13             8.1.171          4.0 and up  \n",
       "1        Lifestyle   2018-03-22               3.2.0          4.1 and up  \n",
       "2     Food & Drink   2018-04-10  Varies with device  Varies with device  \n",
       "3            Tools   2016-10-19                  30          2.3 and up  \n",
       "4        Education   2018-01-24                 1.0          4.1 and up  "
      ]
     },
     "execution_count": 3,
     "metadata": {},
     "output_type": "execute_result"
    }
   ],
   "source": [
    "train_set.head()"
   ]
  },
  {
   "cell_type": "code",
   "execution_count": 4,
   "metadata": {},
   "outputs": [
    {
     "data": {
      "text/html": [
       "<div>\n",
       "<style scoped>\n",
       "    .dataframe tbody tr th:only-of-type {\n",
       "        vertical-align: middle;\n",
       "    }\n",
       "\n",
       "    .dataframe tbody tr th {\n",
       "        vertical-align: top;\n",
       "    }\n",
       "\n",
       "    .dataframe thead th {\n",
       "        text-align: right;\n",
       "    }\n",
       "</style>\n",
       "<table border=\"1\" class=\"dataframe\">\n",
       "  <thead>\n",
       "    <tr style=\"text-align: right;\">\n",
       "      <th></th>\n",
       "      <th>Rating</th>\n",
       "      <th>Reviews</th>\n",
       "    </tr>\n",
       "  </thead>\n",
       "  <tbody>\n",
       "    <tr>\n",
       "      <th>count</th>\n",
       "      <td>5788.000000</td>\n",
       "      <td>5.788000e+03</td>\n",
       "    </tr>\n",
       "    <tr>\n",
       "      <th>mean</th>\n",
       "      <td>0.745853</td>\n",
       "      <td>2.341452e+05</td>\n",
       "    </tr>\n",
       "    <tr>\n",
       "      <th>std</th>\n",
       "      <td>0.435418</td>\n",
       "      <td>2.174469e+06</td>\n",
       "    </tr>\n",
       "    <tr>\n",
       "      <th>min</th>\n",
       "      <td>0.000000</td>\n",
       "      <td>0.000000e+00</td>\n",
       "    </tr>\n",
       "    <tr>\n",
       "      <th>25%</th>\n",
       "      <td>0.000000</td>\n",
       "      <td>2.300000e+01</td>\n",
       "    </tr>\n",
       "    <tr>\n",
       "      <th>50%</th>\n",
       "      <td>1.000000</td>\n",
       "      <td>8.890000e+02</td>\n",
       "    </tr>\n",
       "    <tr>\n",
       "      <th>75%</th>\n",
       "      <td>1.000000</td>\n",
       "      <td>2.643250e+04</td>\n",
       "    </tr>\n",
       "    <tr>\n",
       "      <th>max</th>\n",
       "      <td>1.000000</td>\n",
       "      <td>7.815831e+07</td>\n",
       "    </tr>\n",
       "  </tbody>\n",
       "</table>\n",
       "</div>"
      ],
      "text/plain": [
       "            Rating       Reviews\n",
       "count  5788.000000  5.788000e+03\n",
       "mean      0.745853  2.341452e+05\n",
       "std       0.435418  2.174469e+06\n",
       "min       0.000000  0.000000e+00\n",
       "25%       0.000000  2.300000e+01\n",
       "50%       1.000000  8.890000e+02\n",
       "75%       1.000000  2.643250e+04\n",
       "max       1.000000  7.815831e+07"
      ]
     },
     "execution_count": 4,
     "metadata": {},
     "output_type": "execute_result"
    }
   ],
   "source": [
    "train_set.describe()"
   ]
  },
  {
   "cell_type": "code",
   "execution_count": 5,
   "metadata": {
    "scrolled": true
   },
   "outputs": [
    {
     "name": "stdout",
     "output_type": "stream",
     "text": [
      "<class 'pandas.core.frame.DataFrame'>\n",
      "Int64Index: 5788 entries, 0 to 5787\n",
      "Data columns (total 13 columns):\n",
      " #   Column          Non-Null Count  Dtype         \n",
      "---  ------          --------------  -----         \n",
      " 0   App             5788 non-null   object        \n",
      " 1   Category        5788 non-null   object        \n",
      " 2   Rating          5788 non-null   float64       \n",
      " 3   Reviews         5788 non-null   int64         \n",
      " 4   Size            5788 non-null   object        \n",
      " 5   Installs        5788 non-null   object        \n",
      " 6   Type            5788 non-null   object        \n",
      " 7   Price           5788 non-null   object        \n",
      " 8   Content Rating  5788 non-null   object        \n",
      " 9   Genres          5788 non-null   object        \n",
      " 10  Last Updated    5788 non-null   datetime64[ns]\n",
      " 11  Current Ver     5788 non-null   object        \n",
      " 12  Android Ver     5788 non-null   object        \n",
      "dtypes: datetime64[ns](1), float64(1), int64(1), object(10)\n",
      "memory usage: 633.1+ KB\n"
     ]
    }
   ],
   "source": [
    "train_set.info()     "
   ]
  },
  {
   "cell_type": "markdown",
   "metadata": {},
   "source": [
    "Hay 5788 datos\n",
    "No hay NaNs\n",
    "Solo dos cols de numero, aunque precio installs y size son numericas pero un poco sucias las var..\n",
    "La unica datetime ya esta bien parsed\n",
    "desp las versiones hay que ver como se manejan"
   ]
  },
  {
   "cell_type": "code",
   "execution_count": 6,
   "metadata": {},
   "outputs": [
    {
     "data": {
      "text/html": [
       "<div>\n",
       "<style scoped>\n",
       "    .dataframe tbody tr th:only-of-type {\n",
       "        vertical-align: middle;\n",
       "    }\n",
       "\n",
       "    .dataframe tbody tr th {\n",
       "        vertical-align: top;\n",
       "    }\n",
       "\n",
       "    .dataframe thead th {\n",
       "        text-align: right;\n",
       "    }\n",
       "</style>\n",
       "<table border=\"1\" class=\"dataframe\">\n",
       "  <thead>\n",
       "    <tr style=\"text-align: right;\">\n",
       "      <th></th>\n",
       "      <th>App</th>\n",
       "      <th>Category</th>\n",
       "      <th>Reviews</th>\n",
       "      <th>Size</th>\n",
       "      <th>Installs</th>\n",
       "      <th>Type</th>\n",
       "      <th>Price</th>\n",
       "      <th>Content Rating</th>\n",
       "      <th>Genres</th>\n",
       "      <th>Last Updated</th>\n",
       "      <th>Current Ver</th>\n",
       "      <th>Android Ver</th>\n",
       "    </tr>\n",
       "    <tr>\n",
       "      <th>ID</th>\n",
       "      <th></th>\n",
       "      <th></th>\n",
       "      <th></th>\n",
       "      <th></th>\n",
       "      <th></th>\n",
       "      <th></th>\n",
       "      <th></th>\n",
       "      <th></th>\n",
       "      <th></th>\n",
       "      <th></th>\n",
       "      <th></th>\n",
       "      <th></th>\n",
       "    </tr>\n",
       "  </thead>\n",
       "  <tbody>\n",
       "    <tr>\n",
       "      <th>5788</th>\n",
       "      <td>Bk Usha behn</td>\n",
       "      <td>LIFESTYLE</td>\n",
       "      <td>10</td>\n",
       "      <td>3.0M</td>\n",
       "      <td>1,000+</td>\n",
       "      <td>Free</td>\n",
       "      <td>0</td>\n",
       "      <td>Everyone</td>\n",
       "      <td>Lifestyle</td>\n",
       "      <td>2018-01-14</td>\n",
       "      <td>1.0</td>\n",
       "      <td>4.1 and up</td>\n",
       "    </tr>\n",
       "    <tr>\n",
       "      <th>5789</th>\n",
       "      <td>Funny Ringtones</td>\n",
       "      <td>PERSONALIZATION</td>\n",
       "      <td>7146</td>\n",
       "      <td>14M</td>\n",
       "      <td>1,000,000+</td>\n",
       "      <td>Free</td>\n",
       "      <td>0</td>\n",
       "      <td>Everyone 10+</td>\n",
       "      <td>Personalization</td>\n",
       "      <td>2018-02-02</td>\n",
       "      <td>1.1</td>\n",
       "      <td>4.0 and up</td>\n",
       "    </tr>\n",
       "    <tr>\n",
       "      <th>5790</th>\n",
       "      <td>Strava.cz</td>\n",
       "      <td>SHOPPING</td>\n",
       "      <td>2221</td>\n",
       "      <td>Varies with device</td>\n",
       "      <td>100,000+</td>\n",
       "      <td>Free</td>\n",
       "      <td>0</td>\n",
       "      <td>Everyone</td>\n",
       "      <td>Shopping</td>\n",
       "      <td>2018-07-10</td>\n",
       "      <td>Varies with device</td>\n",
       "      <td>Varies with device</td>\n",
       "    </tr>\n",
       "  </tbody>\n",
       "</table>\n",
       "</div>"
      ],
      "text/plain": [
       "                  App         Category  Reviews                Size  \\\n",
       "ID                                                                    \n",
       "5788     Bk Usha behn        LIFESTYLE       10                3.0M   \n",
       "5789  Funny Ringtones  PERSONALIZATION     7146                 14M   \n",
       "5790        Strava.cz         SHOPPING     2221  Varies with device   \n",
       "\n",
       "        Installs  Type Price Content Rating           Genres Last Updated  \\\n",
       "ID                                                                          \n",
       "5788      1,000+  Free     0       Everyone        Lifestyle   2018-01-14   \n",
       "5789  1,000,000+  Free     0   Everyone 10+  Personalization   2018-02-02   \n",
       "5790    100,000+  Free     0       Everyone         Shopping   2018-07-10   \n",
       "\n",
       "             Current Ver         Android Ver  \n",
       "ID                                            \n",
       "5788                 1.0          4.1 and up  \n",
       "5789                 1.1          4.0 and up  \n",
       "5790  Varies with device  Varies with device  "
      ]
     },
     "execution_count": 6,
     "metadata": {},
     "output_type": "execute_result"
    }
   ],
   "source": [
    "test_set.head(3)"
   ]
  },
  {
   "cell_type": "code",
   "execution_count": 7,
   "metadata": {},
   "outputs": [
    {
     "name": "stdout",
     "output_type": "stream",
     "text": [
      "33 107\n"
     ]
    }
   ],
   "source": [
    "#genres y category parecen ser similares\n",
    "print(len(train_set['Category'].unique().tolist()), len(train_set['Genres'].unique().tolist()))\n",
    "#mmm nop, hay que seguir viendo. Genres parece ser mas detallado"
   ]
  },
  {
   "cell_type": "code",
   "execution_count": 8,
   "metadata": {},
   "outputs": [
    {
     "data": {
      "text/plain": [
       "0"
      ]
     },
     "execution_count": 8,
     "metadata": {},
     "output_type": "execute_result"
    }
   ],
   "source": [
    "distintos = []\n",
    "for i in train_set['Genres'].unique().tolist():\n",
    "    if i in train_set['Category'].unique().tolist():\n",
    "        distintos.append(i)\n",
    "\n",
    "len(distintos)\n",
    "\n",
    "#esto pasa porque nada que ver el formato de las dos! gil"
   ]
  },
  {
   "cell_type": "code",
   "execution_count": 9,
   "metadata": {},
   "outputs": [],
   "source": [
    "#formateo datos en category como estan mas limpitos en genres\n",
    "for df in [train_set, test_set]:\n",
    "    df['Category'] = df['Category'].str.replace('_',' ')\n",
    "    df['Category'] = df['Category'].str.title()\n",
    "    df['Category'] = df['Category'].str.replace('And','&', regex = True) #el and con mayuscula por el title()"
   ]
  },
  {
   "cell_type": "code",
   "execution_count": 10,
   "metadata": {},
   "outputs": [
    {
     "data": {
      "text/plain": [
       "array(['Travel & Local', 'Lifestyle', 'Food & Drink', 'Tools', 'Family',\n",
       "       'Art & Design', 'Medical', 'News & Magazines', 'Finance', 'Game',\n",
       "       'Productivity', 'House & Home', 'Sports', 'Video Players',\n",
       "       'Education', 'Entertainment', 'Health & Fitness', 'Business',\n",
       "       'Communication', 'Dating', 'Books & Reference', 'Personalization',\n",
       "       'Social', 'Photography', 'Libraries & Demo', 'Weather',\n",
       "       'Maps & Navigation', 'Shopping', 'Parenting', 'Events', 'Comics',\n",
       "       'Auto & Vehicles', 'Beauty'], dtype=object)"
      ]
     },
     "execution_count": 10,
     "metadata": {},
     "output_type": "execute_result"
    }
   ],
   "source": [
    "train_set['Category'].unique() #ahora vemos que quedo lindo"
   ]
  },
  {
   "cell_type": "code",
   "execution_count": 11,
   "metadata": {},
   "outputs": [
    {
     "data": {
      "text/plain": [
       "77"
      ]
     },
     "execution_count": 11,
     "metadata": {},
     "output_type": "execute_result"
    }
   ],
   "source": [
    "#probamos ahora\n",
    "distintos = []\n",
    "for i in train_set['Genres'].unique().tolist():\n",
    "    if i not in train_set['Category'].unique().tolist():\n",
    "        distintos.append(i)\n",
    "len(distintos)\n",
    "#vemos que 77 valores de Genres no estan en category, 30 si\n",
    "#solo 3 datos de category no se repiten en genre\n",
    "#cada dato de category tiene como subcategoria aprox 3 a 4 datos de genre"
   ]
  },
  {
   "cell_type": "code",
   "execution_count": 12,
   "metadata": {},
   "outputs": [],
   "source": [
    "#el titulo aparentemente no suma en nada asi que lo rajo\n",
    "#la version de la app tampoco..\n",
    "for df in [train_set, test_set]:\n",
    "    df.drop(['App', 'Current Ver'], inplace = True, axis = 1)"
   ]
  },
  {
   "cell_type": "code",
   "execution_count": 13,
   "metadata": {},
   "outputs": [],
   "source": [
    "#el precio tiene el signo pesos que tamb lo podemos rajar\n",
    "#el install tiene el + que tamb chau\n",
    "for df in [train_set, test_set]:\n",
    "    df['Price'] = df['Price'].str.replace('$', '')\n",
    "    df['Price'].astype(float)\n",
    "    \n",
    "train_set['Rating'] = train_set['Rating'].astype(int) #y a rating lo cambiamos tamb"
   ]
  },
  {
   "cell_type": "code",
   "execution_count": 14,
   "metadata": {},
   "outputs": [
    {
     "data": {
      "text/plain": [
       "array(['10,000,000+', '100,000+', '5,000,000+', '1,000+', '5,000+',\n",
       "       '10,000+', '100+', '100,000,000+', '500,000+', '50,000+', '10+',\n",
       "       '50,000,000+', '1,000,000+', '50+', '1,000,000,000+', '500+', '1+',\n",
       "       '5+', '500,000,000+', '0+'], dtype=object)"
      ]
     },
     "execution_count": 14,
     "metadata": {},
     "output_type": "execute_result"
    }
   ],
   "source": [
    "#con el installs parecen numeros a full\n",
    "#vemos si son var categoricas o numeros continuos, el + ese hace sospechar\n",
    "train_set['Installs'].unique()\n",
    "#sip, es categorica, con un simple imputer la manejamos ok"
   ]
  },
  {
   "cell_type": "code",
   "execution_count": 15,
   "metadata": {},
   "outputs": [],
   "source": [
    "#hay que ver cuantos datos son varies with device que lo tengo que considerar como NaN aca!"
   ]
  },
  {
   "cell_type": "code",
   "execution_count": 16,
   "metadata": {},
   "outputs": [],
   "source": [
    "def limpiarSizes(x): #Funcion de Franco.. el apply es posta\n",
    "    if str(x)[-1] == 'k':\n",
    "        return float(str(x)[:-1])/1024\n",
    "    elif str(x)[-1] == 'M':\n",
    "        return float(str(x)[:-1])\n",
    "    else:\n",
    "        return None\n",
    "    \n",
    "for df in [train_set, test_set]:\n",
    "    df['Size_ok'] = df['Size'].apply(limpiarSizes)\n",
    "    df.drop('Size', axis = 1, inplace = True)\n",
    "    df.rename(columns = {'Size_ok':'Size'}, inplace = True)"
   ]
  },
  {
   "cell_type": "code",
   "execution_count": 17,
   "metadata": {},
   "outputs": [
    {
     "data": {
      "text/plain": [
       "False    5060\n",
       "True      728\n",
       "Name: Size, dtype: int64"
      ]
     },
     "execution_count": 17,
     "metadata": {},
     "output_type": "execute_result"
    }
   ],
   "source": [
    "train_set.Size.isnull().value_counts()\n",
    "#tengo 728 NaNs en Size.."
   ]
  },
  {
   "cell_type": "code",
   "execution_count": 18,
   "metadata": {},
   "outputs": [
    {
     "data": {
      "image/png": "[encoded data removed]",
      "text/plain": [
       "<Figure size 1440x504 with 1 Axes>"
      ]
     },
     "metadata": {},
     "output_type": "display_data"
    }
   ],
   "source": [
    "# a genres podes hacerle un count y a los que sean poquitos los agrupas en categoria otros para no overfittear!\n",
    "\n",
    "#val_genero = pd.Series(train_set.Genres.value_counts())\n",
    "#sns.barplot(x = val_genero.index, y = val_genero.values, ci = None);\n",
    "\n",
    "train_set.Genres.value_counts().plot(kind = 'bar', figsize = (20,7));"
   ]
  },
  {
   "cell_type": "code",
   "execution_count": 19,
   "metadata": {},
   "outputs": [
    {
     "data": {
      "image/png": "[encoded data removed]",
      "text/plain": [
       "<Figure size 1440x504 with 1 Axes>"
      ]
     },
     "metadata": {},
     "output_type": "display_data"
    }
   ],
   "source": [
    "train_set.Category.value_counts().plot(kind = 'bar', figsize = (20,7));"
   ]
  },
  {
   "cell_type": "markdown",
   "metadata": {},
   "source": [
    "Viendo ambas graficas, se ve que lo mas significativo de la col Genre ya esta en category, mientras que el resto son muy pocas instances que puede constribuir a overfittear.. \n",
    "Me fijo si en los primeros datos de genre (eq a category) hay datos diferentes que puedan sumar.."
   ]
  },
  {
   "cell_type": "code",
   "execution_count": 20,
   "metadata": {},
   "outputs": [
    {
     "data": {
      "text/html": [
       "<div>\n",
       "<style scoped>\n",
       "    .dataframe tbody tr th:only-of-type {\n",
       "        vertical-align: middle;\n",
       "    }\n",
       "\n",
       "    .dataframe tbody tr th {\n",
       "        vertical-align: top;\n",
       "    }\n",
       "\n",
       "    .dataframe thead th {\n",
       "        text-align: right;\n",
       "    }\n",
       "</style>\n",
       "<table border=\"1\" class=\"dataframe\">\n",
       "  <thead>\n",
       "    <tr style=\"text-align: right;\">\n",
       "      <th></th>\n",
       "      <th>Category</th>\n",
       "      <th>Rating</th>\n",
       "      <th>Reviews</th>\n",
       "      <th>Installs</th>\n",
       "      <th>Type</th>\n",
       "      <th>Price</th>\n",
       "      <th>Content Rating</th>\n",
       "      <th>Genres</th>\n",
       "      <th>Last Updated</th>\n",
       "      <th>Android Ver</th>\n",
       "      <th>Size</th>\n",
       "    </tr>\n",
       "    <tr>\n",
       "      <th>ID</th>\n",
       "      <th></th>\n",
       "      <th></th>\n",
       "      <th></th>\n",
       "      <th></th>\n",
       "      <th></th>\n",
       "      <th></th>\n",
       "      <th></th>\n",
       "      <th></th>\n",
       "      <th></th>\n",
       "      <th></th>\n",
       "      <th></th>\n",
       "    </tr>\n",
       "  </thead>\n",
       "  <tbody>\n",
       "    <tr>\n",
       "      <th>0</th>\n",
       "      <td>Travel &amp; Local</td>\n",
       "      <td>1</td>\n",
       "      <td>149723</td>\n",
       "      <td>10,000,000+</td>\n",
       "      <td>Free</td>\n",
       "      <td>0</td>\n",
       "      <td>Everyone</td>\n",
       "      <td>Travel &amp; Local</td>\n",
       "      <td>2018-06-13</td>\n",
       "      <td>4.0 and up</td>\n",
       "      <td>4.1</td>\n",
       "    </tr>\n",
       "    <tr>\n",
       "      <th>1</th>\n",
       "      <td>Lifestyle</td>\n",
       "      <td>0</td>\n",
       "      <td>853</td>\n",
       "      <td>100,000+</td>\n",
       "      <td>Free</td>\n",
       "      <td>0</td>\n",
       "      <td>Everyone</td>\n",
       "      <td>Lifestyle</td>\n",
       "      <td>2018-03-22</td>\n",
       "      <td>4.1 and up</td>\n",
       "      <td>34.0</td>\n",
       "    </tr>\n",
       "    <tr>\n",
       "      <th>2</th>\n",
       "      <td>Food &amp; Drink</td>\n",
       "      <td>1</td>\n",
       "      <td>61881</td>\n",
       "      <td>5,000,000+</td>\n",
       "      <td>Free</td>\n",
       "      <td>0</td>\n",
       "      <td>Everyone</td>\n",
       "      <td>Food &amp; Drink</td>\n",
       "      <td>2018-04-10</td>\n",
       "      <td>Varies with device</td>\n",
       "      <td>NaN</td>\n",
       "    </tr>\n",
       "    <tr>\n",
       "      <th>3</th>\n",
       "      <td>Tools</td>\n",
       "      <td>0</td>\n",
       "      <td>21943</td>\n",
       "      <td>5,000,000+</td>\n",
       "      <td>Free</td>\n",
       "      <td>0</td>\n",
       "      <td>Everyone</td>\n",
       "      <td>Tools</td>\n",
       "      <td>2016-10-19</td>\n",
       "      <td>2.3 and up</td>\n",
       "      <td>2.3</td>\n",
       "    </tr>\n",
       "    <tr>\n",
       "      <th>4</th>\n",
       "      <td>Family</td>\n",
       "      <td>1</td>\n",
       "      <td>6</td>\n",
       "      <td>1,000+</td>\n",
       "      <td>Free</td>\n",
       "      <td>0</td>\n",
       "      <td>Everyone</td>\n",
       "      <td>Education</td>\n",
       "      <td>2018-01-24</td>\n",
       "      <td>4.1 and up</td>\n",
       "      <td>9.2</td>\n",
       "    </tr>\n",
       "  </tbody>\n",
       "</table>\n",
       "</div>"
      ],
      "text/plain": [
       "          Category  Rating  Reviews     Installs  Type Price Content Rating  \\\n",
       "ID                                                                            \n",
       "0   Travel & Local       1   149723  10,000,000+  Free     0       Everyone   \n",
       "1        Lifestyle       0      853     100,000+  Free     0       Everyone   \n",
       "2     Food & Drink       1    61881   5,000,000+  Free     0       Everyone   \n",
       "3            Tools       0    21943   5,000,000+  Free     0       Everyone   \n",
       "4           Family       1        6       1,000+  Free     0       Everyone   \n",
       "\n",
       "            Genres Last Updated         Android Ver  Size  \n",
       "ID                                                         \n",
       "0   Travel & Local   2018-06-13          4.0 and up   4.1  \n",
       "1        Lifestyle   2018-03-22          4.1 and up  34.0  \n",
       "2     Food & Drink   2018-04-10  Varies with device   NaN  \n",
       "3            Tools   2016-10-19          2.3 and up   2.3  \n",
       "4        Education   2018-01-24          4.1 and up   9.2  "
      ]
     },
     "execution_count": 20,
     "metadata": {},
     "output_type": "execute_result"
    }
   ],
   "source": [
    "train_set.head()"
   ]
  },
  {
   "cell_type": "code",
   "execution_count": 21,
   "metadata": {},
   "outputs": [
    {
     "data": {
      "text/plain": [
       "array(['4.0 and up', '4.1 and up', 'Varies with device', '2.3 and up',\n",
       "       '1.6 and up', '4.0.3 and up', '3.0 and up', '4.3 and up',\n",
       "       '5.0 and up', '4.4 and up', '4.2 and up', '2.2 and up',\n",
       "       '7.0 and up', '2.3.3 and up', '2.0.1 and up', '2.1 and up',\n",
       "       '2.0 and up', '1.5 and up', '3.2 and up', '8.0 and up',\n",
       "       '6.0 and up', '5.1 and up', '4.4W and up', '1.0 and up',\n",
       "       '2.2 - 7.1.1', '3.1 and up', '7.1 and up', '5.0 - 8.0',\n",
       "       '7.0 - 7.1.1', '5.0 - 7.1.1', '4.0.3 - 7.1.1'], dtype=object)"
      ]
     },
     "execution_count": 21,
     "metadata": {},
     "output_type": "execute_result"
    }
   ],
   "source": [
    "#vemos ahora la android Version\n",
    "train_set['Android Ver'].unique()"
   ]
  },
  {
   "cell_type": "code",
   "execution_count": 22,
   "metadata": {},
   "outputs": [],
   "source": [
    "def formato_version(x):\n",
    "    if re.match(r'\\d.\\d\\s\\w+\\s\\w+', x) != None:\n",
    "        return str(x)[:-7]\n",
    "    elif re.match(r'\\d.\\d.\\d\\s\\w+\\s\\w+', x) != None:\n",
    "        return str(x)[:-7]\n",
    "    elif re.match(r'\\d.\\d\\w', x) != None:\n",
    "        return str(x)[:-8]\n",
    "    elif str(x) == 'Varia':\n",
    "        return x\n",
    "    else: #GUARDA QUE ACA NO TAS TRATANDO EL VARIES WITH DEVICE!\n",
    "        x = 'acotado'\n",
    "        return x\n",
    "\n",
    "for df in [train_set, test_set]:\n",
    "    df['Vers Android'] = df['Android Ver'].apply(formato_version)\n",
    "    df.drop('Android Ver', axis = 1, inplace = True)"
   ]
  },
  {
   "cell_type": "code",
   "execution_count": 23,
   "metadata": {
    "scrolled": true
   },
   "outputs": [
    {
     "data": {
      "text/plain": [
       "399.99"
      ]
     },
     "execution_count": 23,
     "metadata": {},
     "output_type": "execute_result"
    }
   ],
   "source": [
    "#vemos la columna precio ahora\n",
    "train_set.Price = train_set.Price.astype(float)\n",
    "train_set.Price.max()"
   ]
  },
  {
   "cell_type": "code",
   "execution_count": 24,
   "metadata": {},
   "outputs": [
    {
     "data": {
      "image/png": "[encoded data removed]",
      "text/plain": [
       "<Figure size 1440x504 with 1 Axes>"
      ]
     },
     "metadata": {},
     "output_type": "display_data"
    }
   ],
   "source": [
    "precios = pd.Series(train_set.Price.value_counts()).sort_index(ascending = True)\n",
    "precios.iloc[1:].plot(kind = 'bar',figsize = (20, 7)); #no incluyo el 0 que son todas las app gratis asi no se me va al choto\n",
    "#sns.barplot(x = precios.iloc[1:].index, y = precios.iloc[1:].values);\n",
    "\n",
    "\n",
    "#se puede categorizar y ahi rajamos la columna type si es free o no.\n",
    "#este grafico ayuda a ver como categorizarlo\n",
    "#se completa el analisis viendo como influye eso en el precio"
   ]
  },
  {
   "cell_type": "code",
   "execution_count": 25,
   "metadata": {},
   "outputs": [],
   "source": [
    "for df in [train_set, test_set]:\n",
    "    df.drop('Type', axis = 1, inplace = True)"
   ]
  },
  {
   "cell_type": "code",
   "execution_count": 26,
   "metadata": {},
   "outputs": [
    {
     "data": {
      "text/plain": [
       "Everyone           4764\n",
       "Teen                597\n",
       "Mature 17+          234\n",
       "Everyone 10+        189\n",
       "Adults only 18+       3\n",
       "Unrated               1\n",
       "Name: Content Rating, dtype: int64"
      ]
     },
     "execution_count": 26,
     "metadata": {},
     "output_type": "execute_result"
    }
   ],
   "source": [
    "#veo la col content\n",
    "\n",
    "train_set['Content Rating'].value_counts()\n",
    "\n",
    "#Unrated deberia ser everyone para no overfittear ese dato..\n",
    "#Adults only 18+ deberia ser Mature 17+"
   ]
  },
  {
   "cell_type": "code",
   "execution_count": 27,
   "metadata": {
    "scrolled": true
   },
   "outputs": [
    {
     "data": {
      "text/plain": [
       "Everyone        4765\n",
       "Teen             597\n",
       "Mature 17+       237\n",
       "Everyone 10+     189\n",
       "Name: Content Rating, dtype: int64"
      ]
     },
     "execution_count": 27,
     "metadata": {},
     "output_type": "execute_result"
    }
   ],
   "source": [
    "for df in [train_set, test_set]:\n",
    "    df['Content Rating'] = df['Content Rating'].str.replace('Adults only 18+', 'Mature 17+', regex = False) \n",
    "    #sino pongo regex False me lee el + como algo de regex y me salen dos + en vez de uno en el output\n",
    "    df['Content Rating'] = df['Content Rating'].str.replace('Unrated', 'Everyone')\n",
    "\n",
    "train_set['Content Rating'].value_counts()"
   ]
  },
  {
   "cell_type": "code",
   "execution_count": 28,
   "metadata": {},
   "outputs": [
    {
     "name": "stdout",
     "output_type": "stream",
     "text": [
      "2010-05-21 00:00:00\n",
      "2018-08-08 00:00:00\n",
      "3001\n"
     ]
    }
   ],
   "source": [
    "#vemos ahora la columna con fechas..\n",
    "#como ya esta parsed puedo usar fn de la libreria time\n",
    "print(train_set['Last Updated'].min())#saco la fecha mas vieja\n",
    "print(train_set['Last Updated'].max())#y la mas nueva\n",
    "print((train_set['Last Updated'].max() - train_set['Last Updated'].min()).days)\n",
    "#de 2010 a 2018 la cuestion"
   ]
  },
  {
   "cell_type": "code",
   "execution_count": 29,
   "metadata": {},
   "outputs": [
    {
     "data": {
      "text/html": [
       "<div>\n",
       "<style scoped>\n",
       "    .dataframe tbody tr th:only-of-type {\n",
       "        vertical-align: middle;\n",
       "    }\n",
       "\n",
       "    .dataframe tbody tr th {\n",
       "        vertical-align: top;\n",
       "    }\n",
       "\n",
       "    .dataframe thead th {\n",
       "        text-align: right;\n",
       "    }\n",
       "</style>\n",
       "<table border=\"1\" class=\"dataframe\">\n",
       "  <thead>\n",
       "    <tr style=\"text-align: right;\">\n",
       "      <th></th>\n",
       "      <th>Category</th>\n",
       "      <th>Rating</th>\n",
       "      <th>Reviews</th>\n",
       "      <th>Installs</th>\n",
       "      <th>Price</th>\n",
       "      <th>Content Rating</th>\n",
       "      <th>Genres</th>\n",
       "      <th>Last Updated</th>\n",
       "      <th>Size</th>\n",
       "      <th>Vers Android</th>\n",
       "    </tr>\n",
       "    <tr>\n",
       "      <th>ID</th>\n",
       "      <th></th>\n",
       "      <th></th>\n",
       "      <th></th>\n",
       "      <th></th>\n",
       "      <th></th>\n",
       "      <th></th>\n",
       "      <th></th>\n",
       "      <th></th>\n",
       "      <th></th>\n",
       "      <th></th>\n",
       "    </tr>\n",
       "  </thead>\n",
       "  <tbody>\n",
       "    <tr>\n",
       "      <th>0</th>\n",
       "      <td>Travel &amp; Local</td>\n",
       "      <td>1</td>\n",
       "      <td>149723</td>\n",
       "      <td>10,000,000+</td>\n",
       "      <td>0.0</td>\n",
       "      <td>Everyone</td>\n",
       "      <td>Travel &amp; Local</td>\n",
       "      <td>06-2018</td>\n",
       "      <td>4.1</td>\n",
       "      <td>4.0</td>\n",
       "    </tr>\n",
       "    <tr>\n",
       "      <th>1</th>\n",
       "      <td>Lifestyle</td>\n",
       "      <td>0</td>\n",
       "      <td>853</td>\n",
       "      <td>100,000+</td>\n",
       "      <td>0.0</td>\n",
       "      <td>Everyone</td>\n",
       "      <td>Lifestyle</td>\n",
       "      <td>03-2018</td>\n",
       "      <td>34.0</td>\n",
       "      <td>4.1</td>\n",
       "    </tr>\n",
       "    <tr>\n",
       "      <th>2</th>\n",
       "      <td>Food &amp; Drink</td>\n",
       "      <td>1</td>\n",
       "      <td>61881</td>\n",
       "      <td>5,000,000+</td>\n",
       "      <td>0.0</td>\n",
       "      <td>Everyone</td>\n",
       "      <td>Food &amp; Drink</td>\n",
       "      <td>04-2018</td>\n",
       "      <td>NaN</td>\n",
       "      <td>acotado</td>\n",
       "    </tr>\n",
       "    <tr>\n",
       "      <th>3</th>\n",
       "      <td>Tools</td>\n",
       "      <td>0</td>\n",
       "      <td>21943</td>\n",
       "      <td>5,000,000+</td>\n",
       "      <td>0.0</td>\n",
       "      <td>Everyone</td>\n",
       "      <td>Tools</td>\n",
       "      <td>10-2016</td>\n",
       "      <td>2.3</td>\n",
       "      <td>2.3</td>\n",
       "    </tr>\n",
       "    <tr>\n",
       "      <th>4</th>\n",
       "      <td>Family</td>\n",
       "      <td>1</td>\n",
       "      <td>6</td>\n",
       "      <td>1,000+</td>\n",
       "      <td>0.0</td>\n",
       "      <td>Everyone</td>\n",
       "      <td>Education</td>\n",
       "      <td>01-2018</td>\n",
       "      <td>9.2</td>\n",
       "      <td>4.1</td>\n",
       "    </tr>\n",
       "  </tbody>\n",
       "</table>\n",
       "</div>"
      ],
      "text/plain": [
       "          Category  Rating  Reviews     Installs  Price Content Rating  \\\n",
       "ID                                                                       \n",
       "0   Travel & Local       1   149723  10,000,000+    0.0       Everyone   \n",
       "1        Lifestyle       0      853     100,000+    0.0       Everyone   \n",
       "2     Food & Drink       1    61881   5,000,000+    0.0       Everyone   \n",
       "3            Tools       0    21943   5,000,000+    0.0       Everyone   \n",
       "4           Family       1        6       1,000+    0.0       Everyone   \n",
       "\n",
       "            Genres Last Updated  Size Vers Android  \n",
       "ID                                                  \n",
       "0   Travel & Local      06-2018   4.1          4.0  \n",
       "1        Lifestyle      03-2018  34.0          4.1  \n",
       "2     Food & Drink      04-2018   NaN      acotado  \n",
       "3            Tools      10-2016   2.3          2.3  \n",
       "4        Education      01-2018   9.2          4.1  "
      ]
     },
     "execution_count": 29,
     "metadata": {},
     "output_type": "execute_result"
    }
   ],
   "source": [
    "#elimino los dias que son poco imp\n",
    "for df in [train_set, test_set]:\n",
    "    df['Last Updated'] = df['Last Updated'].dt.strftime('%m-%Y')\n",
    "train_set.head()    "
   ]
  },
  {
   "cell_type": "code",
   "execution_count": 30,
   "metadata": {},
   "outputs": [
    {
     "data": {
      "text/html": [
       "<div>\n",
       "<style scoped>\n",
       "    .dataframe tbody tr th:only-of-type {\n",
       "        vertical-align: middle;\n",
       "    }\n",
       "\n",
       "    .dataframe tbody tr th {\n",
       "        vertical-align: top;\n",
       "    }\n",
       "\n",
       "    .dataframe thead th {\n",
       "        text-align: right;\n",
       "    }\n",
       "</style>\n",
       "<table border=\"1\" class=\"dataframe\">\n",
       "  <thead>\n",
       "    <tr style=\"text-align: right;\">\n",
       "      <th></th>\n",
       "      <th>Category</th>\n",
       "      <th>Reviews</th>\n",
       "      <th>Installs</th>\n",
       "      <th>Price</th>\n",
       "      <th>Content Rating</th>\n",
       "      <th>Genres</th>\n",
       "      <th>Last Updated</th>\n",
       "      <th>Size</th>\n",
       "      <th>Vers Android</th>\n",
       "    </tr>\n",
       "    <tr>\n",
       "      <th>ID</th>\n",
       "      <th></th>\n",
       "      <th></th>\n",
       "      <th></th>\n",
       "      <th></th>\n",
       "      <th></th>\n",
       "      <th></th>\n",
       "      <th></th>\n",
       "      <th></th>\n",
       "      <th></th>\n",
       "    </tr>\n",
       "  </thead>\n",
       "  <tbody>\n",
       "    <tr>\n",
       "      <th>5788</th>\n",
       "      <td>Lifestyle</td>\n",
       "      <td>10</td>\n",
       "      <td>1,000+</td>\n",
       "      <td>0.0</td>\n",
       "      <td>Everyone</td>\n",
       "      <td>Lifestyle</td>\n",
       "      <td>01-2018</td>\n",
       "      <td>3.0</td>\n",
       "      <td>4.1</td>\n",
       "    </tr>\n",
       "    <tr>\n",
       "      <th>5789</th>\n",
       "      <td>Personalization</td>\n",
       "      <td>7146</td>\n",
       "      <td>1,000,000+</td>\n",
       "      <td>0.0</td>\n",
       "      <td>Everyone 10+</td>\n",
       "      <td>Personalization</td>\n",
       "      <td>02-2018</td>\n",
       "      <td>14.0</td>\n",
       "      <td>4.0</td>\n",
       "    </tr>\n",
       "    <tr>\n",
       "      <th>5790</th>\n",
       "      <td>Shopping</td>\n",
       "      <td>2221</td>\n",
       "      <td>100,000+</td>\n",
       "      <td>0.0</td>\n",
       "      <td>Everyone</td>\n",
       "      <td>Shopping</td>\n",
       "      <td>07-2018</td>\n",
       "      <td>NaN</td>\n",
       "      <td>acotado</td>\n",
       "    </tr>\n",
       "    <tr>\n",
       "      <th>5791</th>\n",
       "      <td>Shopping</td>\n",
       "      <td>21</td>\n",
       "      <td>100+</td>\n",
       "      <td>0.0</td>\n",
       "      <td>Everyone</td>\n",
       "      <td>Shopping</td>\n",
       "      <td>10-2017</td>\n",
       "      <td>2.5</td>\n",
       "      <td>4.2</td>\n",
       "    </tr>\n",
       "    <tr>\n",
       "      <th>5792</th>\n",
       "      <td>Travel &amp; Local</td>\n",
       "      <td>2822</td>\n",
       "      <td>100,000+</td>\n",
       "      <td>0.0</td>\n",
       "      <td>Everyone</td>\n",
       "      <td>Travel &amp; Local</td>\n",
       "      <td>07-2018</td>\n",
       "      <td>27.0</td>\n",
       "      <td>4.1</td>\n",
       "    </tr>\n",
       "  </tbody>\n",
       "</table>\n",
       "</div>"
      ],
      "text/plain": [
       "             Category  Reviews    Installs  Price Content Rating  \\\n",
       "ID                                                                 \n",
       "5788        Lifestyle       10      1,000+    0.0       Everyone   \n",
       "5789  Personalization     7146  1,000,000+    0.0   Everyone 10+   \n",
       "5790         Shopping     2221    100,000+    0.0       Everyone   \n",
       "5791         Shopping       21        100+    0.0       Everyone   \n",
       "5792   Travel & Local     2822    100,000+    0.0       Everyone   \n",
       "\n",
       "               Genres Last Updated  Size Vers Android  \n",
       "ID                                                     \n",
       "5788        Lifestyle      01-2018   3.0          4.1  \n",
       "5789  Personalization      02-2018  14.0          4.0  \n",
       "5790         Shopping      07-2018   NaN      acotado  \n",
       "5791         Shopping      10-2017   2.5          4.2  \n",
       "5792   Travel & Local      07-2018  27.0          4.1  "
      ]
     },
     "execution_count": 30,
     "metadata": {},
     "output_type": "execute_result"
    }
   ],
   "source": [
    "test_set.head()\n",
    "test_set.Price = test_set.Price.astype(float)\n",
    "test_set.head()"
   ]
  },
  {
   "cell_type": "markdown",
   "metadata": {},
   "source": [
    "Deteccion de Outliers"
   ]
  },
  {
   "cell_type": "markdown",
   "metadata": {},
   "source": [
    "# Analizo los datos"
   ]
  },
  {
   "cell_type": "code",
   "execution_count": 31,
   "metadata": {},
   "outputs": [
    {
     "data": {
      "image/png": "[encoded data removed]",
      "text/plain": [
       "<Figure size 432x288 with 1 Axes>"
      ]
     },
     "metadata": {},
     "output_type": "display_data"
    }
   ],
   "source": [
    "train_set.Rating.value_counts().plot(kind = 'bar');\n",
    "#aprox el 70% de las apps del set son exitosas"
   ]
  },
  {
   "cell_type": "code",
   "execution_count": 32,
   "metadata": {},
   "outputs": [
    {
     "data": {
      "text/html": [
       "<div>\n",
       "<style scoped>\n",
       "    .dataframe tbody tr th:only-of-type {\n",
       "        vertical-align: middle;\n",
       "    }\n",
       "\n",
       "    .dataframe tbody tr th {\n",
       "        vertical-align: top;\n",
       "    }\n",
       "\n",
       "    .dataframe thead th {\n",
       "        text-align: right;\n",
       "    }\n",
       "</style>\n",
       "<table border=\"1\" class=\"dataframe\">\n",
       "  <thead>\n",
       "    <tr style=\"text-align: right;\">\n",
       "      <th></th>\n",
       "      <th>Category</th>\n",
       "      <th>Rating</th>\n",
       "      <th>Reviews</th>\n",
       "      <th>Installs</th>\n",
       "      <th>Price</th>\n",
       "      <th>Content Rating</th>\n",
       "      <th>Genres</th>\n",
       "      <th>Last Updated</th>\n",
       "      <th>Size</th>\n",
       "      <th>Vers Android</th>\n",
       "    </tr>\n",
       "    <tr>\n",
       "      <th>ID</th>\n",
       "      <th></th>\n",
       "      <th></th>\n",
       "      <th></th>\n",
       "      <th></th>\n",
       "      <th></th>\n",
       "      <th></th>\n",
       "      <th></th>\n",
       "      <th></th>\n",
       "      <th></th>\n",
       "      <th></th>\n",
       "    </tr>\n",
       "  </thead>\n",
       "  <tbody>\n",
       "    <tr>\n",
       "      <th>0</th>\n",
       "      <td>Travel &amp; Local</td>\n",
       "      <td>1</td>\n",
       "      <td>149723</td>\n",
       "      <td>10,000,000+</td>\n",
       "      <td>0.0</td>\n",
       "      <td>Everyone</td>\n",
       "      <td>Travel &amp; Local</td>\n",
       "      <td>06-2018</td>\n",
       "      <td>4.1</td>\n",
       "      <td>4.0</td>\n",
       "    </tr>\n",
       "    <tr>\n",
       "      <th>1</th>\n",
       "      <td>Lifestyle</td>\n",
       "      <td>0</td>\n",
       "      <td>853</td>\n",
       "      <td>100,000+</td>\n",
       "      <td>0.0</td>\n",
       "      <td>Everyone</td>\n",
       "      <td>Lifestyle</td>\n",
       "      <td>03-2018</td>\n",
       "      <td>34.0</td>\n",
       "      <td>4.1</td>\n",
       "    </tr>\n",
       "    <tr>\n",
       "      <th>2</th>\n",
       "      <td>Food &amp; Drink</td>\n",
       "      <td>1</td>\n",
       "      <td>61881</td>\n",
       "      <td>5,000,000+</td>\n",
       "      <td>0.0</td>\n",
       "      <td>Everyone</td>\n",
       "      <td>Food &amp; Drink</td>\n",
       "      <td>04-2018</td>\n",
       "      <td>NaN</td>\n",
       "      <td>acotado</td>\n",
       "    </tr>\n",
       "    <tr>\n",
       "      <th>3</th>\n",
       "      <td>Tools</td>\n",
       "      <td>0</td>\n",
       "      <td>21943</td>\n",
       "      <td>5,000,000+</td>\n",
       "      <td>0.0</td>\n",
       "      <td>Everyone</td>\n",
       "      <td>Tools</td>\n",
       "      <td>10-2016</td>\n",
       "      <td>2.3</td>\n",
       "      <td>2.3</td>\n",
       "    </tr>\n",
       "    <tr>\n",
       "      <th>4</th>\n",
       "      <td>Family</td>\n",
       "      <td>1</td>\n",
       "      <td>6</td>\n",
       "      <td>1,000+</td>\n",
       "      <td>0.0</td>\n",
       "      <td>Everyone</td>\n",
       "      <td>Education</td>\n",
       "      <td>01-2018</td>\n",
       "      <td>9.2</td>\n",
       "      <td>4.1</td>\n",
       "    </tr>\n",
       "  </tbody>\n",
       "</table>\n",
       "</div>"
      ],
      "text/plain": [
       "          Category  Rating  Reviews     Installs  Price Content Rating  \\\n",
       "ID                                                                       \n",
       "0   Travel & Local       1   149723  10,000,000+    0.0       Everyone   \n",
       "1        Lifestyle       0      853     100,000+    0.0       Everyone   \n",
       "2     Food & Drink       1    61881   5,000,000+    0.0       Everyone   \n",
       "3            Tools       0    21943   5,000,000+    0.0       Everyone   \n",
       "4           Family       1        6       1,000+    0.0       Everyone   \n",
       "\n",
       "            Genres Last Updated  Size Vers Android  \n",
       "ID                                                  \n",
       "0   Travel & Local      06-2018   4.1          4.0  \n",
       "1        Lifestyle      03-2018  34.0          4.1  \n",
       "2     Food & Drink      04-2018   NaN      acotado  \n",
       "3            Tools      10-2016   2.3          2.3  \n",
       "4        Education      01-2018   9.2          4.1  "
      ]
     },
     "execution_count": 32,
     "metadata": {},
     "output_type": "execute_result"
    }
   ],
   "source": [
    "train_set.head()"
   ]
  },
  {
   "cell_type": "code",
   "execution_count": 33,
   "metadata": {},
   "outputs": [
    {
     "data": {
      "text/plain": [
       "<matplotlib.axes._subplots.AxesSubplot at 0x2250b49dca0>"
      ]
     },
     "execution_count": 33,
     "metadata": {},
     "output_type": "execute_result"
    },
    {
     "data": {
      "image/png": "[encoded data removed]",
      "text/plain": [
       "<Figure size 432x288 with 2 Axes>"
      ]
     },
     "metadata": {},
     "output_type": "display_data"
    }
   ],
   "source": [
    "corr_matrix = train_set.corr()\n",
    "sns.heatmap(corr_matrix, cmap = 'viridis', annot = True)"
   ]
  },
  {
   "cell_type": "markdown",
   "metadata": {},
   "source": [
    "Parece interesante que la corr mas alta sea entre size y revies, ploteamos eso"
   ]
  },
  {
   "cell_type": "code",
   "execution_count": 34,
   "metadata": {
    "scrolled": true
   },
   "outputs": [
    {
     "data": {
      "text/plain": [
       "<matplotlib.axes._subplots.AxesSubplot at 0x2250b3b3df0>"
      ]
     },
     "execution_count": 34,
     "metadata": {},
     "output_type": "execute_result"
    },
    {
     "data": {
      "image/png": "[encoded data removed]",
      "text/plain": [
       "<Figure size 432x288 with 1 Axes>"
      ]
     },
     "metadata": {},
     "output_type": "display_data"
    }
   ],
   "source": [
    "sns.lineplot(x = train_set['Size'], y = train_set['Reviews'])\n",
    "#aparentemente con mas size hay mas reviews"
   ]
  },
  {
   "cell_type": "markdown",
   "metadata": {},
   "source": [
    "Investigamos ahora si las installs estan relacionadas con las reviews..."
   ]
  },
  {
   "cell_type": "code",
   "execution_count": 35,
   "metadata": {},
   "outputs": [
    {
     "data": {
      "text/html": [
       "<div>\n",
       "<style scoped>\n",
       "    .dataframe tbody tr th:only-of-type {\n",
       "        vertical-align: middle;\n",
       "    }\n",
       "\n",
       "    .dataframe tbody tr th {\n",
       "        vertical-align: top;\n",
       "    }\n",
       "\n",
       "    .dataframe thead th {\n",
       "        text-align: right;\n",
       "    }\n",
       "</style>\n",
       "<table border=\"1\" class=\"dataframe\">\n",
       "  <thead>\n",
       "    <tr style=\"text-align: right;\">\n",
       "      <th></th>\n",
       "      <th>Category</th>\n",
       "      <th>Rating</th>\n",
       "      <th>Reviews</th>\n",
       "      <th>Price</th>\n",
       "      <th>Content Rating</th>\n",
       "      <th>Genres</th>\n",
       "      <th>Last Updated</th>\n",
       "      <th>Size</th>\n",
       "      <th>Vers Android</th>\n",
       "      <th>Descargas</th>\n",
       "    </tr>\n",
       "    <tr>\n",
       "      <th>ID</th>\n",
       "      <th></th>\n",
       "      <th></th>\n",
       "      <th></th>\n",
       "      <th></th>\n",
       "      <th></th>\n",
       "      <th></th>\n",
       "      <th></th>\n",
       "      <th></th>\n",
       "      <th></th>\n",
       "      <th></th>\n",
       "    </tr>\n",
       "  </thead>\n",
       "  <tbody>\n",
       "    <tr>\n",
       "      <th>0</th>\n",
       "      <td>Travel &amp; Local</td>\n",
       "      <td>1</td>\n",
       "      <td>149723</td>\n",
       "      <td>0.00</td>\n",
       "      <td>Everyone</td>\n",
       "      <td>Travel &amp; Local</td>\n",
       "      <td>06-2018</td>\n",
       "      <td>4.100000</td>\n",
       "      <td>4.0</td>\n",
       "      <td>10000000</td>\n",
       "    </tr>\n",
       "    <tr>\n",
       "      <th>1</th>\n",
       "      <td>Lifestyle</td>\n",
       "      <td>0</td>\n",
       "      <td>853</td>\n",
       "      <td>0.00</td>\n",
       "      <td>Everyone</td>\n",
       "      <td>Lifestyle</td>\n",
       "      <td>03-2018</td>\n",
       "      <td>34.000000</td>\n",
       "      <td>4.1</td>\n",
       "      <td>100000</td>\n",
       "    </tr>\n",
       "    <tr>\n",
       "      <th>2</th>\n",
       "      <td>Food &amp; Drink</td>\n",
       "      <td>1</td>\n",
       "      <td>61881</td>\n",
       "      <td>0.00</td>\n",
       "      <td>Everyone</td>\n",
       "      <td>Food &amp; Drink</td>\n",
       "      <td>04-2018</td>\n",
       "      <td>NaN</td>\n",
       "      <td>acotado</td>\n",
       "      <td>5000000</td>\n",
       "    </tr>\n",
       "    <tr>\n",
       "      <th>3</th>\n",
       "      <td>Tools</td>\n",
       "      <td>0</td>\n",
       "      <td>21943</td>\n",
       "      <td>0.00</td>\n",
       "      <td>Everyone</td>\n",
       "      <td>Tools</td>\n",
       "      <td>10-2016</td>\n",
       "      <td>2.300000</td>\n",
       "      <td>2.3</td>\n",
       "      <td>5000000</td>\n",
       "    </tr>\n",
       "    <tr>\n",
       "      <th>4</th>\n",
       "      <td>Family</td>\n",
       "      <td>1</td>\n",
       "      <td>6</td>\n",
       "      <td>0.00</td>\n",
       "      <td>Everyone</td>\n",
       "      <td>Education</td>\n",
       "      <td>01-2018</td>\n",
       "      <td>9.200000</td>\n",
       "      <td>4.1</td>\n",
       "      <td>1000</td>\n",
       "    </tr>\n",
       "    <tr>\n",
       "      <th>5</th>\n",
       "      <td>Tools</td>\n",
       "      <td>0</td>\n",
       "      <td>138</td>\n",
       "      <td>4.99</td>\n",
       "      <td>Everyone</td>\n",
       "      <td>Tools</td>\n",
       "      <td>03-2015</td>\n",
       "      <td>0.137695</td>\n",
       "      <td>1.6</td>\n",
       "      <td>5000</td>\n",
       "    </tr>\n",
       "    <tr>\n",
       "      <th>6</th>\n",
       "      <td>Art &amp; Design</td>\n",
       "      <td>1</td>\n",
       "      <td>13</td>\n",
       "      <td>0.00</td>\n",
       "      <td>Everyone</td>\n",
       "      <td>Art &amp; Design</td>\n",
       "      <td>03-2018</td>\n",
       "      <td>4.500000</td>\n",
       "      <td>4.0.3</td>\n",
       "      <td>1000</td>\n",
       "    </tr>\n",
       "    <tr>\n",
       "      <th>7</th>\n",
       "      <td>Medical</td>\n",
       "      <td>1</td>\n",
       "      <td>5</td>\n",
       "      <td>0.00</td>\n",
       "      <td>Everyone</td>\n",
       "      <td>Medical</td>\n",
       "      <td>01-2018</td>\n",
       "      <td>17.000000</td>\n",
       "      <td>4.0</td>\n",
       "      <td>1000</td>\n",
       "    </tr>\n",
       "    <tr>\n",
       "      <th>8</th>\n",
       "      <td>Family</td>\n",
       "      <td>1</td>\n",
       "      <td>97</td>\n",
       "      <td>0.00</td>\n",
       "      <td>Everyone</td>\n",
       "      <td>Entertainment</td>\n",
       "      <td>01-2018</td>\n",
       "      <td>2.600000</td>\n",
       "      <td>4.0</td>\n",
       "      <td>10000</td>\n",
       "    </tr>\n",
       "    <tr>\n",
       "      <th>9</th>\n",
       "      <td>Family</td>\n",
       "      <td>0</td>\n",
       "      <td>79</td>\n",
       "      <td>0.00</td>\n",
       "      <td>Everyone</td>\n",
       "      <td>Education</td>\n",
       "      <td>05-2015</td>\n",
       "      <td>33.000000</td>\n",
       "      <td>3.0</td>\n",
       "      <td>5000</td>\n",
       "    </tr>\n",
       "  </tbody>\n",
       "</table>\n",
       "</div>"
      ],
      "text/plain": [
       "          Category  Rating  Reviews  Price Content Rating          Genres  \\\n",
       "ID                                                                          \n",
       "0   Travel & Local       1   149723   0.00       Everyone  Travel & Local   \n",
       "1        Lifestyle       0      853   0.00       Everyone       Lifestyle   \n",
       "2     Food & Drink       1    61881   0.00       Everyone    Food & Drink   \n",
       "3            Tools       0    21943   0.00       Everyone           Tools   \n",
       "4           Family       1        6   0.00       Everyone       Education   \n",
       "5            Tools       0      138   4.99       Everyone           Tools   \n",
       "6     Art & Design       1       13   0.00       Everyone    Art & Design   \n",
       "7          Medical       1        5   0.00       Everyone         Medical   \n",
       "8           Family       1       97   0.00       Everyone   Entertainment   \n",
       "9           Family       0       79   0.00       Everyone       Education   \n",
       "\n",
       "   Last Updated       Size Vers Android  Descargas  \n",
       "ID                                                  \n",
       "0       06-2018   4.100000          4.0   10000000  \n",
       "1       03-2018  34.000000          4.1     100000  \n",
       "2       04-2018        NaN      acotado    5000000  \n",
       "3       10-2016   2.300000          2.3    5000000  \n",
       "4       01-2018   9.200000          4.1       1000  \n",
       "5       03-2015   0.137695          1.6       5000  \n",
       "6       03-2018   4.500000        4.0.3       1000  \n",
       "7       01-2018  17.000000          4.0       1000  \n",
       "8       01-2018   2.600000          4.0      10000  \n",
       "9       05-2015  33.000000          3.0       5000  "
      ]
     },
     "execution_count": 35,
     "metadata": {},
     "output_type": "execute_result"
    }
   ],
   "source": [
    "#le saco el + para vizualizar mejor\n",
    "def limpiar_installs(x):\n",
    "    x = x.replace(',','') #python no puede convertir a numero valores que tengan . o , ! por mas gil que parezca\n",
    "    return int(str(x)[:-1])\n",
    "for df in [train_set, test_set]:\n",
    "    df['Descargas'] = df['Installs'].apply(limpiar_installs)\n",
    "    df.drop('Installs', axis = 1, inplace = True)\n",
    "train_set.head(10)    "
   ]
  },
  {
   "cell_type": "code",
   "execution_count": 36,
   "metadata": {},
   "outputs": [
    {
     "name": "stderr",
     "output_type": "stream",
     "text": [
      "C:\\Users\\desar\\Anaconda3\\lib\\site-packages\\seaborn\\categorical.py:3666: UserWarning: The `factorplot` function has been renamed to `catplot`. The original name will be removed in a future release. Please update your code. Note that the default `kind` in `factorplot` (`'point'`) has changed `'strip'` in `catplot`.\n",
      "  warnings.warn(msg)\n",
      "C:\\Users\\desar\\Anaconda3\\lib\\site-packages\\seaborn\\categorical.py:3672: UserWarning: The `size` parameter has been renamed to `height`; please update your code.\n",
      "  warnings.warn(msg, UserWarning)\n"
     ]
    },
    {
     "data": {
      "text/plain": [
       "<seaborn.axisgrid.FacetGrid at 0x2250b833790>"
      ]
     },
     "execution_count": 36,
     "metadata": {},
     "output_type": "execute_result"
    },
    {
     "data": {
      "image/png": "[encoded data removed]",
      "text/plain": [
       "<Figure size 1296x648 with 1 Axes>"
      ]
     },
     "metadata": {},
     "output_type": "display_data"
    }
   ],
   "source": [
    "sns.factorplot(x = 'Descargas', y = 'Reviews', data = train_set, size = 9, aspect = 2)\n",
    "\n",
    "#logicamente a mas descargas, mas reviews"
   ]
  },
  {
   "cell_type": "markdown",
   "metadata": {},
   "source": [
    "me faltan muchos datos que no aparecen ahi porque son columnas que no estas como numericas\n",
    "hay que hacerles un mapping para categorizarlas"
   ]
  },
  {
   "cell_type": "code",
   "execution_count": 37,
   "metadata": {},
   "outputs": [
    {
     "data": {
      "text/html": [
       "<div>\n",
       "<style scoped>\n",
       "    .dataframe tbody tr th:only-of-type {\n",
       "        vertical-align: middle;\n",
       "    }\n",
       "\n",
       "    .dataframe tbody tr th {\n",
       "        vertical-align: top;\n",
       "    }\n",
       "\n",
       "    .dataframe thead th {\n",
       "        text-align: right;\n",
       "    }\n",
       "</style>\n",
       "<table border=\"1\" class=\"dataframe\">\n",
       "  <thead>\n",
       "    <tr style=\"text-align: right;\">\n",
       "      <th></th>\n",
       "      <th>Rating</th>\n",
       "      <th>Reviews</th>\n",
       "      <th>Descargas</th>\n",
       "    </tr>\n",
       "    <tr>\n",
       "      <th>Content Rating</th>\n",
       "      <th></th>\n",
       "      <th></th>\n",
       "      <th></th>\n",
       "    </tr>\n",
       "  </thead>\n",
       "  <tbody>\n",
       "    <tr>\n",
       "      <th>Everyone</th>\n",
       "      <td>0.745645</td>\n",
       "      <td>179405.379433</td>\n",
       "      <td>6.957874e+06</td>\n",
       "    </tr>\n",
       "    <tr>\n",
       "      <th>Everyone 10+</th>\n",
       "      <td>0.756614</td>\n",
       "      <td>681249.634921</td>\n",
       "      <td>1.086296e+07</td>\n",
       "    </tr>\n",
       "    <tr>\n",
       "      <th>Mature 17+</th>\n",
       "      <td>0.725738</td>\n",
       "      <td>262962.911392</td>\n",
       "      <td>7.774347e+06</td>\n",
       "    </tr>\n",
       "    <tr>\n",
       "      <th>Teen</th>\n",
       "      <td>0.752094</td>\n",
       "      <td>518068.949749</td>\n",
       "      <td>1.327376e+07</td>\n",
       "    </tr>\n",
       "  </tbody>\n",
       "</table>\n",
       "</div>"
      ],
      "text/plain": [
       "                  Rating        Reviews     Descargas\n",
       "Content Rating                                       \n",
       "Everyone        0.745645  179405.379433  6.957874e+06\n",
       "Everyone 10+    0.756614  681249.634921  1.086296e+07\n",
       "Mature 17+      0.725738  262962.911392  7.774347e+06\n",
       "Teen            0.752094  518068.949749  1.327376e+07"
      ]
     },
     "execution_count": 37,
     "metadata": {},
     "output_type": "execute_result"
    }
   ],
   "source": [
    "train_set[['Content Rating','Rating', 'Reviews', 'Descargas']].groupby('Content Rating').mean()\n",
    "#no hay tendencia marcada con este dato.."
   ]
  },
  {
   "cell_type": "code",
   "execution_count": 38,
   "metadata": {},
   "outputs": [
    {
     "name": "stderr",
     "output_type": "stream",
     "text": [
      "C:\\Users\\desar\\Anaconda3\\lib\\site-packages\\seaborn\\axisgrid.py:243: UserWarning: The `size` parameter has been renamed to `height`; please update your code.\n",
      "  warnings.warn(msg, UserWarning)\n"
     ]
    },
    {
     "data": {
      "image/png": "[encoded data removed]",
      "text/plain": [
       "<Figure size 296.8x576 with 4 Axes>"
      ]
     },
     "metadata": {},
     "output_type": "display_data"
    }
   ],
   "source": [
    "grid = sns.FacetGrid(train_set, row='Content Rating', size=2.0, aspect=2.0)\n",
    "grid.map(plt.hist, 'Rating', alpha=.5, bins = 2)\n",
    "grid.add_legend();\n",
    "\n",
    "#ver como corregir esto!"
   ]
  },
  {
   "cell_type": "code",
   "execution_count": 39,
   "metadata": {},
   "outputs": [
    {
     "data": {
      "image/png": "[encoded data removed]",
      "text/plain": [
       "<Figure size 432x288 with 1 Axes>"
      ]
     },
     "metadata": {},
     "output_type": "display_data"
    },
    {
     "data": {
      "image/png": "[encoded data removed]",
      "text/plain": [
       "<Figure size 432x288 with 1 Axes>"
      ]
     },
     "metadata": {},
     "output_type": "display_data"
    }
   ],
   "source": [
    "train_set.Descargas.value_counts().sort_index(ascending = True).plot(kind = 'bar', title = 'Recuento de datos')\n",
    "train_set[['Descargas','Rating']].groupby('Descargas').mean().sort_values(by = 'Descargas').plot(kind = 'bar',\n",
    "                                                                                                title = 'Rating');\n",
    "plt.show()\n",
    "\n",
    "#vemos que a mas orden de magnitud baja la cuestion porque hay muchos mas casos y se estabiliza en el promedio gral de 70%\n",
    "#se deberia acotar diferentes, no con un minimo de 0+ 1+ o even 1000+, lo vemos mejor en un value_count"
   ]
  },
  {
   "cell_type": "markdown",
   "metadata": {},
   "source": [
    "Sacando el bias de pocas instances para las apps con pocos datos (pocas descargas) vemos que \n",
    "la tendencia sube cuando aumentan las descargas.\n",
    "\n",
    "vemos que la particion en 5, 50, 500 es menos representativa y que podria generalizarse mas!\n",
    "Tamb podemos crear una nuvea col que sea muchas installs y pocas installs para los vaores extremos con pocos datos\n",
    "para no overfittear!\n",
    "Es raro que con tan pocas descargas sea considerada exitosa"
   ]
  },
  {
   "cell_type": "code",
   "execution_count": 40,
   "metadata": {
    "scrolled": false
   },
   "outputs": [
    {
     "data": {
      "image/png": "[encoded data removed]",
      "text/plain": [
       "<Figure size 432x288 with 1 Axes>"
      ]
     },
     "metadata": {},
     "output_type": "display_data"
    },
    {
     "data": {
      "image/png": "[encoded data removed]",
      "text/plain": [
       "<Figure size 432x288 with 1 Axes>"
      ]
     },
     "metadata": {},
     "output_type": "display_data"
    }
   ],
   "source": [
    "#vemos que onda el Size\n",
    "train_set.Size.value_counts().sort_index(ascending = True).plot(title = 'Recuento de datos');\n",
    "train_set[['Size','Rating']].groupby('Size').mean().sort_values(by = 'Size').plot(title = 'Rating')\n",
    "plt.show()"
   ]
  },
  {
   "cell_type": "markdown",
   "metadata": {},
   "source": [
    "Es un linea recta casi la relacion... a excepcion del comienzo que se ve claramente que es por falta de datos\n",
    "El size no incide directamente sobre el rating, pero si sobre la cantidad de reviews como ya vimos,\n",
    "y las reviews con la cantidad de descargas"
   ]
  },
  {
   "cell_type": "markdown",
   "metadata": {},
   "source": [
    "Vemos la ult actualizacion"
   ]
  },
  {
   "cell_type": "code",
   "execution_count": 41,
   "metadata": {},
   "outputs": [
    {
     "data": {
      "text/html": [
       "<div>\n",
       "<style scoped>\n",
       "    .dataframe tbody tr th:only-of-type {\n",
       "        vertical-align: middle;\n",
       "    }\n",
       "\n",
       "    .dataframe tbody tr th {\n",
       "        vertical-align: top;\n",
       "    }\n",
       "\n",
       "    .dataframe thead th {\n",
       "        text-align: right;\n",
       "    }\n",
       "</style>\n",
       "<table border=\"1\" class=\"dataframe\">\n",
       "  <thead>\n",
       "    <tr style=\"text-align: right;\">\n",
       "      <th></th>\n",
       "      <th>Category</th>\n",
       "      <th>Rating</th>\n",
       "      <th>Reviews</th>\n",
       "      <th>Price</th>\n",
       "      <th>Content Rating</th>\n",
       "      <th>Genres</th>\n",
       "      <th>Size</th>\n",
       "      <th>Vers Android</th>\n",
       "      <th>Descargas</th>\n",
       "      <th>Last Updated YQ</th>\n",
       "    </tr>\n",
       "    <tr>\n",
       "      <th>ID</th>\n",
       "      <th></th>\n",
       "      <th></th>\n",
       "      <th></th>\n",
       "      <th></th>\n",
       "      <th></th>\n",
       "      <th></th>\n",
       "      <th></th>\n",
       "      <th></th>\n",
       "      <th></th>\n",
       "      <th></th>\n",
       "    </tr>\n",
       "  </thead>\n",
       "  <tbody>\n",
       "    <tr>\n",
       "      <th>0</th>\n",
       "      <td>Travel &amp; Local</td>\n",
       "      <td>1</td>\n",
       "      <td>149723</td>\n",
       "      <td>0.0</td>\n",
       "      <td>Everyone</td>\n",
       "      <td>Travel &amp; Local</td>\n",
       "      <td>4.1</td>\n",
       "      <td>4.0</td>\n",
       "      <td>10000000</td>\n",
       "      <td>2018Q2</td>\n",
       "    </tr>\n",
       "    <tr>\n",
       "      <th>1</th>\n",
       "      <td>Lifestyle</td>\n",
       "      <td>0</td>\n",
       "      <td>853</td>\n",
       "      <td>0.0</td>\n",
       "      <td>Everyone</td>\n",
       "      <td>Lifestyle</td>\n",
       "      <td>34.0</td>\n",
       "      <td>4.1</td>\n",
       "      <td>100000</td>\n",
       "      <td>2018Q1</td>\n",
       "    </tr>\n",
       "  </tbody>\n",
       "</table>\n",
       "</div>"
      ],
      "text/plain": [
       "          Category  Rating  Reviews  Price Content Rating          Genres  \\\n",
       "ID                                                                          \n",
       "0   Travel & Local       1   149723    0.0       Everyone  Travel & Local   \n",
       "1        Lifestyle       0      853    0.0       Everyone       Lifestyle   \n",
       "\n",
       "    Size Vers Android  Descargas Last Updated YQ  \n",
       "ID                                                \n",
       "0    4.1          4.0   10000000          2018Q2  \n",
       "1   34.0          4.1     100000          2018Q1  "
      ]
     },
     "execution_count": 41,
     "metadata": {},
     "output_type": "execute_result"
    }
   ],
   "source": [
    "#Visualizo el last update en quarters como para tener mejor idea de la incidencia en el rating\n",
    "\n",
    "for df in [train_set, test_set]:\n",
    "    df['Last Updated'] = pd.to_datetime(df['Last Updated'])\n",
    "    df['Last Updated YQ'] = pd.PeriodIndex(df['Last Updated'], freq='Q')\n",
    "    df.drop('Last Updated', axis = 1, inplace = True)\n",
    "train_set.head(2)"
   ]
  },
  {
   "cell_type": "code",
   "execution_count": 42,
   "metadata": {},
   "outputs": [
    {
     "data": {
      "image/png": "[encoded data removed]",
      "text/plain": [
       "<Figure size 1440x360 with 1 Axes>"
      ]
     },
     "metadata": {},
     "output_type": "display_data"
    },
    {
     "data": {
      "image/png": "[encoded data removed]",
      "text/plain": [
       "<Figure size 1440x360 with 1 Axes>"
      ]
     },
     "metadata": {},
     "output_type": "display_data"
    },
    {
     "data": {
      "image/png": "[encoded data removed]",
      "text/plain": [
       "<Figure size 1440x360 with 1 Axes>"
      ]
     },
     "metadata": {},
     "output_type": "display_data"
    }
   ],
   "source": [
    "train_set[['Last Updated YQ','Rating']].groupby('Last Updated YQ').mean().sort_values(by = 'Last Updated YQ').plot( \n",
    "    figsize = (20,5), title = 'Rating')\n",
    "train_set[['Last Updated YQ','Rating']].groupby('Last Updated YQ').count().sort_values(by = 'Last Updated YQ').plot(\n",
    "    figsize = (20,5), title = 'Recuento')\n",
    "train_set[['Last Updated YQ','Rating']].groupby('Last Updated YQ').mean().loc['2017Q1':].sort_values(\n",
    "    by = 'Last Updated YQ').plot(kind = 'bar', figsize = (20,5), title = 'Rating desde 2017')\n",
    "plt.show()\n",
    "\n",
    "#leve tendencia a mejor rating a medida que esta mas actualizado. Analizando la curva desde 2017 \n",
    "#que es donde habría variación más significativa por la cantidad de datos de la graf de recuento"
   ]
  },
  {
   "cell_type": "markdown",
   "metadata": {},
   "source": [
    "Ahora vemos la version"
   ]
  },
  {
   "cell_type": "code",
   "execution_count": 43,
   "metadata": {
    "scrolled": false
   },
   "outputs": [
    {
     "name": "stderr",
     "output_type": "stream",
     "text": [
      "C:\\Users\\desar\\Anaconda3\\lib\\site-packages\\seaborn\\categorical.py:3692: UserWarning: The `size` parameter has been renamed to `height`; please update your code.\n",
      "  warnings.warn(msg, UserWarning)\n"
     ]
    },
    {
     "data": {
      "image/png": "[encoded data removed]",
      "text/plain": [
       "<Figure size 1080x288 with 1 Axes>"
      ]
     },
     "metadata": {},
     "output_type": "display_data"
    },
    {
     "data": {
      "image/png": "[encoded data removed]",
      "text/plain": [
       "<Figure size 1728x432 with 1 Axes>"
      ]
     },
     "metadata": {},
     "output_type": "display_data"
    }
   ],
   "source": [
    "plt.figure(figsize=(15,4))\n",
    "g = sns.countplot(train_set[\"Vers Android\"], order = train_set['Vers Android'].value_counts().index)\n",
    "plt.title('Cantidad de Apps por versión')\n",
    "g = sns.catplot(x = \"Vers Android\", y = 'Rating', data = train_set, kind = 'bar', size = 6, aspect = 4,\n",
    "                  order =  train_set['Vers Android'].unique())\n",
    "plt.show()\n",
    "\n",
    "#podemos categorizar en base a esto"
   ]
  },
  {
   "cell_type": "markdown",
   "metadata": {},
   "source": [
    "Por ultimo, averiguo si la cantidad de reviews esta dada por la popularidad y en gran parte por el tiempo desde la\n",
    "ult vez que fue actualizada"
   ]
  },
  {
   "cell_type": "code",
   "execution_count": 44,
   "metadata": {},
   "outputs": [
    {
     "data": {
      "text/plain": [
       "<matplotlib.axes._subplots.AxesSubplot at 0x2250aae0520>"
      ]
     },
     "execution_count": 44,
     "metadata": {},
     "output_type": "execute_result"
    },
    {
     "data": {
      "image/png": "[encoded data removed]",
      "text/plain": [
       "<Figure size 1440x360 with 1 Axes>"
      ]
     },
     "metadata": {},
     "output_type": "display_data"
    }
   ],
   "source": [
    "train_set[['Last Updated YQ','Reviews']].groupby('Last Updated YQ').mean().sort_values(by = 'Last Updated YQ').plot( \n",
    "    figsize = (20,5), title = 'Reviews segun tiempo de actualizacion', kind = 'bar')\n",
    "\n",
    "#los actualizados son los que tienen mas reviews tambien\n",
    "#da un idea de la interaccion de los usuarios y los developers con la app"
   ]
  },
  {
   "cell_type": "code",
   "execution_count": 45,
   "metadata": {},
   "outputs": [
    {
     "data": {
      "text/html": [
       "<div>\n",
       "<style scoped>\n",
       "    .dataframe tbody tr th:only-of-type {\n",
       "        vertical-align: middle;\n",
       "    }\n",
       "\n",
       "    .dataframe tbody tr th {\n",
       "        vertical-align: top;\n",
       "    }\n",
       "\n",
       "    .dataframe thead th {\n",
       "        text-align: right;\n",
       "    }\n",
       "</style>\n",
       "<table border=\"1\" class=\"dataframe\">\n",
       "  <thead>\n",
       "    <tr style=\"text-align: right;\">\n",
       "      <th></th>\n",
       "      <th>Category</th>\n",
       "      <th>Rating</th>\n",
       "      <th>Reviews</th>\n",
       "      <th>Price</th>\n",
       "      <th>Content Rating</th>\n",
       "      <th>Genres</th>\n",
       "      <th>Size</th>\n",
       "      <th>Vers Android</th>\n",
       "      <th>Descargas</th>\n",
       "      <th>Last Updated YQ</th>\n",
       "    </tr>\n",
       "    <tr>\n",
       "      <th>ID</th>\n",
       "      <th></th>\n",
       "      <th></th>\n",
       "      <th></th>\n",
       "      <th></th>\n",
       "      <th></th>\n",
       "      <th></th>\n",
       "      <th></th>\n",
       "      <th></th>\n",
       "      <th></th>\n",
       "      <th></th>\n",
       "    </tr>\n",
       "  </thead>\n",
       "  <tbody>\n",
       "    <tr>\n",
       "      <th>0</th>\n",
       "      <td>Travel &amp; Local</td>\n",
       "      <td>1</td>\n",
       "      <td>149723</td>\n",
       "      <td>0.00</td>\n",
       "      <td>Everyone</td>\n",
       "      <td>Travel &amp; Local</td>\n",
       "      <td>4.100000</td>\n",
       "      <td>4.0</td>\n",
       "      <td>10000000</td>\n",
       "      <td>2018Q2</td>\n",
       "    </tr>\n",
       "    <tr>\n",
       "      <th>1</th>\n",
       "      <td>Lifestyle</td>\n",
       "      <td>0</td>\n",
       "      <td>853</td>\n",
       "      <td>0.00</td>\n",
       "      <td>Everyone</td>\n",
       "      <td>Lifestyle</td>\n",
       "      <td>34.000000</td>\n",
       "      <td>4.1</td>\n",
       "      <td>100000</td>\n",
       "      <td>2018Q1</td>\n",
       "    </tr>\n",
       "    <tr>\n",
       "      <th>2</th>\n",
       "      <td>Food &amp; Drink</td>\n",
       "      <td>1</td>\n",
       "      <td>61881</td>\n",
       "      <td>0.00</td>\n",
       "      <td>Everyone</td>\n",
       "      <td>Food &amp; Drink</td>\n",
       "      <td>NaN</td>\n",
       "      <td>acotado</td>\n",
       "      <td>5000000</td>\n",
       "      <td>2018Q2</td>\n",
       "    </tr>\n",
       "    <tr>\n",
       "      <th>3</th>\n",
       "      <td>Tools</td>\n",
       "      <td>0</td>\n",
       "      <td>21943</td>\n",
       "      <td>0.00</td>\n",
       "      <td>Everyone</td>\n",
       "      <td>Tools</td>\n",
       "      <td>2.300000</td>\n",
       "      <td>2.3</td>\n",
       "      <td>5000000</td>\n",
       "      <td>2016Q4</td>\n",
       "    </tr>\n",
       "    <tr>\n",
       "      <th>4</th>\n",
       "      <td>Family</td>\n",
       "      <td>1</td>\n",
       "      <td>6</td>\n",
       "      <td>0.00</td>\n",
       "      <td>Everyone</td>\n",
       "      <td>Education</td>\n",
       "      <td>9.200000</td>\n",
       "      <td>4.1</td>\n",
       "      <td>1000</td>\n",
       "      <td>2018Q1</td>\n",
       "    </tr>\n",
       "    <tr>\n",
       "      <th>5</th>\n",
       "      <td>Tools</td>\n",
       "      <td>0</td>\n",
       "      <td>138</td>\n",
       "      <td>4.99</td>\n",
       "      <td>Everyone</td>\n",
       "      <td>Tools</td>\n",
       "      <td>0.137695</td>\n",
       "      <td>1.6</td>\n",
       "      <td>5000</td>\n",
       "      <td>2015Q1</td>\n",
       "    </tr>\n",
       "    <tr>\n",
       "      <th>6</th>\n",
       "      <td>Art &amp; Design</td>\n",
       "      <td>1</td>\n",
       "      <td>13</td>\n",
       "      <td>0.00</td>\n",
       "      <td>Everyone</td>\n",
       "      <td>Art &amp; Design</td>\n",
       "      <td>4.500000</td>\n",
       "      <td>4.0.3</td>\n",
       "      <td>1000</td>\n",
       "      <td>2018Q1</td>\n",
       "    </tr>\n",
       "    <tr>\n",
       "      <th>7</th>\n",
       "      <td>Medical</td>\n",
       "      <td>1</td>\n",
       "      <td>5</td>\n",
       "      <td>0.00</td>\n",
       "      <td>Everyone</td>\n",
       "      <td>Medical</td>\n",
       "      <td>17.000000</td>\n",
       "      <td>4.0</td>\n",
       "      <td>1000</td>\n",
       "      <td>2018Q1</td>\n",
       "    </tr>\n",
       "    <tr>\n",
       "      <th>8</th>\n",
       "      <td>Family</td>\n",
       "      <td>1</td>\n",
       "      <td>97</td>\n",
       "      <td>0.00</td>\n",
       "      <td>Everyone</td>\n",
       "      <td>Entertainment</td>\n",
       "      <td>2.600000</td>\n",
       "      <td>4.0</td>\n",
       "      <td>10000</td>\n",
       "      <td>2018Q1</td>\n",
       "    </tr>\n",
       "    <tr>\n",
       "      <th>9</th>\n",
       "      <td>Family</td>\n",
       "      <td>0</td>\n",
       "      <td>79</td>\n",
       "      <td>0.00</td>\n",
       "      <td>Everyone</td>\n",
       "      <td>Education</td>\n",
       "      <td>33.000000</td>\n",
       "      <td>3.0</td>\n",
       "      <td>5000</td>\n",
       "      <td>2015Q2</td>\n",
       "    </tr>\n",
       "  </tbody>\n",
       "</table>\n",
       "</div>"
      ],
      "text/plain": [
       "          Category  Rating  Reviews  Price Content Rating          Genres  \\\n",
       "ID                                                                          \n",
       "0   Travel & Local       1   149723   0.00       Everyone  Travel & Local   \n",
       "1        Lifestyle       0      853   0.00       Everyone       Lifestyle   \n",
       "2     Food & Drink       1    61881   0.00       Everyone    Food & Drink   \n",
       "3            Tools       0    21943   0.00       Everyone           Tools   \n",
       "4           Family       1        6   0.00       Everyone       Education   \n",
       "5            Tools       0      138   4.99       Everyone           Tools   \n",
       "6     Art & Design       1       13   0.00       Everyone    Art & Design   \n",
       "7          Medical       1        5   0.00       Everyone         Medical   \n",
       "8           Family       1       97   0.00       Everyone   Entertainment   \n",
       "9           Family       0       79   0.00       Everyone       Education   \n",
       "\n",
       "         Size Vers Android  Descargas Last Updated YQ  \n",
       "ID                                                     \n",
       "0    4.100000          4.0   10000000          2018Q2  \n",
       "1   34.000000          4.1     100000          2018Q1  \n",
       "2         NaN      acotado    5000000          2018Q2  \n",
       "3    2.300000          2.3    5000000          2016Q4  \n",
       "4    9.200000          4.1       1000          2018Q1  \n",
       "5    0.137695          1.6       5000          2015Q1  \n",
       "6    4.500000        4.0.3       1000          2018Q1  \n",
       "7   17.000000          4.0       1000          2018Q1  \n",
       "8    2.600000          4.0      10000          2018Q1  \n",
       "9   33.000000          3.0       5000          2015Q2  "
      ]
     },
     "execution_count": 45,
     "metadata": {},
     "output_type": "execute_result"
    }
   ],
   "source": [
    "train_set.head(10)"
   ]
  },
  {
   "cell_type": "markdown",
   "metadata": {},
   "source": [
    "Conclusiones:\n",
    "    \n",
    "Size esta levemente correlacionado con reviews,\n",
    "a su vez, reviews esta altamente relac con descargas,\n",
    "sacando datos con pocas instances, descargas esta postivimanete corr con el rating.\n",
    "El tiempo tambien esta corr levemente con rating, subiendo mientras mas actualizado este.\n",
    "las versiones 4.0 son claramente las mas populares.\n",
    "Todas las variables de Category estan incluidas en Genre, pero no al reves.\n",
    "\n",
    "entonces,\n",
    "\n",
    "- se puede crear una variable que se llame especifico, en caso que el genre difiera de la category.\n",
    "- para evitar overfittear, removemos valores bajos de vers android, size, descargas y last updated.\n",
    "- podemos crear un var que sea reviews / descargas y ver si se relac mas con el rating.\n",
    "- podemos crear una variable que combine factores de popularidad, como por ej ult actualizacion con reviews y desc"
   ]
  },
  {
   "cell_type": "markdown",
   "metadata": {},
   "source": [
    "# Feature Engineering y preprocessing"
   ]
  },
  {
   "cell_type": "code",
   "execution_count": 46,
   "metadata": {},
   "outputs": [
    {
     "data": {
      "text/plain": [
       "Rating           1.000000\n",
       "Reviews          0.046603\n",
       "Price           -0.003183\n",
       "Size             0.031331\n",
       "Descargas        0.043337\n",
       "review / desc    0.101740\n",
       "Name: Rating, dtype: float64"
      ]
     },
     "execution_count": 46,
     "metadata": {},
     "output_type": "execute_result"
    }
   ],
   "source": [
    "#creo la var review / descarga, vemos que se correlaciona mejor\n",
    "\n",
    "for df in [train_set, test_set]:\n",
    "    df['review / desc'] = df['Reviews'] / df['Descargas']\n",
    "\n",
    "train_set.corr()['Rating']"
   ]
  },
  {
   "cell_type": "code",
   "execution_count": 47,
   "metadata": {},
   "outputs": [],
   "source": [
    "# creo var de popularidad\n",
    "\n",
    "#defino que es popular si fue actualizada en el ultimo Quarter, y tiene un % de reviews o descargas mayor al 75% del total\n",
    "\n",
    "for df in [train_set, test_set]:\n",
    "    \n",
    "    df['popular'] = 0\n",
    "\n",
    "    Q3_desc = np.percentile(df['Descargas'], 75)\n",
    "    Q3_reviews = np.percentile(df['Reviews'], 75)\n",
    "    updated = '2018Q2' #tomo los dos ultimos quarters mejor\n",
    "\n",
    "    df.loc[((df['Descargas'] >= Q3_desc)|(df['Reviews'] >= Q3_reviews)) & (df['Last Updated YQ'] >= updated), \n",
    "           'popular'] = 1"
   ]
  },
  {
   "cell_type": "code",
   "execution_count": 48,
   "metadata": {},
   "outputs": [
    {
     "data": {
      "text/plain": [
       "0    4291\n",
       "1    1497\n",
       "Name: popular, dtype: int64"
      ]
     },
     "execution_count": 48,
     "metadata": {},
     "output_type": "execute_result"
    }
   ],
   "source": [
    "train_set['popular'].value_counts() #quedo razonablemente variado"
   ]
  },
  {
   "cell_type": "code",
   "execution_count": 49,
   "metadata": {},
   "outputs": [
    {
     "data": {
      "text/html": [
       "<div>\n",
       "<style scoped>\n",
       "    .dataframe tbody tr th:only-of-type {\n",
       "        vertical-align: middle;\n",
       "    }\n",
       "\n",
       "    .dataframe tbody tr th {\n",
       "        vertical-align: top;\n",
       "    }\n",
       "\n",
       "    .dataframe thead th {\n",
       "        text-align: right;\n",
       "    }\n",
       "</style>\n",
       "<table border=\"1\" class=\"dataframe\">\n",
       "  <thead>\n",
       "    <tr style=\"text-align: right;\">\n",
       "      <th></th>\n",
       "      <th>Category</th>\n",
       "      <th>Rating</th>\n",
       "      <th>Reviews</th>\n",
       "      <th>Price</th>\n",
       "      <th>Content Rating</th>\n",
       "      <th>Genres</th>\n",
       "      <th>Size</th>\n",
       "      <th>Vers Android</th>\n",
       "      <th>Descargas</th>\n",
       "      <th>Last Updated YQ</th>\n",
       "      <th>review / desc</th>\n",
       "      <th>popular</th>\n",
       "      <th>Gen Especifico</th>\n",
       "    </tr>\n",
       "    <tr>\n",
       "      <th>ID</th>\n",
       "      <th></th>\n",
       "      <th></th>\n",
       "      <th></th>\n",
       "      <th></th>\n",
       "      <th></th>\n",
       "      <th></th>\n",
       "      <th></th>\n",
       "      <th></th>\n",
       "      <th></th>\n",
       "      <th></th>\n",
       "      <th></th>\n",
       "      <th></th>\n",
       "      <th></th>\n",
       "    </tr>\n",
       "  </thead>\n",
       "  <tbody>\n",
       "    <tr>\n",
       "      <th>0</th>\n",
       "      <td>Travel &amp; Local</td>\n",
       "      <td>1</td>\n",
       "      <td>149723</td>\n",
       "      <td>0.0</td>\n",
       "      <td>Everyone</td>\n",
       "      <td>Travel &amp; Local</td>\n",
       "      <td>4.1</td>\n",
       "      <td>4.0</td>\n",
       "      <td>10000000</td>\n",
       "      <td>2018Q2</td>\n",
       "      <td>0.014972</td>\n",
       "      <td>1</td>\n",
       "      <td>0</td>\n",
       "    </tr>\n",
       "    <tr>\n",
       "      <th>1</th>\n",
       "      <td>Lifestyle</td>\n",
       "      <td>0</td>\n",
       "      <td>853</td>\n",
       "      <td>0.0</td>\n",
       "      <td>Everyone</td>\n",
       "      <td>Lifestyle</td>\n",
       "      <td>34.0</td>\n",
       "      <td>4.1</td>\n",
       "      <td>100000</td>\n",
       "      <td>2018Q1</td>\n",
       "      <td>0.008530</td>\n",
       "      <td>0</td>\n",
       "      <td>0</td>\n",
       "    </tr>\n",
       "    <tr>\n",
       "      <th>2</th>\n",
       "      <td>Food &amp; Drink</td>\n",
       "      <td>1</td>\n",
       "      <td>61881</td>\n",
       "      <td>0.0</td>\n",
       "      <td>Everyone</td>\n",
       "      <td>Food &amp; Drink</td>\n",
       "      <td>NaN</td>\n",
       "      <td>acotado</td>\n",
       "      <td>5000000</td>\n",
       "      <td>2018Q2</td>\n",
       "      <td>0.012376</td>\n",
       "      <td>1</td>\n",
       "      <td>0</td>\n",
       "    </tr>\n",
       "    <tr>\n",
       "      <th>3</th>\n",
       "      <td>Tools</td>\n",
       "      <td>0</td>\n",
       "      <td>21943</td>\n",
       "      <td>0.0</td>\n",
       "      <td>Everyone</td>\n",
       "      <td>Tools</td>\n",
       "      <td>2.3</td>\n",
       "      <td>2.3</td>\n",
       "      <td>5000000</td>\n",
       "      <td>2016Q4</td>\n",
       "      <td>0.004389</td>\n",
       "      <td>0</td>\n",
       "      <td>0</td>\n",
       "    </tr>\n",
       "    <tr>\n",
       "      <th>4</th>\n",
       "      <td>Family</td>\n",
       "      <td>1</td>\n",
       "      <td>6</td>\n",
       "      <td>0.0</td>\n",
       "      <td>Everyone</td>\n",
       "      <td>Education</td>\n",
       "      <td>9.2</td>\n",
       "      <td>4.1</td>\n",
       "      <td>1000</td>\n",
       "      <td>2018Q1</td>\n",
       "      <td>0.006000</td>\n",
       "      <td>0</td>\n",
       "      <td>1</td>\n",
       "    </tr>\n",
       "  </tbody>\n",
       "</table>\n",
       "</div>"
      ],
      "text/plain": [
       "          Category  Rating  Reviews  Price Content Rating          Genres  \\\n",
       "ID                                                                          \n",
       "0   Travel & Local       1   149723    0.0       Everyone  Travel & Local   \n",
       "1        Lifestyle       0      853    0.0       Everyone       Lifestyle   \n",
       "2     Food & Drink       1    61881    0.0       Everyone    Food & Drink   \n",
       "3            Tools       0    21943    0.0       Everyone           Tools   \n",
       "4           Family       1        6    0.0       Everyone       Education   \n",
       "\n",
       "    Size Vers Android  Descargas Last Updated YQ  review / desc  popular  \\\n",
       "ID                                                                         \n",
       "0    4.1          4.0   10000000          2018Q2       0.014972        1   \n",
       "1   34.0          4.1     100000          2018Q1       0.008530        0   \n",
       "2    NaN      acotado    5000000          2018Q2       0.012376        1   \n",
       "3    2.3          2.3    5000000          2016Q4       0.004389        0   \n",
       "4    9.2          4.1       1000          2018Q1       0.006000        0   \n",
       "\n",
       "    Gen Especifico  \n",
       "ID                  \n",
       "0                0  \n",
       "1                0  \n",
       "2                0  \n",
       "3                0  \n",
       "4                1  "
      ]
     },
     "execution_count": 49,
     "metadata": {},
     "output_type": "execute_result"
    }
   ],
   "source": [
    "#creamos una variable que nos diga si el genero es especifico dentro de la categoria\n",
    "\n",
    "train_set['Gen Especifico'] = 1\n",
    "test_set['Gen Especifico'] = 1\n",
    "\n",
    "train_set.loc[train_set['Genres'] == train_set['Category'], 'Gen Especifico'] = 0\n",
    "test_set.loc[test_set['Genres'] == test_set['Category'], 'Gen Especifico'] = 0  \n",
    "\n",
    "train_set.head()"
   ]
  },
  {
   "cell_type": "code",
   "execution_count": 50,
   "metadata": {},
   "outputs": [
    {
     "data": {
      "text/plain": [
       "Rating            1.000000\n",
       "Reviews           0.046603\n",
       "Price            -0.003183\n",
       "Size              0.031331\n",
       "Descargas         0.043337\n",
       "review / desc     0.101740\n",
       "popular           0.111881\n",
       "Gen Especifico   -0.007643\n",
       "Name: Rating, dtype: float64"
      ]
     },
     "execution_count": 50,
     "metadata": {},
     "output_type": "execute_result"
    }
   ],
   "source": [
    "train_set.corr()['Rating'] \n",
    "\n",
    "#Popular tiene linda correlacion\n",
    "#gen especifico no"
   ]
  },
  {
   "cell_type": "code",
   "execution_count": 51,
   "metadata": {
    "scrolled": true
   },
   "outputs": [
    {
     "data": {
      "text/html": [
       "<div>\n",
       "<style scoped>\n",
       "    .dataframe tbody tr th:only-of-type {\n",
       "        vertical-align: middle;\n",
       "    }\n",
       "\n",
       "    .dataframe tbody tr th {\n",
       "        vertical-align: top;\n",
       "    }\n",
       "\n",
       "    .dataframe thead th {\n",
       "        text-align: right;\n",
       "    }\n",
       "</style>\n",
       "<table border=\"1\" class=\"dataframe\">\n",
       "  <thead>\n",
       "    <tr style=\"text-align: right;\">\n",
       "      <th></th>\n",
       "      <th>Category</th>\n",
       "      <th>Rating</th>\n",
       "      <th>Reviews</th>\n",
       "      <th>Price</th>\n",
       "      <th>Content Rating</th>\n",
       "      <th>Genres</th>\n",
       "      <th>Size</th>\n",
       "      <th>Vers Android</th>\n",
       "      <th>Descargas</th>\n",
       "      <th>Last Updated YQ</th>\n",
       "      <th>review / desc</th>\n",
       "      <th>popular</th>\n",
       "      <th>Gen Especifico</th>\n",
       "    </tr>\n",
       "    <tr>\n",
       "      <th>ID</th>\n",
       "      <th></th>\n",
       "      <th></th>\n",
       "      <th></th>\n",
       "      <th></th>\n",
       "      <th></th>\n",
       "      <th></th>\n",
       "      <th></th>\n",
       "      <th></th>\n",
       "      <th></th>\n",
       "      <th></th>\n",
       "      <th></th>\n",
       "      <th></th>\n",
       "      <th></th>\n",
       "    </tr>\n",
       "  </thead>\n",
       "  <tbody>\n",
       "    <tr>\n",
       "      <th>0</th>\n",
       "      <td>Travel &amp; Local</td>\n",
       "      <td>1</td>\n",
       "      <td>149723</td>\n",
       "      <td>0.00</td>\n",
       "      <td>Everyone</td>\n",
       "      <td>Travel &amp; Local</td>\n",
       "      <td>4.100000</td>\n",
       "      <td>4.0</td>\n",
       "      <td>10000000</td>\n",
       "      <td>2018Q2</td>\n",
       "      <td>0.014972</td>\n",
       "      <td>1</td>\n",
       "      <td>0</td>\n",
       "    </tr>\n",
       "    <tr>\n",
       "      <th>1</th>\n",
       "      <td>Lifestyle</td>\n",
       "      <td>0</td>\n",
       "      <td>853</td>\n",
       "      <td>0.00</td>\n",
       "      <td>Everyone</td>\n",
       "      <td>Lifestyle</td>\n",
       "      <td>34.000000</td>\n",
       "      <td>4.1</td>\n",
       "      <td>100000</td>\n",
       "      <td>2018Q1</td>\n",
       "      <td>0.008530</td>\n",
       "      <td>0</td>\n",
       "      <td>0</td>\n",
       "    </tr>\n",
       "    <tr>\n",
       "      <th>2</th>\n",
       "      <td>Food &amp; Drink</td>\n",
       "      <td>1</td>\n",
       "      <td>61881</td>\n",
       "      <td>0.00</td>\n",
       "      <td>Everyone</td>\n",
       "      <td>Food &amp; Drink</td>\n",
       "      <td>NaN</td>\n",
       "      <td>acotado</td>\n",
       "      <td>5000000</td>\n",
       "      <td>2018Q2</td>\n",
       "      <td>0.012376</td>\n",
       "      <td>1</td>\n",
       "      <td>0</td>\n",
       "    </tr>\n",
       "    <tr>\n",
       "      <th>3</th>\n",
       "      <td>Tools</td>\n",
       "      <td>0</td>\n",
       "      <td>21943</td>\n",
       "      <td>0.00</td>\n",
       "      <td>Everyone</td>\n",
       "      <td>Tools</td>\n",
       "      <td>2.300000</td>\n",
       "      <td>2.3</td>\n",
       "      <td>5000000</td>\n",
       "      <td>2016Q4</td>\n",
       "      <td>0.004389</td>\n",
       "      <td>0</td>\n",
       "      <td>0</td>\n",
       "    </tr>\n",
       "    <tr>\n",
       "      <th>4</th>\n",
       "      <td>Family</td>\n",
       "      <td>1</td>\n",
       "      <td>6</td>\n",
       "      <td>0.00</td>\n",
       "      <td>Everyone</td>\n",
       "      <td>Education</td>\n",
       "      <td>9.200000</td>\n",
       "      <td>4.1</td>\n",
       "      <td>1000</td>\n",
       "      <td>2018Q1</td>\n",
       "      <td>0.006000</td>\n",
       "      <td>0</td>\n",
       "      <td>1</td>\n",
       "    </tr>\n",
       "    <tr>\n",
       "      <th>5</th>\n",
       "      <td>Tools</td>\n",
       "      <td>0</td>\n",
       "      <td>138</td>\n",
       "      <td>4.99</td>\n",
       "      <td>Everyone</td>\n",
       "      <td>Tools</td>\n",
       "      <td>0.137695</td>\n",
       "      <td>1.6</td>\n",
       "      <td>5000</td>\n",
       "      <td>2015Q1</td>\n",
       "      <td>0.027600</td>\n",
       "      <td>0</td>\n",
       "      <td>0</td>\n",
       "    </tr>\n",
       "    <tr>\n",
       "      <th>6</th>\n",
       "      <td>Art &amp; Design</td>\n",
       "      <td>1</td>\n",
       "      <td>13</td>\n",
       "      <td>0.00</td>\n",
       "      <td>Everyone</td>\n",
       "      <td>Art &amp; Design</td>\n",
       "      <td>4.500000</td>\n",
       "      <td>4.0.3</td>\n",
       "      <td>1000</td>\n",
       "      <td>2018Q1</td>\n",
       "      <td>0.013000</td>\n",
       "      <td>0</td>\n",
       "      <td>0</td>\n",
       "    </tr>\n",
       "    <tr>\n",
       "      <th>7</th>\n",
       "      <td>Medical</td>\n",
       "      <td>1</td>\n",
       "      <td>5</td>\n",
       "      <td>0.00</td>\n",
       "      <td>Everyone</td>\n",
       "      <td>Medical</td>\n",
       "      <td>17.000000</td>\n",
       "      <td>4.0</td>\n",
       "      <td>1000</td>\n",
       "      <td>2018Q1</td>\n",
       "      <td>0.005000</td>\n",
       "      <td>0</td>\n",
       "      <td>0</td>\n",
       "    </tr>\n",
       "    <tr>\n",
       "      <th>8</th>\n",
       "      <td>Family</td>\n",
       "      <td>1</td>\n",
       "      <td>97</td>\n",
       "      <td>0.00</td>\n",
       "      <td>Everyone</td>\n",
       "      <td>Entertainment</td>\n",
       "      <td>2.600000</td>\n",
       "      <td>4.0</td>\n",
       "      <td>10000</td>\n",
       "      <td>2018Q1</td>\n",
       "      <td>0.009700</td>\n",
       "      <td>0</td>\n",
       "      <td>1</td>\n",
       "    </tr>\n",
       "    <tr>\n",
       "      <th>9</th>\n",
       "      <td>Family</td>\n",
       "      <td>0</td>\n",
       "      <td>79</td>\n",
       "      <td>0.00</td>\n",
       "      <td>Everyone</td>\n",
       "      <td>Education</td>\n",
       "      <td>33.000000</td>\n",
       "      <td>3.0</td>\n",
       "      <td>5000</td>\n",
       "      <td>2015Q2</td>\n",
       "      <td>0.015800</td>\n",
       "      <td>0</td>\n",
       "      <td>1</td>\n",
       "    </tr>\n",
       "  </tbody>\n",
       "</table>\n",
       "</div>"
      ],
      "text/plain": [
       "          Category  Rating  Reviews  Price Content Rating          Genres  \\\n",
       "ID                                                                          \n",
       "0   Travel & Local       1   149723   0.00       Everyone  Travel & Local   \n",
       "1        Lifestyle       0      853   0.00       Everyone       Lifestyle   \n",
       "2     Food & Drink       1    61881   0.00       Everyone    Food & Drink   \n",
       "3            Tools       0    21943   0.00       Everyone           Tools   \n",
       "4           Family       1        6   0.00       Everyone       Education   \n",
       "5            Tools       0      138   4.99       Everyone           Tools   \n",
       "6     Art & Design       1       13   0.00       Everyone    Art & Design   \n",
       "7          Medical       1        5   0.00       Everyone         Medical   \n",
       "8           Family       1       97   0.00       Everyone   Entertainment   \n",
       "9           Family       0       79   0.00       Everyone       Education   \n",
       "\n",
       "         Size Vers Android  Descargas Last Updated YQ  review / desc  popular  \\\n",
       "ID                                                                              \n",
       "0    4.100000          4.0   10000000          2018Q2       0.014972        1   \n",
       "1   34.000000          4.1     100000          2018Q1       0.008530        0   \n",
       "2         NaN      acotado    5000000          2018Q2       0.012376        1   \n",
       "3    2.300000          2.3    5000000          2016Q4       0.004389        0   \n",
       "4    9.200000          4.1       1000          2018Q1       0.006000        0   \n",
       "5    0.137695          1.6       5000          2015Q1       0.027600        0   \n",
       "6    4.500000        4.0.3       1000          2018Q1       0.013000        0   \n",
       "7   17.000000          4.0       1000          2018Q1       0.005000        0   \n",
       "8    2.600000          4.0      10000          2018Q1       0.009700        0   \n",
       "9   33.000000          3.0       5000          2015Q2       0.015800        0   \n",
       "\n",
       "    Gen Especifico  \n",
       "ID                  \n",
       "0                0  \n",
       "1                0  \n",
       "2                0  \n",
       "3                0  \n",
       "4                1  \n",
       "5                0  \n",
       "6                0  \n",
       "7                0  \n",
       "8                1  \n",
       "9                1  "
      ]
     },
     "execution_count": 51,
     "metadata": {},
     "output_type": "execute_result"
    }
   ],
   "source": [
    "train_set.head(10)"
   ]
  },
  {
   "cell_type": "markdown",
   "metadata": {},
   "source": [
    "Hago Fill de los Size segun category"
   ]
  },
  {
   "cell_type": "code",
   "execution_count": 52,
   "metadata": {},
   "outputs": [
    {
     "data": {
      "image/png": "[encoded data removed]",
      "text/plain": [
       "<Figure size 432x288 with 2 Axes>"
      ]
     },
     "metadata": {},
     "output_type": "display_data"
    }
   ],
   "source": [
    "sns.heatmap(train_set.isnull(), cmap = 'copper', annot = False);\n",
    "#los unicos NaN estan en Size..bastantes"
   ]
  },
  {
   "cell_type": "code",
   "execution_count": 53,
   "metadata": {},
   "outputs": [
    {
     "data": {
      "image/png": "[encoded data removed]",
      "text/plain": [
       "<Figure size 432x288 with 2 Axes>"
      ]
     },
     "metadata": {},
     "output_type": "display_data"
    }
   ],
   "source": [
    "sns.heatmap(test_set.isnull(), cmap = 'copper', annot = False);"
   ]
  },
  {
   "cell_type": "code",
   "execution_count": 54,
   "metadata": {},
   "outputs": [],
   "source": [
    "#apa, vemos que nos aparecio un NaN en review/desc\n",
    "#lo filleamos asi nomas con la mean, porque es una sola instance en cada caso al parecer.\n",
    "for df in [train_set, test_set]:\n",
    "    df['review / desc'].fillna(method ='ffill', inplace = True)"
   ]
  },
  {
   "cell_type": "code",
   "execution_count": 55,
   "metadata": {},
   "outputs": [],
   "source": [
    "for df in [train_set,test_set]:\n",
    "    categorias = df['Category'].unique().tolist()\n",
    "    for i in categorias:\n",
    "            x = df.loc[df['Category'] == i, 'Size'].mean()\n",
    "            df.loc[(df['Category'] == i) & (df['Size'].isnull()), 'Size'] = x"
   ]
  },
  {
   "cell_type": "code",
   "execution_count": 56,
   "metadata": {},
   "outputs": [
    {
     "data": {
      "image/png": "[encoded data removed]",
      "text/plain": [
       "<Figure size 432x288 with 2 Axes>"
      ]
     },
     "metadata": {},
     "output_type": "display_data"
    }
   ],
   "source": [
    "sns.heatmap(test_set.isnull());\n",
    "#todo ok ya"
   ]
  },
  {
   "cell_type": "code",
   "execution_count": 57,
   "metadata": {
    "scrolled": true
   },
   "outputs": [
    {
     "data": {
      "text/plain": [
       "Everyone        1168\n",
       "Teen             172\n",
       "Mature 17+        60\n",
       "Everyone 10+      48\n",
       "Name: Content Rating, dtype: int64"
      ]
     },
     "execution_count": 57,
     "metadata": {},
     "output_type": "execute_result"
    }
   ],
   "source": [
    "test_set['Content Rating'].value_counts()"
   ]
  },
  {
   "cell_type": "code",
   "execution_count": 58,
   "metadata": {},
   "outputs": [],
   "source": [
    "def mapeo_contenido(x):\n",
    "    if str(x) == 'Everyone':\n",
    "        x = 0\n",
    "    elif str(x) == 'Teen':\n",
    "        x = 1\n",
    "    elif str(x) == 'Mature 17+':\n",
    "        x = 2\n",
    "    elif str(x) == 'Everyone 10+':\n",
    "        x = 3\n",
    "        \n",
    "    return x\n",
    "\n",
    "for df in [train_set, test_set]:\n",
    "    df['Contenido_mapped'] = df['Content Rating'].apply(mapeo_contenido)\n",
    "    df.drop('Content Rating', axis = 1, inplace = True)"
   ]
  },
  {
   "cell_type": "code",
   "execution_count": 59,
   "metadata": {},
   "outputs": [
    {
     "data": {
      "text/html": [
       "<div>\n",
       "<style scoped>\n",
       "    .dataframe tbody tr th:only-of-type {\n",
       "        vertical-align: middle;\n",
       "    }\n",
       "\n",
       "    .dataframe tbody tr th {\n",
       "        vertical-align: top;\n",
       "    }\n",
       "\n",
       "    .dataframe thead th {\n",
       "        text-align: right;\n",
       "    }\n",
       "</style>\n",
       "<table border=\"1\" class=\"dataframe\">\n",
       "  <thead>\n",
       "    <tr style=\"text-align: right;\">\n",
       "      <th></th>\n",
       "      <th>Category</th>\n",
       "      <th>Rating</th>\n",
       "      <th>Reviews</th>\n",
       "      <th>Price</th>\n",
       "      <th>Genres</th>\n",
       "      <th>Size</th>\n",
       "      <th>Vers Android</th>\n",
       "      <th>Descargas</th>\n",
       "      <th>Last Updated YQ</th>\n",
       "      <th>review / desc</th>\n",
       "      <th>popular</th>\n",
       "      <th>Gen Especifico</th>\n",
       "      <th>Contenido_mapped</th>\n",
       "    </tr>\n",
       "    <tr>\n",
       "      <th>ID</th>\n",
       "      <th></th>\n",
       "      <th></th>\n",
       "      <th></th>\n",
       "      <th></th>\n",
       "      <th></th>\n",
       "      <th></th>\n",
       "      <th></th>\n",
       "      <th></th>\n",
       "      <th></th>\n",
       "      <th></th>\n",
       "      <th></th>\n",
       "      <th></th>\n",
       "      <th></th>\n",
       "    </tr>\n",
       "  </thead>\n",
       "  <tbody>\n",
       "    <tr>\n",
       "      <th>0</th>\n",
       "      <td>Travel &amp; Local</td>\n",
       "      <td>1</td>\n",
       "      <td>149723</td>\n",
       "      <td>0.00</td>\n",
       "      <td>Travel &amp; Local</td>\n",
       "      <td>4.100000</td>\n",
       "      <td>4.0</td>\n",
       "      <td>10000000</td>\n",
       "      <td>2018Q2</td>\n",
       "      <td>0.014972</td>\n",
       "      <td>1</td>\n",
       "      <td>0</td>\n",
       "      <td>0</td>\n",
       "    </tr>\n",
       "    <tr>\n",
       "      <th>1</th>\n",
       "      <td>Lifestyle</td>\n",
       "      <td>0</td>\n",
       "      <td>853</td>\n",
       "      <td>0.00</td>\n",
       "      <td>Lifestyle</td>\n",
       "      <td>34.000000</td>\n",
       "      <td>4.1</td>\n",
       "      <td>100000</td>\n",
       "      <td>2018Q1</td>\n",
       "      <td>0.008530</td>\n",
       "      <td>0</td>\n",
       "      <td>0</td>\n",
       "      <td>0</td>\n",
       "    </tr>\n",
       "    <tr>\n",
       "      <th>2</th>\n",
       "      <td>Food &amp; Drink</td>\n",
       "      <td>1</td>\n",
       "      <td>61881</td>\n",
       "      <td>0.00</td>\n",
       "      <td>Food &amp; Drink</td>\n",
       "      <td>21.303846</td>\n",
       "      <td>acotado</td>\n",
       "      <td>5000000</td>\n",
       "      <td>2018Q2</td>\n",
       "      <td>0.012376</td>\n",
       "      <td>1</td>\n",
       "      <td>0</td>\n",
       "      <td>0</td>\n",
       "    </tr>\n",
       "    <tr>\n",
       "      <th>3</th>\n",
       "      <td>Tools</td>\n",
       "      <td>0</td>\n",
       "      <td>21943</td>\n",
       "      <td>0.00</td>\n",
       "      <td>Tools</td>\n",
       "      <td>2.300000</td>\n",
       "      <td>2.3</td>\n",
       "      <td>5000000</td>\n",
       "      <td>2016Q4</td>\n",
       "      <td>0.004389</td>\n",
       "      <td>0</td>\n",
       "      <td>0</td>\n",
       "      <td>0</td>\n",
       "    </tr>\n",
       "    <tr>\n",
       "      <th>4</th>\n",
       "      <td>Family</td>\n",
       "      <td>1</td>\n",
       "      <td>6</td>\n",
       "      <td>0.00</td>\n",
       "      <td>Education</td>\n",
       "      <td>9.200000</td>\n",
       "      <td>4.1</td>\n",
       "      <td>1000</td>\n",
       "      <td>2018Q1</td>\n",
       "      <td>0.006000</td>\n",
       "      <td>0</td>\n",
       "      <td>1</td>\n",
       "      <td>0</td>\n",
       "    </tr>\n",
       "    <tr>\n",
       "      <th>5</th>\n",
       "      <td>Tools</td>\n",
       "      <td>0</td>\n",
       "      <td>138</td>\n",
       "      <td>4.99</td>\n",
       "      <td>Tools</td>\n",
       "      <td>0.137695</td>\n",
       "      <td>1.6</td>\n",
       "      <td>5000</td>\n",
       "      <td>2015Q1</td>\n",
       "      <td>0.027600</td>\n",
       "      <td>0</td>\n",
       "      <td>0</td>\n",
       "      <td>0</td>\n",
       "    </tr>\n",
       "    <tr>\n",
       "      <th>6</th>\n",
       "      <td>Art &amp; Design</td>\n",
       "      <td>1</td>\n",
       "      <td>13</td>\n",
       "      <td>0.00</td>\n",
       "      <td>Art &amp; Design</td>\n",
       "      <td>4.500000</td>\n",
       "      <td>4.0.3</td>\n",
       "      <td>1000</td>\n",
       "      <td>2018Q1</td>\n",
       "      <td>0.013000</td>\n",
       "      <td>0</td>\n",
       "      <td>0</td>\n",
       "      <td>0</td>\n",
       "    </tr>\n",
       "    <tr>\n",
       "      <th>7</th>\n",
       "      <td>Medical</td>\n",
       "      <td>1</td>\n",
       "      <td>5</td>\n",
       "      <td>0.00</td>\n",
       "      <td>Medical</td>\n",
       "      <td>17.000000</td>\n",
       "      <td>4.0</td>\n",
       "      <td>1000</td>\n",
       "      <td>2018Q1</td>\n",
       "      <td>0.005000</td>\n",
       "      <td>0</td>\n",
       "      <td>0</td>\n",
       "      <td>0</td>\n",
       "    </tr>\n",
       "    <tr>\n",
       "      <th>8</th>\n",
       "      <td>Family</td>\n",
       "      <td>1</td>\n",
       "      <td>97</td>\n",
       "      <td>0.00</td>\n",
       "      <td>Entertainment</td>\n",
       "      <td>2.600000</td>\n",
       "      <td>4.0</td>\n",
       "      <td>10000</td>\n",
       "      <td>2018Q1</td>\n",
       "      <td>0.009700</td>\n",
       "      <td>0</td>\n",
       "      <td>1</td>\n",
       "      <td>0</td>\n",
       "    </tr>\n",
       "    <tr>\n",
       "      <th>9</th>\n",
       "      <td>Family</td>\n",
       "      <td>0</td>\n",
       "      <td>79</td>\n",
       "      <td>0.00</td>\n",
       "      <td>Education</td>\n",
       "      <td>33.000000</td>\n",
       "      <td>3.0</td>\n",
       "      <td>5000</td>\n",
       "      <td>2015Q2</td>\n",
       "      <td>0.015800</td>\n",
       "      <td>0</td>\n",
       "      <td>1</td>\n",
       "      <td>0</td>\n",
       "    </tr>\n",
       "  </tbody>\n",
       "</table>\n",
       "</div>"
      ],
      "text/plain": [
       "          Category  Rating  Reviews  Price          Genres       Size  \\\n",
       "ID                                                                      \n",
       "0   Travel & Local       1   149723   0.00  Travel & Local   4.100000   \n",
       "1        Lifestyle       0      853   0.00       Lifestyle  34.000000   \n",
       "2     Food & Drink       1    61881   0.00    Food & Drink  21.303846   \n",
       "3            Tools       0    21943   0.00           Tools   2.300000   \n",
       "4           Family       1        6   0.00       Education   9.200000   \n",
       "5            Tools       0      138   4.99           Tools   0.137695   \n",
       "6     Art & Design       1       13   0.00    Art & Design   4.500000   \n",
       "7          Medical       1        5   0.00         Medical  17.000000   \n",
       "8           Family       1       97   0.00   Entertainment   2.600000   \n",
       "9           Family       0       79   0.00       Education  33.000000   \n",
       "\n",
       "   Vers Android  Descargas Last Updated YQ  review / desc  popular  \\\n",
       "ID                                                                   \n",
       "0           4.0   10000000          2018Q2       0.014972        1   \n",
       "1           4.1     100000          2018Q1       0.008530        0   \n",
       "2       acotado    5000000          2018Q2       0.012376        1   \n",
       "3           2.3    5000000          2016Q4       0.004389        0   \n",
       "4           4.1       1000          2018Q1       0.006000        0   \n",
       "5           1.6       5000          2015Q1       0.027600        0   \n",
       "6         4.0.3       1000          2018Q1       0.013000        0   \n",
       "7           4.0       1000          2018Q1       0.005000        0   \n",
       "8           4.0      10000          2018Q1       0.009700        0   \n",
       "9           3.0       5000          2015Q2       0.015800        0   \n",
       "\n",
       "    Gen Especifico  Contenido_mapped  \n",
       "ID                                    \n",
       "0                0                 0  \n",
       "1                0                 0  \n",
       "2                0                 0  \n",
       "3                0                 0  \n",
       "4                1                 0  \n",
       "5                0                 0  \n",
       "6                0                 0  \n",
       "7                0                 0  \n",
       "8                1                 0  \n",
       "9                1                 0  "
      ]
     },
     "execution_count": 59,
     "metadata": {},
     "output_type": "execute_result"
    }
   ],
   "source": [
    "train_set.head(10)"
   ]
  },
  {
   "cell_type": "markdown",
   "metadata": {},
   "source": [
    "MAPPING de Var Categoricas - Recorto instanced que tienen baja repeticion"
   ]
  },
  {
   "cell_type": "code",
   "execution_count": 60,
   "metadata": {},
   "outputs": [
    {
     "data": {
      "text/plain": [
       "array(['5000000', 100000, 5000000, 1000, 5000, 10000, 100, 500000, 50000,\n",
       "       '-100', 1000000, 1000000000, 500, 500000000], dtype=object)"
      ]
     },
     "execution_count": 60,
     "metadata": {},
     "output_type": "execute_result"
    }
   ],
   "source": [
    "#Empezamos con Descargas\n",
    "\n",
    "#menos de 100, la mandamos a una var que sea -100 , mas de 5mill, a una que sea +5000000\n",
    "\n",
    "def mapeo_desc(x):\n",
    "    \n",
    "    if str(x) == '0' or str(x) == '1'  or str(x) =='5' or str(x) == '10' or str(x) == '50':\n",
    "        x = '-100'\n",
    "    elif str(x) == '10000000' or str(x) == '50000000'  or str(x) =='5' or str(x) == '100000000':   \n",
    "        x = '5000000'\n",
    "    else:\n",
    "        None\n",
    "    \n",
    "    return x\n",
    "\n",
    "for df in [train_set, test_set]:\n",
    "    df['Desc_mapped'] = df['Descargas'].apply(mapeo_desc)\n",
    "    df.drop('Descargas', inplace = True, axis = 1)\n",
    "  \n",
    "train_set['Desc_mapped'].unique()    "
   ]
  },
  {
   "cell_type": "code",
   "execution_count": 61,
   "metadata": {},
   "outputs": [
    {
     "data": {
      "text/plain": [
       "array(['4.0', '4.1', 'acotado', '2.3', 'old', '4.0.3', '3.0', '4.3',\n",
       "       '5.0', '4.4', '4.2', '2.2', 'new', '2.3.3'], dtype=object)"
      ]
     },
     "execution_count": 61,
     "metadata": {},
     "output_type": "execute_result"
    }
   ],
   "source": [
    "#Seguimos con Vers Android\n",
    "\n",
    "#podemos generalizar desde las que tengan menos datos que 3.0 en la grafica\n",
    "#generalizamos en vieja o nueva\n",
    "\n",
    "def mapeo_vers(x):\n",
    "    \n",
    "    if str(x) == '1.0' or str(x) == '1.6'  or str(x) =='2.0' or str(x) == '1.5' or str(x) == '2.0.1' or str(x) == '2.1' or str(x) == '3.2' or str(x) == '3.1':\n",
    "        x = 'old'\n",
    "    elif str(x) == '5.1' or str(x) == '6.0'  or str(x) =='7.0' or str(x) == '7.1' or str(x) == '8.0':   \n",
    "        x = 'new'\n",
    "    else:\n",
    "        None\n",
    "    \n",
    "    return x\n",
    "\n",
    "for df in [train_set, test_set]:\n",
    "    df['Vers_mapped'] = df['Vers Android'].apply(mapeo_vers)\n",
    "    df.drop('Vers Android', inplace = True, axis = 1)\n",
    "  \n",
    "train_set['Vers_mapped'].unique()    "
   ]
  },
  {
   "cell_type": "code",
   "execution_count": 62,
   "metadata": {
    "scrolled": true
   },
   "outputs": [
    {
     "data": {
      "text/plain": [
       "55"
      ]
     },
     "execution_count": 62,
     "metadata": {},
     "output_type": "execute_result"
    }
   ],
   "source": [
    "#Seguimos con Genres\n",
    "#Si no estan dentro de los 55 mas comunes, le llamamos otros\n",
    "\n",
    "for df in [train_set, test_set]:\n",
    "\n",
    "    genres_series = pd.Series(df.Genres.value_counts())\n",
    "    lista_genre = genres_series.index.tolist()    \n",
    "    for i in df['Genres']:\n",
    "        if i in lista_genre[54:]:\n",
    "            df['Genres'] = df['Genres'].str.replace(i, 'otros')  \n",
    "        \n",
    "len(train_set.Genres.value_counts())        "
   ]
  },
  {
   "cell_type": "markdown",
   "metadata": {},
   "source": [
    "Preprocessing - Scaling de features continuas"
   ]
  },
  {
   "cell_type": "code",
   "execution_count": 63,
   "metadata": {},
   "outputs": [
    {
     "data": {
      "text/plain": [
       "(6.1, 11.0]       914\n",
       "(15.845, 24.0]    857\n",
       "(3.1, 6.1]        840\n",
       "(0.0073, 3.1]     828\n",
       "(40.0, 100.0]     811\n",
       "(24.0, 40.0]      806\n",
       "(11.0, 15.845]    732\n",
       "Name: Size, dtype: int64"
      ]
     },
     "execution_count": 63,
     "metadata": {},
     "output_type": "execute_result"
    }
   ],
   "source": [
    "pd.qcut(train_set['Size'], 7).value_counts()"
   ]
  },
  {
   "cell_type": "code",
   "execution_count": 64,
   "metadata": {
    "scrolled": false
   },
   "outputs": [
    {
     "data": {
      "text/plain": [
       "(-0.0917, 14.293]    3141\n",
       "(14.293, 28.577]     1354\n",
       "(28.577, 42.862]      587\n",
       "(42.862, 57.146]      323\n",
       "(57.146, 71.431]      161\n",
       "(71.431, 85.715]       99\n",
       "(85.715, 100.0]       123\n",
       "Name: Size_band, dtype: int64"
      ]
     },
     "execution_count": 64,
     "metadata": {},
     "output_type": "execute_result"
    }
   ],
   "source": [
    "#Empezamos con el Size\n",
    "\n",
    "#tomo 7 bins de datos, de manera arbitraria.\n",
    "#el cut y no qcut da mejores resultados.\n",
    "\n",
    "train_set['Size_band'] = pd.cut(train_set['Size'], 7)\n",
    "train_set['Size_band'].value_counts().sort_index()"
   ]
  },
  {
   "cell_type": "code",
   "execution_count": 65,
   "metadata": {},
   "outputs": [
    {
     "data": {
      "text/html": [
       "<div>\n",
       "<style scoped>\n",
       "    .dataframe tbody tr th:only-of-type {\n",
       "        vertical-align: middle;\n",
       "    }\n",
       "\n",
       "    .dataframe tbody tr th {\n",
       "        vertical-align: top;\n",
       "    }\n",
       "\n",
       "    .dataframe thead th {\n",
       "        text-align: right;\n",
       "    }\n",
       "</style>\n",
       "<table border=\"1\" class=\"dataframe\">\n",
       "  <thead>\n",
       "    <tr style=\"text-align: right;\">\n",
       "      <th></th>\n",
       "      <th>Category</th>\n",
       "      <th>Rating</th>\n",
       "      <th>Reviews</th>\n",
       "      <th>Price</th>\n",
       "      <th>Genres</th>\n",
       "      <th>Size</th>\n",
       "      <th>Last Updated YQ</th>\n",
       "      <th>review / desc</th>\n",
       "      <th>popular</th>\n",
       "      <th>Gen Especifico</th>\n",
       "      <th>Contenido_mapped</th>\n",
       "      <th>Desc_mapped</th>\n",
       "      <th>Vers_mapped</th>\n",
       "    </tr>\n",
       "    <tr>\n",
       "      <th>ID</th>\n",
       "      <th></th>\n",
       "      <th></th>\n",
       "      <th></th>\n",
       "      <th></th>\n",
       "      <th></th>\n",
       "      <th></th>\n",
       "      <th></th>\n",
       "      <th></th>\n",
       "      <th></th>\n",
       "      <th></th>\n",
       "      <th></th>\n",
       "      <th></th>\n",
       "      <th></th>\n",
       "    </tr>\n",
       "  </thead>\n",
       "  <tbody>\n",
       "    <tr>\n",
       "      <th>0</th>\n",
       "      <td>Travel &amp; Local</td>\n",
       "      <td>1</td>\n",
       "      <td>149723</td>\n",
       "      <td>0.0</td>\n",
       "      <td>Travel &amp; Local</td>\n",
       "      <td>0</td>\n",
       "      <td>2018Q2</td>\n",
       "      <td>0.014972</td>\n",
       "      <td>1</td>\n",
       "      <td>0</td>\n",
       "      <td>0</td>\n",
       "      <td>5000000</td>\n",
       "      <td>4.0</td>\n",
       "    </tr>\n",
       "    <tr>\n",
       "      <th>1</th>\n",
       "      <td>Lifestyle</td>\n",
       "      <td>0</td>\n",
       "      <td>853</td>\n",
       "      <td>0.0</td>\n",
       "      <td>Lifestyle</td>\n",
       "      <td>2</td>\n",
       "      <td>2018Q1</td>\n",
       "      <td>0.008530</td>\n",
       "      <td>0</td>\n",
       "      <td>0</td>\n",
       "      <td>0</td>\n",
       "      <td>100000</td>\n",
       "      <td>4.1</td>\n",
       "    </tr>\n",
       "    <tr>\n",
       "      <th>2</th>\n",
       "      <td>Food &amp; Drink</td>\n",
       "      <td>1</td>\n",
       "      <td>61881</td>\n",
       "      <td>0.0</td>\n",
       "      <td>Food &amp; Drink</td>\n",
       "      <td>1</td>\n",
       "      <td>2018Q2</td>\n",
       "      <td>0.012376</td>\n",
       "      <td>1</td>\n",
       "      <td>0</td>\n",
       "      <td>0</td>\n",
       "      <td>5000000</td>\n",
       "      <td>acotado</td>\n",
       "    </tr>\n",
       "    <tr>\n",
       "      <th>3</th>\n",
       "      <td>Tools</td>\n",
       "      <td>0</td>\n",
       "      <td>21943</td>\n",
       "      <td>0.0</td>\n",
       "      <td>Tools</td>\n",
       "      <td>0</td>\n",
       "      <td>2016Q4</td>\n",
       "      <td>0.004389</td>\n",
       "      <td>0</td>\n",
       "      <td>0</td>\n",
       "      <td>0</td>\n",
       "      <td>5000000</td>\n",
       "      <td>2.3</td>\n",
       "    </tr>\n",
       "    <tr>\n",
       "      <th>4</th>\n",
       "      <td>Family</td>\n",
       "      <td>1</td>\n",
       "      <td>6</td>\n",
       "      <td>0.0</td>\n",
       "      <td>Education</td>\n",
       "      <td>0</td>\n",
       "      <td>2018Q1</td>\n",
       "      <td>0.006000</td>\n",
       "      <td>0</td>\n",
       "      <td>1</td>\n",
       "      <td>0</td>\n",
       "      <td>1000</td>\n",
       "      <td>4.1</td>\n",
       "    </tr>\n",
       "  </tbody>\n",
       "</table>\n",
       "</div>"
      ],
      "text/plain": [
       "          Category  Rating  Reviews  Price          Genres  Size  \\\n",
       "ID                                                                 \n",
       "0   Travel & Local       1   149723    0.0  Travel & Local     0   \n",
       "1        Lifestyle       0      853    0.0       Lifestyle     2   \n",
       "2     Food & Drink       1    61881    0.0    Food & Drink     1   \n",
       "3            Tools       0    21943    0.0           Tools     0   \n",
       "4           Family       1        6    0.0       Education     0   \n",
       "\n",
       "   Last Updated YQ  review / desc  popular  Gen Especifico  Contenido_mapped  \\\n",
       "ID                                                                             \n",
       "0           2018Q2       0.014972        1               0                 0   \n",
       "1           2018Q1       0.008530        0               0                 0   \n",
       "2           2018Q2       0.012376        1               0                 0   \n",
       "3           2016Q4       0.004389        0               0                 0   \n",
       "4           2018Q1       0.006000        0               1                 0   \n",
       "\n",
       "   Desc_mapped Vers_mapped  \n",
       "ID                          \n",
       "0      5000000         4.0  \n",
       "1       100000         4.1  \n",
       "2      5000000     acotado  \n",
       "3      5000000         2.3  \n",
       "4         1000         4.1  "
      ]
     },
     "execution_count": 65,
     "metadata": {},
     "output_type": "execute_result"
    }
   ],
   "source": [
    "for df in [train_set, test_set]: \n",
    "    df.loc[df['Size'] <= 14.293, 'Size'] = 0\n",
    "    df.loc[(df['Size'] > 14.293) & (df['Size'] <= 28.577), 'Size'] = 1 \n",
    "    df.loc[(df['Size'] > 28.577) & (df['Size'] <= 42.862), 'Size'] = 2\n",
    "    df.loc[(df['Size'] > 42.862) & (df['Size'] <= 57.146), 'Size'] = 3 \n",
    "    df.loc[(df['Size'] > 57.146) & (df['Size'] <= 71.431), 'Size'] = 4\n",
    "    df.loc[(df['Size'] > 71.431) & (df['Size'] <= 85.715), 'Size'] = 5\n",
    "    df.loc[(df['Size'] > 85.715), 'Size'] = 6      \n",
    "\n",
    "    df.Size = df.Size.astype(int)\n",
    "    \n",
    "train_set.drop('Size_band', axis = 1, inplace = True)\n",
    "train_set.head() "
   ]
  },
  {
   "cell_type": "code",
   "execution_count": 66,
   "metadata": {},
   "outputs": [
    {
     "data": {
      "text/plain": [
       "(-0.001, 4.0]               857\n",
       "(4.0, 38.0]                 800\n",
       "(38.0, 301.143]             824\n",
       "(301.143, 2526.0]           827\n",
       "(2526.0, 17396.571]         826\n",
       "(17396.571, 108211.571]     827\n",
       "(108211.571, 78158306.0]    827\n",
       "Name: Rev_band, dtype: int64"
      ]
     },
     "execution_count": 66,
     "metadata": {},
     "output_type": "execute_result"
    }
   ],
   "source": [
    "#mismo procedimiento para las reviews\n",
    "\n",
    "train_set['Rev_band'] = pd.qcut(train_set['Reviews'], 7)\n",
    "train_set['Rev_band'].value_counts().sort_index()"
   ]
  },
  {
   "cell_type": "code",
   "execution_count": 67,
   "metadata": {},
   "outputs": [
    {
     "data": {
      "text/html": [
       "<div>\n",
       "<style scoped>\n",
       "    .dataframe tbody tr th:only-of-type {\n",
       "        vertical-align: middle;\n",
       "    }\n",
       "\n",
       "    .dataframe tbody tr th {\n",
       "        vertical-align: top;\n",
       "    }\n",
       "\n",
       "    .dataframe thead th {\n",
       "        text-align: right;\n",
       "    }\n",
       "</style>\n",
       "<table border=\"1\" class=\"dataframe\">\n",
       "  <thead>\n",
       "    <tr style=\"text-align: right;\">\n",
       "      <th></th>\n",
       "      <th>Category</th>\n",
       "      <th>Rating</th>\n",
       "      <th>Price</th>\n",
       "      <th>Genres</th>\n",
       "      <th>Size</th>\n",
       "      <th>Last Updated YQ</th>\n",
       "      <th>review / desc</th>\n",
       "      <th>popular</th>\n",
       "      <th>Gen Especifico</th>\n",
       "      <th>Contenido_mapped</th>\n",
       "      <th>Desc_mapped</th>\n",
       "      <th>Vers_mapped</th>\n",
       "      <th>Revs_mapped</th>\n",
       "    </tr>\n",
       "    <tr>\n",
       "      <th>ID</th>\n",
       "      <th></th>\n",
       "      <th></th>\n",
       "      <th></th>\n",
       "      <th></th>\n",
       "      <th></th>\n",
       "      <th></th>\n",
       "      <th></th>\n",
       "      <th></th>\n",
       "      <th></th>\n",
       "      <th></th>\n",
       "      <th></th>\n",
       "      <th></th>\n",
       "      <th></th>\n",
       "    </tr>\n",
       "  </thead>\n",
       "  <tbody>\n",
       "    <tr>\n",
       "      <th>0</th>\n",
       "      <td>Travel &amp; Local</td>\n",
       "      <td>1</td>\n",
       "      <td>0.0</td>\n",
       "      <td>Travel &amp; Local</td>\n",
       "      <td>0</td>\n",
       "      <td>2018Q2</td>\n",
       "      <td>0.014972</td>\n",
       "      <td>1</td>\n",
       "      <td>0</td>\n",
       "      <td>0</td>\n",
       "      <td>5000000</td>\n",
       "      <td>4.0</td>\n",
       "      <td>6</td>\n",
       "    </tr>\n",
       "    <tr>\n",
       "      <th>1</th>\n",
       "      <td>Lifestyle</td>\n",
       "      <td>0</td>\n",
       "      <td>0.0</td>\n",
       "      <td>Lifestyle</td>\n",
       "      <td>2</td>\n",
       "      <td>2018Q1</td>\n",
       "      <td>0.008530</td>\n",
       "      <td>0</td>\n",
       "      <td>0</td>\n",
       "      <td>0</td>\n",
       "      <td>100000</td>\n",
       "      <td>4.1</td>\n",
       "      <td>3</td>\n",
       "    </tr>\n",
       "    <tr>\n",
       "      <th>2</th>\n",
       "      <td>Food &amp; Drink</td>\n",
       "      <td>1</td>\n",
       "      <td>0.0</td>\n",
       "      <td>Food &amp; Drink</td>\n",
       "      <td>1</td>\n",
       "      <td>2018Q2</td>\n",
       "      <td>0.012376</td>\n",
       "      <td>1</td>\n",
       "      <td>0</td>\n",
       "      <td>0</td>\n",
       "      <td>5000000</td>\n",
       "      <td>acotado</td>\n",
       "      <td>5</td>\n",
       "    </tr>\n",
       "    <tr>\n",
       "      <th>3</th>\n",
       "      <td>Tools</td>\n",
       "      <td>0</td>\n",
       "      <td>0.0</td>\n",
       "      <td>Tools</td>\n",
       "      <td>0</td>\n",
       "      <td>2016Q4</td>\n",
       "      <td>0.004389</td>\n",
       "      <td>0</td>\n",
       "      <td>0</td>\n",
       "      <td>0</td>\n",
       "      <td>5000000</td>\n",
       "      <td>2.3</td>\n",
       "      <td>5</td>\n",
       "    </tr>\n",
       "    <tr>\n",
       "      <th>4</th>\n",
       "      <td>Family</td>\n",
       "      <td>1</td>\n",
       "      <td>0.0</td>\n",
       "      <td>Education</td>\n",
       "      <td>0</td>\n",
       "      <td>2018Q1</td>\n",
       "      <td>0.006000</td>\n",
       "      <td>0</td>\n",
       "      <td>1</td>\n",
       "      <td>0</td>\n",
       "      <td>1000</td>\n",
       "      <td>4.1</td>\n",
       "      <td>1</td>\n",
       "    </tr>\n",
       "  </tbody>\n",
       "</table>\n",
       "</div>"
      ],
      "text/plain": [
       "          Category  Rating  Price          Genres  Size Last Updated YQ  \\\n",
       "ID                                                                        \n",
       "0   Travel & Local       1    0.0  Travel & Local     0          2018Q2   \n",
       "1        Lifestyle       0    0.0       Lifestyle     2          2018Q1   \n",
       "2     Food & Drink       1    0.0    Food & Drink     1          2018Q2   \n",
       "3            Tools       0    0.0           Tools     0          2016Q4   \n",
       "4           Family       1    0.0       Education     0          2018Q1   \n",
       "\n",
       "    review / desc  popular  Gen Especifico  Contenido_mapped Desc_mapped  \\\n",
       "ID                                                                         \n",
       "0        0.014972        1               0                 0     5000000   \n",
       "1        0.008530        0               0                 0      100000   \n",
       "2        0.012376        1               0                 0     5000000   \n",
       "3        0.004389        0               0                 0     5000000   \n",
       "4        0.006000        0               1                 0        1000   \n",
       "\n",
       "   Vers_mapped  Revs_mapped  \n",
       "ID                           \n",
       "0          4.0            6  \n",
       "1          4.1            3  \n",
       "2      acotado            5  \n",
       "3          2.3            5  \n",
       "4          4.1            1  "
      ]
     },
     "execution_count": 67,
     "metadata": {},
     "output_type": "execute_result"
    }
   ],
   "source": [
    "#No lo hago como con Sizes, sino con una fn mas apply\n",
    "\n",
    "def mapeo_revs(x):\n",
    "    \n",
    "    if x <= 4:\n",
    "        x = 0\n",
    "    elif x <= 38:\n",
    "        x = 1\n",
    "    elif x <= 301:\n",
    "        x = 2\n",
    "    elif x <= 2526:\n",
    "        x = 3\n",
    "    elif x <= 17396:\n",
    "        x = 4\n",
    "    elif x <= 108211:\n",
    "        x = 5\n",
    "    else:\n",
    "        x = 6\n",
    "    \n",
    "    return int(x)    \n",
    "        \n",
    "for df in [train_set, test_set]:\n",
    "    df['Revs_mapped'] = df['Reviews'].apply(mapeo_revs)\n",
    "    df.drop('Reviews', axis = 1, inplace = True)\n",
    "\n",
    "train_set.drop('Rev_band', axis = 1, inplace = True)\n",
    "train_set.head()     "
   ]
  },
  {
   "cell_type": "code",
   "execution_count": 68,
   "metadata": {},
   "outputs": [],
   "source": [
    "#A precio lo mapeo segun los picos de la grafica con el value counts de Price\n",
    "\n",
    "def mapeo_price(x):\n",
    "    \n",
    "    if x == 0:\n",
    "        x = 0\n",
    "    elif x <= 1.49:\n",
    "        x = 1\n",
    "    elif x <= 1.99:\n",
    "        x = 2\n",
    "    elif x <= 2.99:\n",
    "        x = 3\n",
    "    elif x <= 3.49:\n",
    "        x = 4\n",
    "    elif x <= 4.49:\n",
    "        x = 5\n",
    "    elif x <= 5.49:\n",
    "        x = 6\n",
    "    elif x <= 9.49:\n",
    "        x = 7\n",
    "    elif x <= 19.99:\n",
    "        x = 8\n",
    "    elif x <= 39.99:\n",
    "        x = 9\n",
    "    else:\n",
    "        x = 10  \n",
    "        \n",
    "    return x    \n",
    "        \n",
    "for df in [train_set, test_set]:\n",
    "    df['Price_mapped'] = df['Price'].apply(mapeo_revs) #ojo que pusiste revs aca! lo dejo porque da un mejor result.\n",
    "#fijate que podes hacer con este mapping.. lo acorte a 8 bins y me dio peor\n",
    "#lo deje en gratis o pago y tamb me dio peor.\n",
    "#en revs como que lo separa de 0 a 4, de 4 a 38 y de mas de 38..\n",
    "    df.drop('Price', axis = 1, inplace = True)        "
   ]
  },
  {
   "cell_type": "markdown",
   "metadata": {},
   "source": [
    "OH de features categoricas"
   ]
  },
  {
   "cell_type": "code",
   "execution_count": 69,
   "metadata": {},
   "outputs": [],
   "source": [
    "#Tengo que juntar los dos datasets para llamar la func get dummies asegurandome de que queden la misma cantidad de\n",
    "#features en cada uno! si la llamo por separado se me van a quedar uneven las features\n",
    "\n",
    "columns = train_set.columns.tolist()\n",
    "columns.remove('Rating')\n",
    "X = train_set[columns]\n",
    "\n",
    "dataset = pd.concat([X, test_set], axis = 0)\n",
    "\n",
    "dataset = pd.get_dummies(dataset, columns = [\"Category\"], prefix = 'Cat')\n",
    "dataset = pd.get_dummies(dataset, columns = [\"Genres\"], prefix = 'Cat')\n",
    "dataset = pd.get_dummies(dataset, columns = ['Last Updated YQ'], prefix = 'Cat')\n",
    "dataset = pd.get_dummies(dataset, columns = ['Desc_mapped'], prefix = 'Cat')\n",
    "dataset = pd.get_dummies(dataset, columns = ['Vers_mapped'], prefix = 'Cat')\n",
    "dataset = pd.get_dummies(dataset, columns = ['Revs_mapped'], prefix = 'Cat')\n",
    "dataset = pd.get_dummies(dataset, columns = ['Size'], prefix = 'Cat')\n",
    "dataset = pd.get_dummies(dataset, columns = ['Price_mapped'], prefix = 'Cat')"
   ]
  },
  {
   "cell_type": "code",
   "execution_count": 70,
   "metadata": {},
   "outputs": [
    {
     "data": {
      "text/html": [
       "<div>\n",
       "<style scoped>\n",
       "    .dataframe tbody tr th:only-of-type {\n",
       "        vertical-align: middle;\n",
       "    }\n",
       "\n",
       "    .dataframe tbody tr th {\n",
       "        vertical-align: top;\n",
       "    }\n",
       "\n",
       "    .dataframe thead th {\n",
       "        text-align: right;\n",
       "    }\n",
       "</style>\n",
       "<table border=\"1\" class=\"dataframe\">\n",
       "  <thead>\n",
       "    <tr style=\"text-align: right;\">\n",
       "      <th></th>\n",
       "      <th>review / desc</th>\n",
       "      <th>popular</th>\n",
       "      <th>Gen Especifico</th>\n",
       "      <th>Contenido_mapped</th>\n",
       "      <th>Cat_Art &amp; Design</th>\n",
       "      <th>Cat_Auto &amp; Vehicles</th>\n",
       "      <th>Cat_Beauty</th>\n",
       "      <th>Cat_Books &amp; Reference</th>\n",
       "      <th>Cat_Business</th>\n",
       "      <th>Cat_Comics</th>\n",
       "      <th>...</th>\n",
       "      <th>Cat_1</th>\n",
       "      <th>Cat_2</th>\n",
       "      <th>Cat_3</th>\n",
       "      <th>Cat_4</th>\n",
       "      <th>Cat_5</th>\n",
       "      <th>Cat_6</th>\n",
       "      <th>Cat_0</th>\n",
       "      <th>Cat_1</th>\n",
       "      <th>Cat_2</th>\n",
       "      <th>Cat_3</th>\n",
       "    </tr>\n",
       "    <tr>\n",
       "      <th>ID</th>\n",
       "      <th></th>\n",
       "      <th></th>\n",
       "      <th></th>\n",
       "      <th></th>\n",
       "      <th></th>\n",
       "      <th></th>\n",
       "      <th></th>\n",
       "      <th></th>\n",
       "      <th></th>\n",
       "      <th></th>\n",
       "      <th></th>\n",
       "      <th></th>\n",
       "      <th></th>\n",
       "      <th></th>\n",
       "      <th></th>\n",
       "      <th></th>\n",
       "      <th></th>\n",
       "      <th></th>\n",
       "      <th></th>\n",
       "      <th></th>\n",
       "      <th></th>\n",
       "    </tr>\n",
       "  </thead>\n",
       "  <tbody>\n",
       "    <tr>\n",
       "      <th>5788</th>\n",
       "      <td>0.010000</td>\n",
       "      <td>0</td>\n",
       "      <td>0</td>\n",
       "      <td>0</td>\n",
       "      <td>0</td>\n",
       "      <td>0</td>\n",
       "      <td>0</td>\n",
       "      <td>0</td>\n",
       "      <td>0</td>\n",
       "      <td>0</td>\n",
       "      <td>...</td>\n",
       "      <td>0</td>\n",
       "      <td>0</td>\n",
       "      <td>0</td>\n",
       "      <td>0</td>\n",
       "      <td>0</td>\n",
       "      <td>0</td>\n",
       "      <td>1</td>\n",
       "      <td>0</td>\n",
       "      <td>0</td>\n",
       "      <td>0</td>\n",
       "    </tr>\n",
       "    <tr>\n",
       "      <th>5789</th>\n",
       "      <td>0.007146</td>\n",
       "      <td>0</td>\n",
       "      <td>0</td>\n",
       "      <td>3</td>\n",
       "      <td>0</td>\n",
       "      <td>0</td>\n",
       "      <td>0</td>\n",
       "      <td>0</td>\n",
       "      <td>0</td>\n",
       "      <td>0</td>\n",
       "      <td>...</td>\n",
       "      <td>0</td>\n",
       "      <td>0</td>\n",
       "      <td>0</td>\n",
       "      <td>0</td>\n",
       "      <td>0</td>\n",
       "      <td>0</td>\n",
       "      <td>1</td>\n",
       "      <td>0</td>\n",
       "      <td>0</td>\n",
       "      <td>0</td>\n",
       "    </tr>\n",
       "    <tr>\n",
       "      <th>5790</th>\n",
       "      <td>0.022210</td>\n",
       "      <td>0</td>\n",
       "      <td>0</td>\n",
       "      <td>0</td>\n",
       "      <td>0</td>\n",
       "      <td>0</td>\n",
       "      <td>0</td>\n",
       "      <td>0</td>\n",
       "      <td>0</td>\n",
       "      <td>0</td>\n",
       "      <td>...</td>\n",
       "      <td>1</td>\n",
       "      <td>0</td>\n",
       "      <td>0</td>\n",
       "      <td>0</td>\n",
       "      <td>0</td>\n",
       "      <td>0</td>\n",
       "      <td>1</td>\n",
       "      <td>0</td>\n",
       "      <td>0</td>\n",
       "      <td>0</td>\n",
       "    </tr>\n",
       "    <tr>\n",
       "      <th>5791</th>\n",
       "      <td>0.210000</td>\n",
       "      <td>0</td>\n",
       "      <td>0</td>\n",
       "      <td>0</td>\n",
       "      <td>0</td>\n",
       "      <td>0</td>\n",
       "      <td>0</td>\n",
       "      <td>0</td>\n",
       "      <td>0</td>\n",
       "      <td>0</td>\n",
       "      <td>...</td>\n",
       "      <td>0</td>\n",
       "      <td>0</td>\n",
       "      <td>0</td>\n",
       "      <td>0</td>\n",
       "      <td>0</td>\n",
       "      <td>0</td>\n",
       "      <td>1</td>\n",
       "      <td>0</td>\n",
       "      <td>0</td>\n",
       "      <td>0</td>\n",
       "    </tr>\n",
       "    <tr>\n",
       "      <th>5792</th>\n",
       "      <td>0.028220</td>\n",
       "      <td>0</td>\n",
       "      <td>0</td>\n",
       "      <td>0</td>\n",
       "      <td>0</td>\n",
       "      <td>0</td>\n",
       "      <td>0</td>\n",
       "      <td>0</td>\n",
       "      <td>0</td>\n",
       "      <td>0</td>\n",
       "      <td>...</td>\n",
       "      <td>1</td>\n",
       "      <td>0</td>\n",
       "      <td>0</td>\n",
       "      <td>0</td>\n",
       "      <td>0</td>\n",
       "      <td>0</td>\n",
       "      <td>1</td>\n",
       "      <td>0</td>\n",
       "      <td>0</td>\n",
       "      <td>0</td>\n",
       "    </tr>\n",
       "  </tbody>\n",
       "</table>\n",
       "<p>5 rows × 174 columns</p>\n",
       "</div>"
      ],
      "text/plain": [
       "      review / desc  popular  Gen Especifico  Contenido_mapped  \\\n",
       "ID                                                               \n",
       "5788       0.010000        0               0                 0   \n",
       "5789       0.007146        0               0                 3   \n",
       "5790       0.022210        0               0                 0   \n",
       "5791       0.210000        0               0                 0   \n",
       "5792       0.028220        0               0                 0   \n",
       "\n",
       "      Cat_Art & Design  Cat_Auto & Vehicles  Cat_Beauty  \\\n",
       "ID                                                        \n",
       "5788                 0                    0           0   \n",
       "5789                 0                    0           0   \n",
       "5790                 0                    0           0   \n",
       "5791                 0                    0           0   \n",
       "5792                 0                    0           0   \n",
       "\n",
       "      Cat_Books & Reference  Cat_Business  Cat_Comics  ...  Cat_1  Cat_2  \\\n",
       "ID                                                     ...                 \n",
       "5788                      0             0           0  ...      0      0   \n",
       "5789                      0             0           0  ...      0      0   \n",
       "5790                      0             0           0  ...      1      0   \n",
       "5791                      0             0           0  ...      0      0   \n",
       "5792                      0             0           0  ...      1      0   \n",
       "\n",
       "      Cat_3  Cat_4  Cat_5  Cat_6  Cat_0  Cat_1  Cat_2  Cat_3  \n",
       "ID                                                            \n",
       "5788      0      0      0      0      1      0      0      0  \n",
       "5789      0      0      0      0      1      0      0      0  \n",
       "5790      0      0      0      0      1      0      0      0  \n",
       "5791      0      0      0      0      1      0      0      0  \n",
       "5792      0      0      0      0      1      0      0      0  \n",
       "\n",
       "[5 rows x 174 columns]"
      ]
     },
     "execution_count": 70,
     "metadata": {},
     "output_type": "execute_result"
    }
   ],
   "source": [
    "X_ok = dataset.iloc[0:5788]\n",
    "test_ok = dataset.iloc[5788:]\n",
    "test_ok.head()"
   ]
  },
  {
   "cell_type": "code",
   "execution_count": 71,
   "metadata": {},
   "outputs": [
    {
     "data": {
      "text/html": [
       "<div>\n",
       "<style scoped>\n",
       "    .dataframe tbody tr th:only-of-type {\n",
       "        vertical-align: middle;\n",
       "    }\n",
       "\n",
       "    .dataframe tbody tr th {\n",
       "        vertical-align: top;\n",
       "    }\n",
       "\n",
       "    .dataframe thead th {\n",
       "        text-align: right;\n",
       "    }\n",
       "</style>\n",
       "<table border=\"1\" class=\"dataframe\">\n",
       "  <thead>\n",
       "    <tr style=\"text-align: right;\">\n",
       "      <th></th>\n",
       "      <th>review / desc</th>\n",
       "      <th>popular</th>\n",
       "      <th>Gen Especifico</th>\n",
       "      <th>Contenido_mapped</th>\n",
       "      <th>Cat_Art &amp; Design</th>\n",
       "      <th>Cat_Auto &amp; Vehicles</th>\n",
       "      <th>Cat_Beauty</th>\n",
       "      <th>Cat_Books &amp; Reference</th>\n",
       "      <th>Cat_Business</th>\n",
       "      <th>Cat_Comics</th>\n",
       "      <th>...</th>\n",
       "      <th>Cat_1</th>\n",
       "      <th>Cat_2</th>\n",
       "      <th>Cat_3</th>\n",
       "      <th>Cat_4</th>\n",
       "      <th>Cat_5</th>\n",
       "      <th>Cat_6</th>\n",
       "      <th>Cat_0</th>\n",
       "      <th>Cat_1</th>\n",
       "      <th>Cat_2</th>\n",
       "      <th>Cat_3</th>\n",
       "    </tr>\n",
       "    <tr>\n",
       "      <th>ID</th>\n",
       "      <th></th>\n",
       "      <th></th>\n",
       "      <th></th>\n",
       "      <th></th>\n",
       "      <th></th>\n",
       "      <th></th>\n",
       "      <th></th>\n",
       "      <th></th>\n",
       "      <th></th>\n",
       "      <th></th>\n",
       "      <th></th>\n",
       "      <th></th>\n",
       "      <th></th>\n",
       "      <th></th>\n",
       "      <th></th>\n",
       "      <th></th>\n",
       "      <th></th>\n",
       "      <th></th>\n",
       "      <th></th>\n",
       "      <th></th>\n",
       "      <th></th>\n",
       "    </tr>\n",
       "  </thead>\n",
       "  <tbody>\n",
       "    <tr>\n",
       "      <th>0</th>\n",
       "      <td>0.014972</td>\n",
       "      <td>1</td>\n",
       "      <td>0</td>\n",
       "      <td>0</td>\n",
       "      <td>0</td>\n",
       "      <td>0</td>\n",
       "      <td>0</td>\n",
       "      <td>0</td>\n",
       "      <td>0</td>\n",
       "      <td>0</td>\n",
       "      <td>...</td>\n",
       "      <td>0</td>\n",
       "      <td>0</td>\n",
       "      <td>0</td>\n",
       "      <td>0</td>\n",
       "      <td>0</td>\n",
       "      <td>0</td>\n",
       "      <td>1</td>\n",
       "      <td>0</td>\n",
       "      <td>0</td>\n",
       "      <td>0</td>\n",
       "    </tr>\n",
       "    <tr>\n",
       "      <th>1</th>\n",
       "      <td>0.008530</td>\n",
       "      <td>0</td>\n",
       "      <td>0</td>\n",
       "      <td>0</td>\n",
       "      <td>0</td>\n",
       "      <td>0</td>\n",
       "      <td>0</td>\n",
       "      <td>0</td>\n",
       "      <td>0</td>\n",
       "      <td>0</td>\n",
       "      <td>...</td>\n",
       "      <td>0</td>\n",
       "      <td>1</td>\n",
       "      <td>0</td>\n",
       "      <td>0</td>\n",
       "      <td>0</td>\n",
       "      <td>0</td>\n",
       "      <td>1</td>\n",
       "      <td>0</td>\n",
       "      <td>0</td>\n",
       "      <td>0</td>\n",
       "    </tr>\n",
       "    <tr>\n",
       "      <th>2</th>\n",
       "      <td>0.012376</td>\n",
       "      <td>1</td>\n",
       "      <td>0</td>\n",
       "      <td>0</td>\n",
       "      <td>0</td>\n",
       "      <td>0</td>\n",
       "      <td>0</td>\n",
       "      <td>0</td>\n",
       "      <td>0</td>\n",
       "      <td>0</td>\n",
       "      <td>...</td>\n",
       "      <td>1</td>\n",
       "      <td>0</td>\n",
       "      <td>0</td>\n",
       "      <td>0</td>\n",
       "      <td>0</td>\n",
       "      <td>0</td>\n",
       "      <td>1</td>\n",
       "      <td>0</td>\n",
       "      <td>0</td>\n",
       "      <td>0</td>\n",
       "    </tr>\n",
       "    <tr>\n",
       "      <th>3</th>\n",
       "      <td>0.004389</td>\n",
       "      <td>0</td>\n",
       "      <td>0</td>\n",
       "      <td>0</td>\n",
       "      <td>0</td>\n",
       "      <td>0</td>\n",
       "      <td>0</td>\n",
       "      <td>0</td>\n",
       "      <td>0</td>\n",
       "      <td>0</td>\n",
       "      <td>...</td>\n",
       "      <td>0</td>\n",
       "      <td>0</td>\n",
       "      <td>0</td>\n",
       "      <td>0</td>\n",
       "      <td>0</td>\n",
       "      <td>0</td>\n",
       "      <td>1</td>\n",
       "      <td>0</td>\n",
       "      <td>0</td>\n",
       "      <td>0</td>\n",
       "    </tr>\n",
       "    <tr>\n",
       "      <th>4</th>\n",
       "      <td>0.006000</td>\n",
       "      <td>0</td>\n",
       "      <td>1</td>\n",
       "      <td>0</td>\n",
       "      <td>0</td>\n",
       "      <td>0</td>\n",
       "      <td>0</td>\n",
       "      <td>0</td>\n",
       "      <td>0</td>\n",
       "      <td>0</td>\n",
       "      <td>...</td>\n",
       "      <td>0</td>\n",
       "      <td>0</td>\n",
       "      <td>0</td>\n",
       "      <td>0</td>\n",
       "      <td>0</td>\n",
       "      <td>0</td>\n",
       "      <td>1</td>\n",
       "      <td>0</td>\n",
       "      <td>0</td>\n",
       "      <td>0</td>\n",
       "    </tr>\n",
       "  </tbody>\n",
       "</table>\n",
       "<p>5 rows × 174 columns</p>\n",
       "</div>"
      ],
      "text/plain": [
       "    review / desc  popular  Gen Especifico  Contenido_mapped  \\\n",
       "ID                                                             \n",
       "0        0.014972        1               0                 0   \n",
       "1        0.008530        0               0                 0   \n",
       "2        0.012376        1               0                 0   \n",
       "3        0.004389        0               0                 0   \n",
       "4        0.006000        0               1                 0   \n",
       "\n",
       "    Cat_Art & Design  Cat_Auto & Vehicles  Cat_Beauty  Cat_Books & Reference  \\\n",
       "ID                                                                             \n",
       "0                  0                    0           0                      0   \n",
       "1                  0                    0           0                      0   \n",
       "2                  0                    0           0                      0   \n",
       "3                  0                    0           0                      0   \n",
       "4                  0                    0           0                      0   \n",
       "\n",
       "    Cat_Business  Cat_Comics  ...  Cat_1  Cat_2  Cat_3  Cat_4  Cat_5  Cat_6  \\\n",
       "ID                            ...                                             \n",
       "0              0           0  ...      0      0      0      0      0      0   \n",
       "1              0           0  ...      0      1      0      0      0      0   \n",
       "2              0           0  ...      1      0      0      0      0      0   \n",
       "3              0           0  ...      0      0      0      0      0      0   \n",
       "4              0           0  ...      0      0      0      0      0      0   \n",
       "\n",
       "    Cat_0  Cat_1  Cat_2  Cat_3  \n",
       "ID                              \n",
       "0       1      0      0      0  \n",
       "1       1      0      0      0  \n",
       "2       1      0      0      0  \n",
       "3       1      0      0      0  \n",
       "4       1      0      0      0  \n",
       "\n",
       "[5 rows x 174 columns]"
      ]
     },
     "execution_count": 71,
     "metadata": {},
     "output_type": "execute_result"
    }
   ],
   "source": [
    "y = train_set['Rating'] #creamos la matriz con las labels\n",
    "X_ok.head()"
   ]
  },
  {
   "cell_type": "markdown",
   "metadata": {},
   "source": [
    "# Modelling"
   ]
  },
  {
   "cell_type": "code",
   "execution_count": 72,
   "metadata": {},
   "outputs": [
    {
     "data": {
      "text/plain": [
       "((5788, 174), (1448, 174), (5788,))"
      ]
     },
     "execution_count": 72,
     "metadata": {},
     "output_type": "execute_result"
    }
   ],
   "source": [
    "X_ok.shape, test_ok.shape, y.shape #todo ok"
   ]
  },
  {
   "cell_type": "code",
   "execution_count": 73,
   "metadata": {},
   "outputs": [
    {
     "data": {
      "image/png": "[encoded data removed]",
      "text/plain": [
       "<Figure size 432x288 with 1 Axes>"
      ]
     },
     "metadata": {},
     "output_type": "display_data"
    }
   ],
   "source": [
    "# Testeo diferentes algoritmos\n",
    "\n",
    "from sklearn.ensemble import RandomForestClassifier, AdaBoostClassifier, GradientBoostingClassifier, ExtraTreesClassifier, VotingClassifier\n",
    "from sklearn.neural_network import MLPClassifier\n",
    "from sklearn.discriminant_analysis import LinearDiscriminantAnalysis\n",
    "from sklearn.model_selection import GridSearchCV, cross_val_score, StratifiedKFold\n",
    "from sklearn.svm import SVC, LinearSVC\n",
    "from sklearn.tree import DecisionTreeClassifier\n",
    "from sklearn.neighbors import KNeighborsClassifier\n",
    "from sklearn.linear_model import LogisticRegression\n",
    "\n",
    "kfold = StratifiedKFold(n_splits=10)\n",
    "\n",
    "random_state = 42\n",
    "classifiers = []\n",
    "classifiers.append(SVC(random_state=random_state, probability = True))\n",
    "classifiers.append(DecisionTreeClassifier(random_state=random_state))\n",
    "classifiers.append(AdaBoostClassifier(DecisionTreeClassifier(random_state=random_state),\n",
    "                                      random_state=random_state,learning_rate=0.1))\n",
    "classifiers.append(RandomForestClassifier(random_state=random_state))\n",
    "classifiers.append(ExtraTreesClassifier(random_state=random_state))\n",
    "classifiers.append(GradientBoostingClassifier(random_state=random_state))\n",
    "classifiers.append(MLPClassifier(random_state=random_state))\n",
    "classifiers.append(KNeighborsClassifier())\n",
    "classifiers.append(LogisticRegression(random_state = random_state))\n",
    "classifiers.append(LinearDiscriminantAnalysis())\n",
    "\n",
    "cv_results = []\n",
    "for classifier in classifiers :\n",
    "    cv_results.append(cross_val_score(classifier, X_ok, y, scoring = \"f1\", cv = kfold, n_jobs=-1))\n",
    "\n",
    "cv_means = []\n",
    "cv_std = []\n",
    "for cv_result in cv_results:\n",
    "    cv_means.append(cv_result.mean())\n",
    "    cv_std.append(cv_result.std())\n",
    "\n",
    "cv_res = pd.DataFrame({\"CrossValMeans\":cv_means,\"CrossValerrors\": cv_std,\"Algorithm\":[\"SVC\",\n",
    "                                    \"DecisionTree\",\"AdaBoost\",\"RandomForest\",\"ExtraTrees\",\n",
    "                                    \"GradientBoosting\",\"MultipleLayerPerceptron\",\"KNeighboors\",\n",
    "                                    \"LogisticRegression\",\"LinearDiscriminantAnalysis\"]})\n",
    "\n",
    "g = sns.barplot(\"CrossValMeans\",\"Algorithm\",data = cv_res ,orient = \"h\",**{'xerr':cv_std})\n",
    "g.set_xlabel(\"Mean f1 score\")\n",
    "g = g.set_title(\"Cross validation scores\")"
   ]
  },
  {
   "cell_type": "code",
   "execution_count": 74,
   "metadata": {},
   "outputs": [
    {
     "data": {
      "text/html": [
       "<div>\n",
       "<style scoped>\n",
       "    .dataframe tbody tr th:only-of-type {\n",
       "        vertical-align: middle;\n",
       "    }\n",
       "\n",
       "    .dataframe tbody tr th {\n",
       "        vertical-align: top;\n",
       "    }\n",
       "\n",
       "    .dataframe thead th {\n",
       "        text-align: right;\n",
       "    }\n",
       "</style>\n",
       "<table border=\"1\" class=\"dataframe\">\n",
       "  <thead>\n",
       "    <tr style=\"text-align: right;\">\n",
       "      <th></th>\n",
       "      <th>CrossValMeans</th>\n",
       "      <th>CrossValerrors</th>\n",
       "      <th>Algorithm</th>\n",
       "    </tr>\n",
       "  </thead>\n",
       "  <tbody>\n",
       "    <tr>\n",
       "      <th>0</th>\n",
       "      <td>0.858523</td>\n",
       "      <td>0.003780</td>\n",
       "      <td>SVC</td>\n",
       "    </tr>\n",
       "    <tr>\n",
       "      <th>5</th>\n",
       "      <td>0.853601</td>\n",
       "      <td>0.003184</td>\n",
       "      <td>GradientBoosting</td>\n",
       "    </tr>\n",
       "    <tr>\n",
       "      <th>8</th>\n",
       "      <td>0.851603</td>\n",
       "      <td>0.008278</td>\n",
       "      <td>LogisticRegression</td>\n",
       "    </tr>\n",
       "    <tr>\n",
       "      <th>3</th>\n",
       "      <td>0.851494</td>\n",
       "      <td>0.011301</td>\n",
       "      <td>RandomForest</td>\n",
       "    </tr>\n",
       "    <tr>\n",
       "      <th>9</th>\n",
       "      <td>0.846444</td>\n",
       "      <td>0.007768</td>\n",
       "      <td>LinearDiscriminantAnalysis</td>\n",
       "    </tr>\n",
       "    <tr>\n",
       "      <th>4</th>\n",
       "      <td>0.839626</td>\n",
       "      <td>0.010484</td>\n",
       "      <td>ExtraTrees</td>\n",
       "    </tr>\n",
       "    <tr>\n",
       "      <th>7</th>\n",
       "      <td>0.835217</td>\n",
       "      <td>0.005940</td>\n",
       "      <td>KNeighboors</td>\n",
       "    </tr>\n",
       "    <tr>\n",
       "      <th>6</th>\n",
       "      <td>0.824458</td>\n",
       "      <td>0.008615</td>\n",
       "      <td>MultipleLayerPerceptron</td>\n",
       "    </tr>\n",
       "    <tr>\n",
       "      <th>2</th>\n",
       "      <td>0.800383</td>\n",
       "      <td>0.015960</td>\n",
       "      <td>AdaBoost</td>\n",
       "    </tr>\n",
       "    <tr>\n",
       "      <th>1</th>\n",
       "      <td>0.792822</td>\n",
       "      <td>0.017161</td>\n",
       "      <td>DecisionTree</td>\n",
       "    </tr>\n",
       "  </tbody>\n",
       "</table>\n",
       "</div>"
      ],
      "text/plain": [
       "   CrossValMeans  CrossValerrors                   Algorithm\n",
       "0       0.858523        0.003780                         SVC\n",
       "5       0.853601        0.003184            GradientBoosting\n",
       "8       0.851603        0.008278          LogisticRegression\n",
       "3       0.851494        0.011301                RandomForest\n",
       "9       0.846444        0.007768  LinearDiscriminantAnalysis\n",
       "4       0.839626        0.010484                  ExtraTrees\n",
       "7       0.835217        0.005940                 KNeighboors\n",
       "6       0.824458        0.008615     MultipleLayerPerceptron\n",
       "2       0.800383        0.015960                    AdaBoost\n",
       "1       0.792822        0.017161                DecisionTree"
      ]
     },
     "execution_count": 74,
     "metadata": {},
     "output_type": "execute_result"
    }
   ],
   "source": [
    "cv_res.sort_values(by = 'CrossValMeans', ascending = False)"
   ]
  },
  {
   "cell_type": "markdown",
   "metadata": {},
   "source": [
    "#el Random Forest es el mas picante, elijo best params\n",
    "\n",
    "RFC = RandomForestClassifier(random_state = random_state)\n",
    "\n",
    "\n",
    "## Search grid for optimal parameters\n",
    "rf_param_grid = {\"max_depth\": [None],\n",
    "              \"max_features\": [1, 5, 10],\n",
    "              \"min_samples_split\": [2, 3, 10],\n",
    "              \"min_samples_leaf\": [1, 3, 10],\n",
    "              \"bootstrap\": [False],\n",
    "              \"n_estimators\" :[100,300],\n",
    "              \"criterion\": [\"gini\"]}\n",
    "\n",
    "\n",
    "gsRFC = GridSearchCV(RFC, param_grid = rf_param_grid, cv=kfold, scoring=\"accuracy\", n_jobs= -1, verbose = 1)\n",
    "\n",
    "gsRFC.fit(X_ok,y)\n",
    "\n",
    "RFC_best = gsRFC.best_estimator_\n",
    "                 \n",
    "# Best score\n",
    "gsRFC.best_score_"
   ]
  },
  {
   "cell_type": "markdown",
   "metadata": {},
   "source": [
    "RFC_best"
   ]
  },
  {
   "cell_type": "markdown",
   "metadata": {},
   "source": [
    "ETC = ExtraTreesClassifier()\n",
    "\n",
    "et_param_grid = {'max_features': [1, 5, 10],\n",
    "                 \"min_samples_split\": [2, 3, 10],\n",
    "                 \"min_samples_leaf\": [1, 3, 10],\n",
    "                 \"bootstrap\": [False],\n",
    "                 \"n_estimators\" :[100,300],\n",
    "                 \"criterion\": [\"gini\"]}\n",
    "    \n",
    "gsETC = GridSearchCV(ETC, param_grid = et_param_grid, cv = kfold, scoring = 'accuracy', n_jobs= -1, verbose = 1)\n",
    "\n",
    "gsETC.fit(X_ok, y)\n",
    "\n",
    "ETC_best = gsETC.best_estimator_\n",
    "\n",
    "gsETC.best_score_"
   ]
  },
  {
   "cell_type": "markdown",
   "metadata": {},
   "source": [
    "ETC_best"
   ]
  },
  {
   "cell_type": "markdown",
   "metadata": {},
   "source": [
    "GBC = GradientBoostingClassifier()\n",
    "gb_param_grid = {'loss' : [\"deviance\"],\n",
    "              'n_estimators' : [100,300, 500],\n",
    "              'learning_rate': [0.1, 0.05, 0.01],\n",
    "              'max_depth': [4, 8],\n",
    "              'min_samples_leaf': [100,150],\n",
    "              'max_features': [0.3, 0.1] \n",
    "              }\n",
    "\n",
    "gsGBC = GridSearchCV(GBC,param_grid = gb_param_grid, cv=kfold, scoring=\"accuracy\", n_jobs= -1, verbose = 1)\n",
    "\n",
    "gsGBC.fit(X_ok,y)\n",
    "\n",
    "GBC_best = gsGBC.best_estimator_\n",
    "\n",
    "# Best score\n",
    "gsGBC.best_score_"
   ]
  },
  {
   "cell_type": "markdown",
   "metadata": {},
   "source": [
    "GBC_best"
   ]
  },
  {
   "cell_type": "markdown",
   "metadata": {},
   "source": [
    "MLP = MLPClassifier()\n",
    "\n",
    "mlp_param_grid = {'activation' : ['logistic', 'tanh', 'relu'],\n",
    "                 'solver' : ['adam'],\n",
    "                 'alpha' : [0.001, 0.0001],\n",
    "                 'shuffle' : [True],\n",
    "                 'random_state' : [random_state],\n",
    "                 'max_iter' : [300, 500]\n",
    "              }\n",
    "\n",
    "gsMLP = GridSearchCV(MLP, param_grid = mlp_param_grid, cv = kfold, scoring = 'accuracy', n_jobs = -1, verbose = 1)\n",
    "\n",
    "gsMLP.fit(X_ok, y)\n",
    "\n",
    "MLP_best = gsMLP.best_estimator_\n",
    "\n",
    "gsMLP.best_score_\n"
   ]
  },
  {
   "cell_type": "markdown",
   "metadata": {},
   "source": [
    "MLP_best"
   ]
  },
  {
   "cell_type": "code",
   "execution_count": 75,
   "metadata": {},
   "outputs": [],
   "source": [
    "votingC = VotingClassifier(estimators=[('rfc', RandomForestClassifier(max_features = 10, min_samples_leaf=3, \n",
    "                                                                      min_samples_split=10,\n",
    "                                                                      random_state=random_state)),\n",
    "                    ('extc', ExtraTreesClassifier(random_state = random_state)),\n",
    "                    ('lda', LinearDiscriminantAnalysis()),\n",
    "                    ('mlp', MLPClassifier(random_state=random_state)),                  \n",
    "                    ('gbc', GradientBoostingClassifier(random_state = random_state))],\n",
    "                          voting = 'soft', n_jobs = 6)\n",
    "\n",
    "#no elijo el SVC porque lo probe y va peor.. raro porque en el analisis de arriba me daba que era el mejor.\n",
    "votingC = votingC.fit(X_ok, y)\n",
    "\n",
    "#deberias probar con una log reg con hyperparameters distintos"
   ]
  },
  {
   "cell_type": "code",
   "execution_count": 76,
   "metadata": {},
   "outputs": [
    {
     "data": {
      "text/plain": [
       "0.8504842074025696"
      ]
     },
     "execution_count": 76,
     "metadata": {},
     "output_type": "execute_result"
    }
   ],
   "source": [
    "voting_score = cross_val_score(votingC, X_ok, y, cv = kfold, scoring = 'f1', n_jobs = 6)\n",
    "voting_score.mean()\n",
    "\n",
    "#es casi igual que el Random Forest optimizado"
   ]
  },
  {
   "cell_type": "code",
   "execution_count": 77,
   "metadata": {},
   "outputs": [
    {
     "data": {
      "text/plain": [
       "array([[1283,  188],\n",
       "       [   1, 4316]], dtype=int64)"
      ]
     },
     "execution_count": 77,
     "metadata": {},
     "output_type": "execute_result"
    }
   ],
   "source": [
    "#para tener una mejor idea de como le esta calzando o errando, veo la confussion matrix,\n",
    "#que me tira, sobre predicciones hechas en el train set, comparando con las labels\n",
    "#la cantidad de true y false positives, e idem para los negatives\n",
    "#1225 veces predijo bien el fracaso (true negative), y 216 predijo mal el exito (falso positivo)\n",
    "#0 veces predijo mal el fracaso (falso negativo) y 4317 que era exitosa y si fue (true positive)\n",
    "from sklearn.metrics import confusion_matrix\n",
    "y_pred = votingC.predict(X_ok)\n",
    "confusion_matrix(y, y_pred)"
   ]
  },
  {
   "cell_type": "code",
   "execution_count": 78,
   "metadata": {},
   "outputs": [
    {
     "name": "stdout",
     "output_type": "stream",
     "text": [
      "Precision =  0.9582593250444049\n",
      "Recall =  0.9997683576557794\n"
     ]
    }
   ],
   "source": [
    "from sklearn.metrics import precision_score, recall_score\n",
    "\n",
    "print('Precision = ', precision_score(y, y_pred)) # TP/(TP + FP) ... Que tan precisos fueron mis positivos %\n",
    "print('Recall = ', recall_score(y, y_pred))       # TP/(TP + FN) ... cuantos falsos negativos me mande %\n",
    "\n",
    "#confirmamos esto en la confussion matrix!"
   ]
  },
  {
   "cell_type": "code",
   "execution_count": 79,
   "metadata": {},
   "outputs": [
    {
     "data": {
      "text/plain": [
       "0.9549856585022007"
      ]
     },
     "execution_count": 79,
     "metadata": {},
     "output_type": "execute_result"
    }
   ],
   "source": [
    "#computamos el f value, que es una metrica que combina precision y recall con la harmonic mean\n",
    "#que es una media que le da mucha mas bola al low value del calculo\n",
    "from sklearn.metrics import f1_score\n",
    "f1_score(y, y_pred, average = 'macro')"
   ]
  },
  {
   "cell_type": "code",
   "execution_count": 80,
   "metadata": {},
   "outputs": [],
   "source": [
    "#Prediccion\n",
    "\n",
    "y_pred = votingC.predict(test_ok) #ahora si predecimos sobre el test set\n",
    "\n",
    "submission = pd.DataFrame({\n",
    "        \"id\": test_ok.index,\n",
    "        \"rating\": y_pred})\n",
    "\n",
    "submission.to_csv('submission.csv', index = False )"
   ]
  }
 ],
 "metadata": {
  "kernelspec": {
   "display_name": "Python 3",
   "language": "python",
   "name": "python3"
  },
  "language_info": {
   "codemirror_mode": {
    "name": "ipython",
    "version": 3
   },
   "file_extension": ".py",
   "mimetype": "text/x-python",
   "name": "python",
   "nbconvert_exporter": "python",
   "pygments_lexer": "ipython3",
   "version": "3.8.3"
  }
 },
 "nbformat": 4,
 "nbformat_minor": 4
}
