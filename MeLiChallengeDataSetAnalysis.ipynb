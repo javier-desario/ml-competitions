{
 "cells": [
  {
   "cell_type": "markdown",
   "metadata": {},
   "source": [
    "# MeLiChallenge\n",
    "\n",
    "### MODELO BASADO EN EL ITEM MAS VISTO, USADO COMO KEY PARA \n",
    "### JOIN CON LA META DATA"
   ]
  },
  {
   "cell_type": "markdown",
   "metadata": {},
   "source": [
    "Continuacion de la Notebook MeLiChallengeCustomDataSetPrep"
   ]
  },
  {
   "cell_type": "markdown",
   "metadata": {},
   "source": [
    "El objetivo es averiguar que tan relacionado esta el item mas visto por el usuario con el item que finalizo comprando\n",
    "Para tener una idea del bias que tendra el modelo de entrada en base a los datos provistos."
   ]
  },
  {
   "cell_type": "code",
   "execution_count": 1,
   "metadata": {},
   "outputs": [],
   "source": [
    "import numpy as np\n",
    "import pandas as pd\n",
    "import matplotlib.pyplot as plt\n",
    "import seaborn as sns\n",
    "import re\n",
    "import datetime\n",
    "\n",
    "sns.set()"
   ]
  },
  {
   "cell_type": "code",
   "execution_count": 2,
   "metadata": {},
   "outputs": [],
   "source": [
    "trainpath = 'C:\\\\Users\\\\desar\\\\OneDrive\\\\Escritorio\\\\data_science\\\\MeLi Challenge\\\\train_set.csv'\n",
    "testpath = 'C:\\\\Users\\\\desar\\\\OneDrive\\\\Escritorio\\\\data_science\\\\MeLi Challenge\\\\test_set.csv'\n",
    "itempath = 'C:\\\\Users\\\\desar\\\\OneDrive\\\\Escritorio\\\\data_science\\\\MeLi Challenge\\\\item_data.csv'\n",
    "\n",
    "train = pd.read_csv(trainpath, parse_dates = ['time_buy'])\n",
    "test = pd.read_csv(testpath, parse_dates = ['time_buy'])\n",
    "items = pd.read_csv(itempath)"
   ]
  },
  {
   "cell_type": "code",
   "execution_count": 3,
   "metadata": {},
   "outputs": [
    {
     "data": {
      "text/plain": [
       "((413163, 9), (177070, 8))"
      ]
     },
     "execution_count": 3,
     "metadata": {},
     "output_type": "execute_result"
    }
   ],
   "source": [
    "train.shape, test.shape"
   ]
  },
  {
   "cell_type": "code",
   "execution_count": 4,
   "metadata": {},
   "outputs": [
    {
     "name": "stdout",
     "output_type": "stream",
     "text": [
      "<class 'pandas.core.frame.DataFrame'>\n",
      "RangeIndex: 413163 entries, 0 to 413162\n",
      "Data columns (total 9 columns):\n",
      " #   Column          Non-Null Count   Dtype  \n",
      "---  ------          --------------   -----  \n",
      " 0   item_bought     413163 non-null  int64  \n",
      " 1   m_view_veces    386390 non-null  float64\n",
      " 2   most_view       386390 non-null  float64\n",
      " 3   most_view_2     315574 non-null  float64\n",
      " 4   most_view_3     267727 non-null  float64\n",
      " 5   art_vistos      413163 non-null  int64  \n",
      " 6   time_buy        413163 non-null  object \n",
      " 7   view_entries    413163 non-null  int64  \n",
      " 8   search_entries  413163 non-null  int64  \n",
      "dtypes: float64(4), int64(4), object(1)\n",
      "memory usage: 28.4+ MB\n"
     ]
    }
   ],
   "source": [
    "train.info()"
   ]
  },
  {
   "cell_type": "code",
   "execution_count": 5,
   "metadata": {
    "scrolled": true
   },
   "outputs": [],
   "source": [
    "train['time_buy'] = train['time_buy'].str.replace('.000000000', '')\n",
    "test['time_buy'] = test['time_buy'].str.replace('.000000000', '')"
   ]
  },
  {
   "cell_type": "code",
   "execution_count": 6,
   "metadata": {},
   "outputs": [
    {
     "data": {
      "text/html": [
       "<div>\n",
       "<style scoped>\n",
       "    .dataframe tbody tr th:only-of-type {\n",
       "        vertical-align: middle;\n",
       "    }\n",
       "\n",
       "    .dataframe tbody tr th {\n",
       "        vertical-align: top;\n",
       "    }\n",
       "\n",
       "    .dataframe thead th {\n",
       "        text-align: right;\n",
       "    }\n",
       "</style>\n",
       "<table border=\"1\" class=\"dataframe\">\n",
       "  <thead>\n",
       "    <tr style=\"text-align: right;\">\n",
       "      <th></th>\n",
       "      <th>item_id</th>\n",
       "      <th>title</th>\n",
       "      <th>domain_id</th>\n",
       "      <th>product_id</th>\n",
       "      <th>price</th>\n",
       "      <th>category_id</th>\n",
       "      <th>condition</th>\n",
       "    </tr>\n",
       "  </thead>\n",
       "  <tbody>\n",
       "    <tr>\n",
       "      <th>0</th>\n",
       "      <td>111260</td>\n",
       "      <td>Casa Sola En Venta Con Gran Patio Solo Pago De...</td>\n",
       "      <td>MLM-INDIVIDUAL_HOUSES_FOR_SALE</td>\n",
       "      <td>NaN</td>\n",
       "      <td>1150000.00</td>\n",
       "      <td>MLM170527</td>\n",
       "      <td>new</td>\n",
       "    </tr>\n",
       "    <tr>\n",
       "      <th>1</th>\n",
       "      <td>871377</td>\n",
       "      <td>Resident Evil Origins Collection Nintendo Swit...</td>\n",
       "      <td>MLM-VIDEO_GAMES</td>\n",
       "      <td>15270800.0</td>\n",
       "      <td>1392.83</td>\n",
       "      <td>MLM151595</td>\n",
       "      <td>new</td>\n",
       "    </tr>\n",
       "    <tr>\n",
       "      <th>2</th>\n",
       "      <td>490232</td>\n",
       "      <td>Falda De Imitación Piel Negra</td>\n",
       "      <td>MLM-SKIRTS</td>\n",
       "      <td>NaN</td>\n",
       "      <td>350.00</td>\n",
       "      <td>MLM7697</td>\n",
       "      <td>new</td>\n",
       "    </tr>\n",
       "    <tr>\n",
       "      <th>3</th>\n",
       "      <td>1150706</td>\n",
       "      <td>Powercolor Red Devil Radeon Rx 580 8gb Gddr5</td>\n",
       "      <td>MLM-GRAPHICS_CARDS</td>\n",
       "      <td>NaN</td>\n",
       "      <td>3200.00</td>\n",
       "      <td>MLM9761</td>\n",
       "      <td>used</td>\n",
       "    </tr>\n",
       "    <tr>\n",
       "      <th>4</th>\n",
       "      <td>934912</td>\n",
       "      <td>Laptop Hp Nx6320 Core Duo Con Puerto Db9 Windo...</td>\n",
       "      <td>MLM-NOTEBOOKS</td>\n",
       "      <td>NaN</td>\n",
       "      <td>1599.00</td>\n",
       "      <td>MLM1652</td>\n",
       "      <td>used</td>\n",
       "    </tr>\n",
       "  </tbody>\n",
       "</table>\n",
       "</div>"
      ],
      "text/plain": [
       "   item_id                                              title  \\\n",
       "0   111260  Casa Sola En Venta Con Gran Patio Solo Pago De...   \n",
       "1   871377  Resident Evil Origins Collection Nintendo Swit...   \n",
       "2   490232                      Falda De Imitación Piel Negra   \n",
       "3  1150706       Powercolor Red Devil Radeon Rx 580 8gb Gddr5   \n",
       "4   934912  Laptop Hp Nx6320 Core Duo Con Puerto Db9 Windo...   \n",
       "\n",
       "                        domain_id  product_id       price category_id  \\\n",
       "0  MLM-INDIVIDUAL_HOUSES_FOR_SALE         NaN  1150000.00   MLM170527   \n",
       "1                 MLM-VIDEO_GAMES  15270800.0     1392.83   MLM151595   \n",
       "2                      MLM-SKIRTS         NaN      350.00     MLM7697   \n",
       "3              MLM-GRAPHICS_CARDS         NaN     3200.00     MLM9761   \n",
       "4                   MLM-NOTEBOOKS         NaN     1599.00     MLM1652   \n",
       "\n",
       "  condition  \n",
       "0       new  \n",
       "1       new  \n",
       "2       new  \n",
       "3      used  \n",
       "4      used  "
      ]
     },
     "execution_count": 6,
     "metadata": {},
     "output_type": "execute_result"
    }
   ],
   "source": [
    "items.head()"
   ]
  },
  {
   "cell_type": "code",
   "execution_count": 7,
   "metadata": {},
   "outputs": [
    {
     "data": {
      "text/plain": [
       "(11493, 7894, 87831)"
      ]
     },
     "execution_count": 7,
     "metadata": {},
     "output_type": "execute_result"
    }
   ],
   "source": [
    "len(items['category_id'].unique()), len(items['domain_id'].unique()), len(items['product_id'].unique())"
   ]
  },
  {
   "cell_type": "code",
   "execution_count": 8,
   "metadata": {},
   "outputs": [
    {
     "data": {
      "text/plain": [
       "True     1805749\n",
       "False     296528\n",
       "Name: product_id, dtype: int64"
      ]
     },
     "execution_count": 8,
     "metadata": {},
     "output_type": "execute_result"
    }
   ],
   "source": [
    "items['product_id'].isna().value_counts() \n",
    "#puro NaNs el Product Id\n",
    "#puede ser porque los productos estandarizados o reg lo tienen y el resto no! tenes que ver mas!!\n",
    "#aparentemente no.."
   ]
  },
  {
   "cell_type": "code",
   "execution_count": 9,
   "metadata": {
    "scrolled": true
   },
   "outputs": [
    {
     "data": {
      "text/html": [
       "<div>\n",
       "<style scoped>\n",
       "    .dataframe tbody tr th:only-of-type {\n",
       "        vertical-align: middle;\n",
       "    }\n",
       "\n",
       "    .dataframe tbody tr th {\n",
       "        vertical-align: top;\n",
       "    }\n",
       "\n",
       "    .dataframe thead th {\n",
       "        text-align: right;\n",
       "    }\n",
       "</style>\n",
       "<table border=\"1\" class=\"dataframe\">\n",
       "  <thead>\n",
       "    <tr style=\"text-align: right;\">\n",
       "      <th></th>\n",
       "      <th>item_id</th>\n",
       "      <th>domain_id</th>\n",
       "      <th>price</th>\n",
       "      <th>category_id</th>\n",
       "      <th>condition</th>\n",
       "    </tr>\n",
       "  </thead>\n",
       "  <tbody>\n",
       "    <tr>\n",
       "      <th>2102275</th>\n",
       "      <td>237229</td>\n",
       "      <td>MLB-DISPOSABLE_BABY_DIAPERS</td>\n",
       "      <td>26.90</td>\n",
       "      <td>MLB40629</td>\n",
       "      <td>new</td>\n",
       "    </tr>\n",
       "    <tr>\n",
       "      <th>2102276</th>\n",
       "      <td>2010306</td>\n",
       "      <td>MLB-VEHICLE_ACCESSORIES</td>\n",
       "      <td>64.99</td>\n",
       "      <td>MLB117639</td>\n",
       "      <td>new</td>\n",
       "    </tr>\n",
       "  </tbody>\n",
       "</table>\n",
       "</div>"
      ],
      "text/plain": [
       "         item_id                    domain_id  price category_id condition\n",
       "2102275   237229  MLB-DISPOSABLE_BABY_DIAPERS  26.90    MLB40629       new\n",
       "2102276  2010306      MLB-VEHICLE_ACCESSORIES  64.99   MLB117639       new"
      ]
     },
     "execution_count": 9,
     "metadata": {},
     "output_type": "execute_result"
    }
   ],
   "source": [
    "#al title si lo rajamos\n",
    "\n",
    "items.drop(['title', 'product_id'], axis = 1, inplace = True)\n",
    "items.tail(2)"
   ]
  },
  {
   "cell_type": "markdown",
   "metadata": {},
   "source": [
    "MERGING:\n",
    "\n",
    "Debo unir los data sets de item y de user history para empezar ya con el EDA, feature eng y finalmente el modelling.\n",
    "Lo ideal seria usar el Item Bought como key, pero como el test set no lo tiene no es posible.\n",
    "Por este motivo no queda otra que usar el most viewed item como Key.\n",
    "\n",
    "Para eso tengo que ver si los datos del df Items para el most viewed, son similares a los datos para el item \n",
    "Bought, si no lo fueran entonces voy a meter un Bias muy grande al modelo.\n",
    "\n",
    "Analizo entonces un df que contenga los datos del df Items para item bought y para item most viewed.\n",
    "Haciendo un EDA y test de hipotesis para probar la similitud de los datos y de su ditribucion."
   ]
  },
  {
   "cell_type": "code",
   "execution_count": 10,
   "metadata": {},
   "outputs": [
    {
     "data": {
      "text/html": [
       "<div>\n",
       "<style scoped>\n",
       "    .dataframe tbody tr th:only-of-type {\n",
       "        vertical-align: middle;\n",
       "    }\n",
       "\n",
       "    .dataframe tbody tr th {\n",
       "        vertical-align: top;\n",
       "    }\n",
       "\n",
       "    .dataframe thead th {\n",
       "        text-align: right;\n",
       "    }\n",
       "</style>\n",
       "<table border=\"1\" class=\"dataframe\">\n",
       "  <thead>\n",
       "    <tr style=\"text-align: right;\">\n",
       "      <th></th>\n",
       "      <th>item</th>\n",
       "      <th>most_viewed</th>\n",
       "      <th>domain_id</th>\n",
       "      <th>price</th>\n",
       "      <th>category_id</th>\n",
       "      <th>condition</th>\n",
       "    </tr>\n",
       "  </thead>\n",
       "  <tbody>\n",
       "    <tr>\n",
       "      <th>0</th>\n",
       "      <td>1748830</td>\n",
       "      <td>1615991.0</td>\n",
       "      <td>MLB-SMARTWATCHES</td>\n",
       "      <td>90.00</td>\n",
       "      <td>MLB135384</td>\n",
       "      <td>new</td>\n",
       "    </tr>\n",
       "    <tr>\n",
       "      <th>1</th>\n",
       "      <td>228737</td>\n",
       "      <td>228737.0</td>\n",
       "      <td>MLB-MILK_EXTRACTORS</td>\n",
       "      <td>169.00</td>\n",
       "      <td>MLB264021</td>\n",
       "      <td>new</td>\n",
       "    </tr>\n",
       "    <tr>\n",
       "      <th>2</th>\n",
       "      <td>1909110</td>\n",
       "      <td>248595.0</td>\n",
       "      <td>MLB-CELLPHONE_ACCESSORIES</td>\n",
       "      <td>300.00</td>\n",
       "      <td>MLB5092</td>\n",
       "      <td>new</td>\n",
       "    </tr>\n",
       "    <tr>\n",
       "      <th>3</th>\n",
       "      <td>1197370</td>\n",
       "      <td>505541.0</td>\n",
       "      <td>MLB-CARD_PAYMENT_TERMINALS</td>\n",
       "      <td>16.90</td>\n",
       "      <td>MLB277951</td>\n",
       "      <td>new</td>\n",
       "    </tr>\n",
       "    <tr>\n",
       "      <th>4</th>\n",
       "      <td>2049207</td>\n",
       "      <td>1313192.0</td>\n",
       "      <td>MLB-SMARTWATCHES</td>\n",
       "      <td>355.99</td>\n",
       "      <td>MLB135384</td>\n",
       "      <td>new</td>\n",
       "    </tr>\n",
       "  </tbody>\n",
       "</table>\n",
       "</div>"
      ],
      "text/plain": [
       "      item  most_viewed                   domain_id   price category_id  \\\n",
       "0  1748830    1615991.0            MLB-SMARTWATCHES   90.00   MLB135384   \n",
       "1   228737     228737.0         MLB-MILK_EXTRACTORS  169.00   MLB264021   \n",
       "2  1909110     248595.0   MLB-CELLPHONE_ACCESSORIES  300.00     MLB5092   \n",
       "3  1197370     505541.0  MLB-CARD_PAYMENT_TERMINALS   16.90   MLB277951   \n",
       "4  2049207    1313192.0            MLB-SMARTWATCHES  355.99   MLB135384   \n",
       "\n",
       "  condition  \n",
       "0       new  \n",
       "1       new  \n",
       "2       new  \n",
       "3       new  \n",
       "4       new  "
      ]
     },
     "execution_count": 10,
     "metadata": {},
     "output_type": "execute_result"
    }
   ],
   "source": [
    "#Creo el df KEYS TEST desde el train y el items set\n",
    "\n",
    "keys_test = pd.DataFrame({'item': train['item_bought'], 'most_viewed': train['most_view']})\n",
    "items.rename(columns = {'item_id': 'item'}, inplace = True)\n",
    "keys_test = pd.merge(keys_test, items, on='item', how='left')\n",
    "keys_test.dropna(inplace = True) #me saco los datos que no me den info..\n",
    "keys_test.head()"
   ]
  },
  {
   "cell_type": "code",
   "execution_count": 11,
   "metadata": {},
   "outputs": [
    {
     "data": {
      "text/html": [
       "<div>\n",
       "<style scoped>\n",
       "    .dataframe tbody tr th:only-of-type {\n",
       "        vertical-align: middle;\n",
       "    }\n",
       "\n",
       "    .dataframe tbody tr th {\n",
       "        vertical-align: top;\n",
       "    }\n",
       "\n",
       "    .dataframe thead th {\n",
       "        text-align: right;\n",
       "    }\n",
       "</style>\n",
       "<table border=\"1\" class=\"dataframe\">\n",
       "  <thead>\n",
       "    <tr style=\"text-align: right;\">\n",
       "      <th></th>\n",
       "      <th>item</th>\n",
       "      <th>item_most_view</th>\n",
       "      <th>domain_id_x</th>\n",
       "      <th>price_x</th>\n",
       "      <th>category_id_x</th>\n",
       "      <th>condition_x</th>\n",
       "      <th>domain_id_y</th>\n",
       "      <th>price_y</th>\n",
       "      <th>category_id_y</th>\n",
       "      <th>condition_y</th>\n",
       "    </tr>\n",
       "  </thead>\n",
       "  <tbody>\n",
       "    <tr>\n",
       "      <th>0</th>\n",
       "      <td>1748830</td>\n",
       "      <td>1615991.0</td>\n",
       "      <td>MLB-SMARTWATCHES</td>\n",
       "      <td>90.00</td>\n",
       "      <td>MLB135384</td>\n",
       "      <td>new</td>\n",
       "      <td>MLB-SMARTWATCHES</td>\n",
       "      <td>79.71</td>\n",
       "      <td>MLB135384</td>\n",
       "      <td>new</td>\n",
       "    </tr>\n",
       "    <tr>\n",
       "      <th>1</th>\n",
       "      <td>228737</td>\n",
       "      <td>228737.0</td>\n",
       "      <td>MLB-MILK_EXTRACTORS</td>\n",
       "      <td>169.00</td>\n",
       "      <td>MLB264021</td>\n",
       "      <td>new</td>\n",
       "      <td>MLB-MILK_EXTRACTORS</td>\n",
       "      <td>169.00</td>\n",
       "      <td>MLB264021</td>\n",
       "      <td>new</td>\n",
       "    </tr>\n",
       "    <tr>\n",
       "      <th>2</th>\n",
       "      <td>1909110</td>\n",
       "      <td>248595.0</td>\n",
       "      <td>MLB-CELLPHONE_ACCESSORIES</td>\n",
       "      <td>300.00</td>\n",
       "      <td>MLB5092</td>\n",
       "      <td>new</td>\n",
       "      <td>MLB-TOWEL_SETS</td>\n",
       "      <td>139.00</td>\n",
       "      <td>MLB186353</td>\n",
       "      <td>new</td>\n",
       "    </tr>\n",
       "    <tr>\n",
       "      <th>3</th>\n",
       "      <td>1197370</td>\n",
       "      <td>505541.0</td>\n",
       "      <td>MLB-CARD_PAYMENT_TERMINALS</td>\n",
       "      <td>16.90</td>\n",
       "      <td>MLB277951</td>\n",
       "      <td>new</td>\n",
       "      <td>MLB-COMPUTER_EQUIPMENT_AND_SPARE_PARTS</td>\n",
       "      <td>14.99</td>\n",
       "      <td>MLB1730</td>\n",
       "      <td>used</td>\n",
       "    </tr>\n",
       "    <tr>\n",
       "      <th>4</th>\n",
       "      <td>2049207</td>\n",
       "      <td>1313192.0</td>\n",
       "      <td>MLB-SMARTWATCHES</td>\n",
       "      <td>355.99</td>\n",
       "      <td>MLB135384</td>\n",
       "      <td>new</td>\n",
       "      <td>MLB-KIDS_TENTS</td>\n",
       "      <td>199.99</td>\n",
       "      <td>MLB278224</td>\n",
       "      <td>new</td>\n",
       "    </tr>\n",
       "  </tbody>\n",
       "</table>\n",
       "</div>"
      ],
      "text/plain": [
       "      item  item_most_view                 domain_id_x  price_x category_id_x  \\\n",
       "0  1748830       1615991.0            MLB-SMARTWATCHES    90.00     MLB135384   \n",
       "1   228737        228737.0         MLB-MILK_EXTRACTORS   169.00     MLB264021   \n",
       "2  1909110        248595.0   MLB-CELLPHONE_ACCESSORIES   300.00       MLB5092   \n",
       "3  1197370        505541.0  MLB-CARD_PAYMENT_TERMINALS    16.90     MLB277951   \n",
       "4  2049207       1313192.0            MLB-SMARTWATCHES   355.99     MLB135384   \n",
       "\n",
       "  condition_x                             domain_id_y  price_y category_id_y  \\\n",
       "0         new                        MLB-SMARTWATCHES    79.71     MLB135384   \n",
       "1         new                     MLB-MILK_EXTRACTORS   169.00     MLB264021   \n",
       "2         new                          MLB-TOWEL_SETS   139.00     MLB186353   \n",
       "3         new  MLB-COMPUTER_EQUIPMENT_AND_SPARE_PARTS    14.99       MLB1730   \n",
       "4         new                          MLB-KIDS_TENTS   199.99     MLB278224   \n",
       "\n",
       "  condition_y  \n",
       "0         new  \n",
       "1         new  \n",
       "2         new  \n",
       "3        used  \n",
       "4         new  "
      ]
     },
     "execution_count": 11,
     "metadata": {},
     "output_type": "execute_result"
    }
   ],
   "source": [
    "#Ahora sumo el los datos para most viewed\n",
    "\n",
    "items.rename(columns = {'item': 'item_most_view'}, inplace = True)\n",
    "keys_test.rename(columns = {'most_viewed': 'item_most_view'}, inplace = True)\n",
    "keys_test = pd.merge(keys_test, items, on='item_most_view', how='left')\n",
    "keys_test.head()\n",
    "\n",
    "#_x son los datos del item bought\n",
    "#_y son los datos del item most viewed "
   ]
  },
  {
   "cell_type": "code",
   "execution_count": 12,
   "metadata": {},
   "outputs": [],
   "source": [
    "keys_test['price_x'] = keys_test['price_x'].astype(float)\n",
    "keys_test['price_y'] = keys_test['price_y'].astype(float)"
   ]
  },
  {
   "cell_type": "code",
   "execution_count": 19,
   "metadata": {},
   "outputs": [
    {
     "data": {
      "text/plain": [
       "False    386343\n",
       "Name: price_y, dtype: int64"
      ]
     },
     "execution_count": 19,
     "metadata": {},
     "output_type": "execute_result"
    }
   ],
   "source": [
    "#Rajo los Nans\n",
    "\n",
    "keys_test['price_y'].dropna(inplace = True)\n",
    "keys_test['price_y'].isnull().value_counts()"
   ]
  },
  {
   "cell_type": "code",
   "execution_count": 14,
   "metadata": {},
   "outputs": [
    {
     "name": "stdout",
     "output_type": "stream",
     "text": [
      "x:  3064.4111316047743 509508.99525978655\n",
      "y:  26314.04384489184 7259692.241326009\n",
      "Diferencia de means:  -23249.632713287065\n",
      "Diferencia de std:  -6750183.246066222\n",
      "Medianas:  139.95 164.0\n",
      "Quartiles x:  [ 6.25    10.      11.79    12.85501]\n",
      "Quartiles y:  [ 8.38985 10.9     12.99    14.18   ]\n"
     ]
    }
   ],
   "source": [
    "#Podemos hacer un test de hipotesis para probar que la media del precio de ambos es igual\n",
    "#Pero antes vemos la media observada\n",
    "\n",
    "def mean_std_dev(x,y):\n",
    "    '''Devuelve info de media y varianzas'''\n",
    "    x.sort_values()\n",
    "    y.sort_values()\n",
    "    print('x: ', np.mean(x), np.std(x))\n",
    "    print('y: ', np.mean(y), np.std(y))\n",
    "    print('Diferencia de means: ', np.mean(x) - np.mean(y))\n",
    "    print('Diferencia de std: ', np.std(x) - np.std(y))\n",
    "    print('Medianas: ', np.median(x), np.median(y))\n",
    "    print('Quartiles x: ', np.percentile(x, [0.25, 0.5, 0.75, 0.9]))\n",
    "    print('Quartiles y: ', np.percentile(y, [0.25, 0.5, 0.75, 0.9]))\n",
    "    \n",
    "mean_std_dev(keys_test['price_x'], keys_test['price_y'])\n",
    "\n",
    "#Nada que ver las medias..."
   ]
  },
  {
   "cell_type": "markdown",
   "metadata": {},
   "source": [
    "vemos si la distribucion de precios es similar.\n",
    "es la unica var numerica que tengo asi que me sirve para ver graficamente la relacion"
   ]
  },
  {
   "cell_type": "code",
   "execution_count": 15,
   "metadata": {},
   "outputs": [
    {
     "data": {
      "image/png": "[encoded data removed]",
      "text/plain": [
       "<Figure size 432x288 with 1 Axes>"
      ]
     },
     "metadata": {},
     "output_type": "display_data"
    }
   ],
   "source": [
    "#Tengo que recortar outliers, sino el plot va a salir para muy fuera de escala sino\n",
    "\n",
    "keys_test.loc[keys_test['price_x'] > 200000, 'price_x'] = 200000\n",
    "keys_test.loc[keys_test['price_y'] > 200000, 'price_y'] = 200000\n",
    "\n",
    "_= plt.plot(keys_test['price_x'], keys_test['price_y'], marker = '.', linestyle = 'none')\n",
    "_= plt.xlabel('precio item comprado')\n",
    "_= plt.ylabel('precio item visto')\n",
    "plt.show()"
   ]
  },
  {
   "cell_type": "markdown",
   "metadata": {},
   "source": [
    "A primera vista, pareciera que el item visto es mucho mas caro que el comprado, \n",
    "pero este plot no nos da una idea de la distribucion acumulada de los datos\n",
    "\n",
    "Se ve el conjunto de puntos en el valor 200000 ya que ahi realice el recorte de datos"
   ]
  },
  {
   "cell_type": "code",
   "execution_count": 16,
   "metadata": {
    "scrolled": true
   },
   "outputs": [
    {
     "data": {
      "image/png": "[encoded data removed]",
      "text/plain": [
       "<Figure size 1080x360 with 1 Axes>"
      ]
     },
     "metadata": {},
     "output_type": "display_data"
    }
   ],
   "source": [
    "#Ploteamos curva de distribucion acumulada\n",
    "\n",
    "plt.figure(figsize =(15,5))\n",
    "\n",
    "def ecdf(series):\n",
    "    '''Devuelve grafico de dist acumulada'''\n",
    "    x = np.sort(series)\n",
    "    y = np.arange(1, len(series)+1) / len(series)\n",
    "    _ = plt.plot(x, y, marker='.', linestyle='none')\n",
    "    _ = plt.xlabel('Values del df')\n",
    "    _ = plt.ylabel('ECDF')\n",
    "    _ = plt.legend(series, loc = 'lower right')\n",
    "    plt.margins(0.02)\n",
    "    \n",
    "ecdf(keys_test['price_x'])\n",
    "ecdf(keys_test['price_y'])   "
   ]
  },
  {
   "cell_type": "markdown",
   "metadata": {},
   "source": [
    "se observa una similitud en la distribucion..\n",
    "es decir que el keys_test['price_x']scatter plot si bien era muy distinto, \n",
    "esa diferencia corresponde a muy pocos puntos "
   ]
  },
  {
   "cell_type": "code",
   "execution_count": 17,
   "metadata": {
    "scrolled": true
   },
   "outputs": [
    {
     "data": {
      "image/png": "[encoded data removed]",
      "text/plain": [
       "<Figure size 432x288 with 1 Axes>"
      ]
     },
     "metadata": {},
     "output_type": "display_data"
    }
   ],
   "source": [
    "#Seria mejor ver todos esos datos en un box plot\n",
    "\n",
    "price_x = pd.DataFrame({'Precio': keys_test['price_x']})\n",
    "price_y = pd.DataFrame({'Precio': keys_test['price_y']})\n",
    "\n",
    "price_x['Item'] = 'Comprado'\n",
    "price_y['Item'] = 'Visto'\n",
    "\n",
    "box_df = pd.concat([price_x, price_y], axis = 0)\n",
    "box_df.Precio = box_df.Precio.astype('float')\n",
    "\n",
    "box_df.loc[box_df['Precio'] > 1500, 'Precio'] = 1500 #recortando el Price a este nivel es visible el boxplot\n",
    "#Puedo hacer esto ya que del ecdf veo que por arriba de 2000 son outliers..\n",
    "\n",
    "box_df.sort_values(by = 'Precio', ascending = True, inplace = True)\n",
    "box_df.dropna(inplace = True)\n",
    "\n",
    "_= sns.boxplot(x = 'Item', y = 'Precio', data = box_df)\n",
    "_= plt.title('Relacion de precios entre item bought y most viewed')"
   ]
  },
  {
   "cell_type": "code",
   "execution_count": 20,
   "metadata": {},
   "outputs": [
    {
     "data": {
      "image/png": "[encoded data removed]",
      "text/plain": [
       "<Figure size 432x288 with 1 Axes>"
      ]
     },
     "metadata": {},
     "output_type": "display_data"
    },
    {
     "data": {
      "image/png": "[encoded data removed]",
      "text/plain": [
       "<Figure size 432x288 with 1 Axes>"
      ]
     },
     "metadata": {},
     "output_type": "display_data"
    }
   ],
   "source": [
    "#analizamos la pdf de las medias de cada precio, a ver si si distribucion coincide en algun punto..\n",
    "\n",
    "np.random.seed(42)\n",
    "\n",
    "def bootstrap_replicate_1d(data, func):\n",
    "    \"\"\"Devuelve bootstrap replicates de un array unidimensional\"\"\"\n",
    "    bs_sample = np.random.choice(data, len(data))\n",
    "    return func(bs_sample)\n",
    "\n",
    "bs_replicates_x = np.empty(1000)\n",
    "bs_replicates_y = np.empty(1000)\n",
    "\n",
    "for i in range(1000):\n",
    "    bs_replicates_x[i] = bootstrap_replicate_1d(keys_test['price_x'], np.median)\n",
    "    bs_replicates_y[i] = bootstrap_replicate_1d(keys_test['price_y'], np.median)\n",
    "    \n",
    "_ = plt.hist(bs_replicates_x, bins=30, color = 'orange')\n",
    "\n",
    "plt.show()\n",
    "\n",
    "_ = plt.hist(bs_replicates_y, bins=30, color = 'blue')\n",
    "_ = plt.xlabel('Mediana en el price')\n",
    "_ = plt.ylabel('PDF')\n",
    "\n",
    "plt.show()    \n",
    "\n",
    "#Ni cerca ni por chance son iguales.."
   ]
  },
  {
   "cell_type": "code",
   "execution_count": 21,
   "metadata": {},
   "outputs": [
    {
     "name": "stdout",
     "output_type": "stream",
     "text": [
      "x:  323.9992038388468 417.8949227448426\n",
      "y:  323.9992038388468 417.8949227448426\n",
      "Diferencia de means:  0.0\n",
      "Diferencia de std:  0.0\n",
      "Medianas:  149.9 149.9\n",
      "Quartiles x:  [ 7.6766 10.     12.     13.5   ]\n",
      "Quartiles y:  [ 7.6766 10.     12.     13.5   ]\n"
     ]
    }
   ],
   "source": [
    "mean_std_dev(box_df['Precio'], box_df['Precio'])"
   ]
  },
  {
   "cell_type": "code",
   "execution_count": 39,
   "metadata": {},
   "outputs": [
    {
     "data": {
      "image/png": "[encoded data removed]",
      "text/plain": [
       "<Figure size 720x360 with 1 Axes>"
      ]
     },
     "metadata": {},
     "output_type": "display_data"
    }
   ],
   "source": [
    "#Veamos si el resto de los datos coinciden al menos\n",
    "#Al precio lo incluyo como que coincide si esta contenido en un rango mayor o igual a 150 dolares del precio_y\n",
    "\n",
    "_= plt.figure(figsize=(10,5))\n",
    "\n",
    "keys_test['igual_cat'] = 0 #inicializo la columna donde voy a guardar la info\n",
    "keys_test.loc[keys_test['category_id_x'] == keys_test['category_id_y'], 'igual_cat'] = 1\n",
    "_= keys_test['igual_cat'].value_counts().plot(kind = 'bar', width=0.5, color='r', alpha=0.7, label = 'Category')\n",
    "\n",
    "keys_test['igual_dom'] = 0 \n",
    "keys_test.loc[keys_test['domain_id_x'] == keys_test['domain_id_y'], 'igual_dom'] = 1\n",
    "_= keys_test['igual_dom'].value_counts().plot(kind = 'bar', width= 1, color='b', alpha=0.5, label ='Domain')\n",
    "\n",
    "keys_test['igual_cond'] = 0 \n",
    "keys_test.loc[keys_test['condition_x'] == keys_test['condition_y'], 'igual_cond'] = 1\n",
    "_= keys_test['igual_cond'].value_counts().plot(kind = 'bar', width= 0.2, color='g', alpha=0.9, label ='Condition')\n",
    "\n",
    "keys_test['sim_precio'] = 0\n",
    "keys_test.loc[(keys_test['price_x'] >= keys_test['price_y'] - 150) & \n",
    "              (keys_test['price_x'] <= keys_test['price_y'] + 150), 'sim_precio'] = 1\n",
    "_= keys_test['sim_precio'].value_counts().plot(kind = 'bar', width= 0.1, color='black', alpha=0.6, label ='Precio')\n",
    "\n",
    "_= plt.title('Igualdad de datos entre Item bought e Item most Viewed')\n",
    "_= plt.legend()\n",
    "_= plt.xticks([0, 1], ['No coincide', 'Si coincide'])\n",
    "_= plt.ylabel('Cantidad de datos')\n",
    "\n",
    "plt.show()"
   ]
  },
  {
   "cell_type": "markdown",
   "metadata": {},
   "source": [
    "CONCLUSION\n",
    "\n",
    "- 2/3 de los datos categoricos coinciden\n",
    "- En el caso del dato binario (new/used) coincide en un 90%\n",
    "- La distribucion del precio y su mediana es similar, aunque no su mean ni su std.\n",
    "- 2/3 de los precios coinciden en un rango de 150 dolares... lo cual no es un rango muy aceptable..\n",
    "\n",
    "Usar el most viewed item como key va a meter un bias al modelo,\n",
    "Porque lo que el user vio no es lo mismo que lo que compro, en al menos un 30%"
   ]
  },
  {
   "cell_type": "markdown",
   "metadata": {},
   "source": [
    "PASOS A SEGUIR\n",
    "\n",
    "Salio una nota diciendo que el df esta muy biased por esta misma razon, que el historial de busqueda no es adecuado\n",
    "por los mismos motivos vistos arriba.\n",
    "Entonces el Bias este sera inherente a la mayoria de los analisis..\n",
    "Ante esto, se avanza con el item most viewed como key entre ambos df y se elabora el modelo\n",
    "En revisiones posteriores se sumaran otras keys como ultimo item visto, y otras columnas de interes para \n",
    "enriquecer el modelo."
   ]
  }
 ],
 "metadata": {
  "kernelspec": {
   "display_name": "Python 3",
   "language": "python",
   "name": "python3"
  },
  "language_info": {
   "codemirror_mode": {
    "name": "ipython",
    "version": 3
   },
   "file_extension": ".py",
   "mimetype": "text/x-python",
   "name": "python",
   "nbconvert_exporter": "python",
   "pygments_lexer": "ipython3",
   "version": "3.8.3"
  }
 },
 "nbformat": 4,
 "nbformat_minor": 4
}
